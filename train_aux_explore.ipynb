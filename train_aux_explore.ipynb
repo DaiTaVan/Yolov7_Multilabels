{
 "cells": [
  {
   "attachments": {},
   "cell_type": "markdown",
   "metadata": {},
   "source": [
    "# Import library"
   ]
  },
  {
   "cell_type": "code",
   "execution_count": 1,
   "metadata": {},
   "outputs": [],
   "source": [
    "import argparse\n",
    "import logging\n",
    "import math\n",
    "import os\n",
    "import random\n",
    "import time\n",
    "from copy import deepcopy\n",
    "from pathlib import Path\n",
    "from threading import Thread\n",
    "\n",
    "import numpy as np\n",
    "import torch\n",
    "import torch.distributed as dist\n",
    "import torch.nn as nn\n",
    "import torch.nn.functional as F\n",
    "import torch.optim as optim\n",
    "import torch.optim.lr_scheduler as lr_scheduler\n",
    "import torch.utils.data\n",
    "import yaml\n",
    "from torch.cuda import amp\n",
    "from torch.nn.parallel import DistributedDataParallel as DDP\n",
    "from torch.utils.tensorboard import SummaryWriter\n",
    "from tqdm import tqdm\n",
    "\n",
    "import test  # import test.py to get mAP after each epoch\n",
    "from models.experimental import attempt_load\n",
    "from models.yolo import Model\n",
    "from utils.autoanchor import check_anchors\n",
    "from utils.datasets import create_dataloader\n",
    "from utils.general import labels_to_class_weights, increment_path, labels_to_image_weights, init_seeds, \\\n",
    "    fitness, strip_optimizer, get_latest_run, check_dataset, check_file, check_git_status, check_img_size, \\\n",
    "    check_requirements, print_mutation, set_logging, one_cycle, colorstr\n",
    "from utils.google_utils import attempt_download\n",
    "from utils.loss import ComputeLoss, ComputeLossAuxOTA\n",
    "from utils.plots import plot_images, plot_labels, plot_results, plot_evolution\n",
    "from utils.torch_utils import ModelEMA, select_device, intersect_dicts, torch_distributed_zero_first, is_parallel\n",
    "from utils.wandb_logging.wandb_utils import WandbLogger, check_wandb_resume\n",
    "\n",
    "logger = logging.getLogger(__name__)\n",
    "\n",
    "from huggingface_hub import HfApi"
   ]
  },
  {
   "attachments": {},
   "cell_type": "markdown",
   "metadata": {},
   "source": [
    "# Get argument"
   ]
  },
  {
   "cell_type": "code",
   "execution_count": 2,
   "metadata": {},
   "outputs": [],
   "source": [
    "parser = argparse.ArgumentParser()\n",
    "parser.add_argument('--weights', type=str, default='last.pt', help='initial weights path')\n",
    "parser.add_argument('--cfg', type=str, default='cfg/training/image_tagging_training.yaml', help='model.yaml path')\n",
    "parser.add_argument('--data', type=str, default='data/image_tagging_data.yaml', help='data.yaml path')\n",
    "parser.add_argument('--hyp', type=str, default='data/hyp.scratch.custom.yaml', help='hyperparameters path')\n",
    "parser.add_argument('--epochs', type=int, default=10)\n",
    "parser.add_argument('--batch-size', type=int, default=1, help='total batch size for all GPUs')\n",
    "parser.add_argument('--img-size', nargs='+', type=int, default=[1280, 1280], help='[train, test] image sizes')\n",
    "parser.add_argument('--rect', action='store_true', help='rectangular training')\n",
    "parser.add_argument('--resume', nargs='?', const=True, default=False, help='resume most recent training')\n",
    "parser.add_argument('--nosave', action='store_true', help='only save final checkpoint')\n",
    "parser.add_argument('--notest', action='store_true', help='only test final epoch')\n",
    "parser.add_argument('--noautoanchor', action='store_true', help='disable autoanchor check')\n",
    "parser.add_argument('--evolve', action='store_true', help='evolve hyperparameters')\n",
    "parser.add_argument('--bucket', type=str, default='', help='gsutil bucket')\n",
    "parser.add_argument('--cache-images', action='store_true', help='cache images for faster training')\n",
    "parser.add_argument('--image-weights', action='store_true', help='use weighted image selection for training')\n",
    "parser.add_argument('--device', default='0', help='cuda device, i.e. 0 or 0,1,2,3 or cpu')\n",
    "parser.add_argument('--multi-scale', action='store_true', help='vary img-size +/- 50%%')\n",
    "parser.add_argument('--single-cls', action='store_true', help='train multi-class data as single-class')\n",
    "parser.add_argument('--adam', action='store_true', help='use torch.optim.Adam() optimizer')\n",
    "parser.add_argument('--sync-bn', action='store_true', help='use SyncBatchNorm, only available in DDP mode')\n",
    "parser.add_argument('--local_rank', type=int, default=-1, help='DDP parameter, do not modify')\n",
    "parser.add_argument('--workers', type=int, default=8, help='maximum number of dataloader workers')\n",
    "parser.add_argument('--project', default='runs/train', help='save to project/name')\n",
    "parser.add_argument('--entity', default=None, help='W&B entity')\n",
    "parser.add_argument('--name', default='exp', help='save to project/name')\n",
    "parser.add_argument('--exist-ok', action='store_true', help='existing project/name ok, do not increment')\n",
    "parser.add_argument('--quad', action='store_true', help='quad dataloader')\n",
    "parser.add_argument('--linear-lr', action='store_true', help='linear LR')\n",
    "parser.add_argument('--label-smoothing', type=float, default=0.0, help='Label smoothing epsilon')\n",
    "parser.add_argument('--upload_dataset', action='store_true', help='Upload dataset as W&B artifact table')\n",
    "parser.add_argument('--bbox_interval', type=int, default=-1, help='Set bounding-box image logging interval for W&B')\n",
    "parser.add_argument('--save_period', type=int, default=-1, help='Log model after every \"save_period\" epoch')\n",
    "parser.add_argument('--artifact_alias', type=str, default=\"latest\", help='version of dataset artifact to be used')\n",
    "parser.add_argument('--v5-metric', action='store_true', help='assume maximum recall as 1.0 in AP calculation')\n",
    "\n",
    "# to fix bug\n",
    "parser.add_argument(\n",
    "            \"-i\", \"--ip\", help=\"a dummy argument to fool ipython\", default=\"1\")\n",
    "parser.add_argument(\n",
    "    \"-s\", \"--stdin\", help=\"a dummy argument to fool ipython\", default=\"1\")\n",
    "parser.add_argument(\n",
    "    \"-c\", \"--control\", help=\"a dummy argument to fool ipython\", default=\"1\")\n",
    "parser.add_argument(\n",
    "    \"-b\", \"--hb\", help=\"a dummy argument to fool ipython\", default=\"1\")\n",
    "parser.add_argument(\n",
    "    \"-K\", \"--Session.key\", help=\"a dummy argument to fool ipython\", default=\"1\")\n",
    "parser.add_argument(\n",
    "    \"-S\", \"--Session.signature_scheme\", help=\"a dummy argument to fool ipython\", default=\"1\")\n",
    "parser.add_argument(\n",
    "    \"-l\", \"--shell\", help=\"a dummy argument to fool ipython\", default=\"1\")\n",
    "parser.add_argument(\n",
    "    \"-t\", \"--transport\", help=\"a dummy argument to fool ipython\", default=\"1\")\n",
    "parser.add_argument(\n",
    "    \"-o\", \"--iopub\", help=\"a dummy argument to fool ipython\", default=\"1\")\n",
    "parser.add_argument('--f', default = 'runtime_ipynb.json')\n",
    "\n",
    "opt = parser.parse_args()\n",
    "\n",
    "# Set DDP variables\n",
    "opt.world_size = int(os.environ['WORLD_SIZE']) if 'WORLD_SIZE' in os.environ else 1\n",
    "opt.global_rank = int(os.environ['RANK']) if 'RANK' in os.environ else -1\n",
    "set_logging(opt.global_rank)\n",
    "#if opt.global_rank in [-1, 0]:\n",
    "#    check_git_status()\n",
    "#    check_requirements()\n",
    "\n",
    "opt.exist_ok = True"
   ]
  },
  {
   "attachments": {},
   "cell_type": "markdown",
   "metadata": {},
   "source": [
    "# some preprocess"
   ]
  },
  {
   "cell_type": "code",
   "execution_count": 3,
   "metadata": {},
   "outputs": [],
   "source": [
    "wandb_run = check_wandb_resume(opt)\n",
    "if opt.resume and not wandb_run:  # resume an interrupted run\n",
    "    ckpt = opt.resume if isinstance(opt.resume, str) else get_latest_run()  # specified or most recent path\n",
    "    assert os.path.isfile(ckpt), 'ERROR: --resume checkpoint does not exist'\n",
    "    apriori = opt.global_rank, opt.local_rank\n",
    "    with open(Path(ckpt).parent.parent / 'opt.yaml') as f:\n",
    "        opt = argparse.Namespace(**yaml.load(f, Loader=yaml.SafeLoader))  # replace\n",
    "    opt.cfg, opt.weights, opt.resume, opt.batch_size, opt.global_rank, opt.local_rank = '', ckpt, True, opt.total_batch_size, *apriori  # reinstate\n",
    "    logger.info('Resuming training from %s' % ckpt)\n",
    "else:\n",
    "    # opt.hyp = opt.hyp or ('hyp.finetune.yaml' if opt.weights else 'hyp.scratch.yaml')\n",
    "    opt.data, opt.cfg, opt.hyp = check_file(opt.data), check_file(opt.cfg), check_file(opt.hyp)  # check files\n",
    "    assert len(opt.cfg) or len(opt.weights), 'either --cfg or --weights must be specified'\n",
    "    opt.img_size.extend([opt.img_size[-1]] * (2 - len(opt.img_size)))  # extend to 2 sizes (train, test)\n",
    "    opt.name = 'evolve' if opt.evolve else opt.name\n",
    "    opt.save_dir = increment_path(Path(opt.project) / opt.name, exist_ok=opt.exist_ok | opt.evolve)  # increment run"
   ]
  },
  {
   "cell_type": "code",
   "execution_count": 4,
   "metadata": {},
   "outputs": [
    {
     "name": "stderr",
     "output_type": "stream",
     "text": [
      "YOLOR 🚀 2023-5-8 torch 1.10.0+cu111 CUDA:0 (NVIDIA GeForce GTX 1650, 3912.0MB)\n",
      "\n"
     ]
    }
   ],
   "source": [
    "# DDP mode\n",
    "opt.total_batch_size = opt.batch_size\n",
    "device = select_device(opt.device, batch_size=opt.batch_size)\n",
    "if opt.local_rank != -1:\n",
    "    assert torch.cuda.device_count() > opt.local_rank\n",
    "    torch.cuda.set_device(opt.local_rank)\n",
    "    device = torch.device('cuda', opt.local_rank)\n",
    "    dist.init_process_group(backend='nccl', init_method='env://')  # distributed backend\n",
    "    assert opt.batch_size % opt.world_size == 0, '--batch-size must be multiple of CUDA device count'\n",
    "    opt.batch_size = opt.total_batch_size // opt.world_size\n"
   ]
  },
  {
   "cell_type": "code",
   "execution_count": 5,
   "metadata": {},
   "outputs": [],
   "source": [
    "# Hyperparameters\n",
    "with open(opt.hyp) as f:\n",
    "    hyp = yaml.load(f, Loader=yaml.SafeLoader)  # load hyps"
   ]
  },
  {
   "cell_type": "code",
   "execution_count": 6,
   "metadata": {},
   "outputs": [
    {
     "name": "stderr",
     "output_type": "stream",
     "text": [
      "Namespace(weights='last.pt', cfg='cfg/training/image_tagging_training.yaml', data='data/image_tagging_data.yaml', hyp='data/hyp.scratch.custom.yaml', epochs=10, batch_size=1, img_size=[1280, 1280], rect=False, resume=False, nosave=False, notest=False, noautoanchor=False, evolve=False, bucket='', cache_images=False, image_weights=False, device='0', multi_scale=False, single_cls=False, adam=False, sync_bn=False, local_rank=-1, workers=8, project='runs/train', entity=None, name='exp', exist_ok=True, quad=False, linear_lr=False, label_smoothing=0.0, upload_dataset=False, bbox_interval=-1, save_period=-1, artifact_alias='latest', v5_metric=False, ip='127.0.0.1', stdin='9008', control='9006', hb='9005', shell='9007', transport='\"tcp\"', iopub='9009', f='/home/tavandai/.local/share/jupyter/runtime/kernel-v2-6775rJJEBNGirha9.json', world_size=1, global_rank=-1, save_dir='runs/train/exp', total_batch_size=1, **{'Session.key': 'b\"a2e21488-7b30-4232-bc85-12e6bd522a74\"', 'Session.signature_scheme': '\"hmac-sha256\"'})\n",
      "\u001b[34m\u001b[1mtensorboard: \u001b[0mStart with 'tensorboard --logdir runs/train', view at http://localhost:6006/\n"
     ]
    }
   ],
   "source": [
    "# Train\n",
    "logger.info(opt)\n",
    "if not opt.evolve:\n",
    "    tb_writer = None  # init loggers\n",
    "    if opt.global_rank in [-1, 0]:\n",
    "        prefix = colorstr('tensorboard: ')\n",
    "        logger.info(f\"{prefix}Start with 'tensorboard --logdir {opt.project}', view at http://localhost:6006/\")\n",
    "        tb_writer = SummaryWriter(opt.save_dir)  # Tensorboard\n",
    "    # train(hyp, opt, device, tb_writer)"
   ]
  },
  {
   "attachments": {},
   "cell_type": "markdown",
   "metadata": {},
   "source": [
    "# Explore train function"
   ]
  },
  {
   "cell_type": "code",
   "execution_count": 7,
   "metadata": {},
   "outputs": [
    {
     "name": "stderr",
     "output_type": "stream",
     "text": [
      "\u001b[34m\u001b[1mhyperparameters: \u001b[0mlr0=0.01, lrf=0.1, momentum=0.937, weight_decay=0.0005, warmup_epochs=3.0, warmup_momentum=0.8, warmup_bias_lr=0.1, box=0.05, cls=0.3, cls_pw=1.0, obj=0.7, obj_pw=1.0, iou_t=0.2, anchor_t=4.0, fl_gamma=0.0, hsv_h=0.015, hsv_s=0.7, hsv_v=0.4, degrees=0.0, translate=0.2, scale=0.5, shear=0.0, perspective=0.0, flipud=0.0, fliplr=0.5, mosaic=1.0, mixup=0.0, copy_paste=0.0, paste_in=0.0, loss_ota=1\n"
     ]
    }
   ],
   "source": [
    "api = HfApi()\n",
    "\n",
    "logger.info(colorstr('hyperparameters: ') + ', '.join(f'{k}={v}' for k, v in hyp.items()))\n",
    "save_dir, epochs, batch_size, total_batch_size, weights, rank = \\\n",
    "    Path(opt.save_dir), opt.epochs, opt.batch_size, opt.total_batch_size, opt.weights, opt.global_rank\n"
   ]
  },
  {
   "cell_type": "code",
   "execution_count": 8,
   "metadata": {},
   "outputs": [],
   "source": [
    "# Directories\n",
    "wdir = save_dir / 'weights'\n",
    "wdir.mkdir(parents=True, exist_ok=True)  # make dir\n",
    "last = wdir / 'last.pt'\n",
    "best = wdir / 'best.pt'\n",
    "results_file = save_dir / 'results.txt'"
   ]
  },
  {
   "cell_type": "code",
   "execution_count": 9,
   "metadata": {},
   "outputs": [],
   "source": [
    "with open(save_dir / 'hyp.yaml', 'w') as f:\n",
    "    yaml.dump(hyp, f, sort_keys=False)\n",
    "with open(save_dir / 'opt.yaml', 'w') as f:\n",
    "    yaml.dump(vars(opt), f, sort_keys=False)\n"
   ]
  },
  {
   "cell_type": "code",
   "execution_count": 10,
   "metadata": {},
   "outputs": [
    {
     "name": "stdout",
     "output_type": "stream",
     "text": [
      "\u001b[34m\u001b[1mwandb: \u001b[0mInstall Weights & Biases for YOLOR logging with 'pip install wandb' (recommended)\n"
     ]
    }
   ],
   "source": [
    "# Configure\n",
    "plots = not opt.evolve  # create plots\n",
    "cuda = device.type != 'cpu'\n",
    "init_seeds(2 + rank)\n",
    "with open(opt.data) as f:\n",
    "    data_dict = yaml.load(f, Loader=yaml.SafeLoader)  # data dict\n",
    "is_coco = opt.data.endswith('coco.yaml')\n",
    "\n",
    "# Logging- Doing this before checking the dataset. Might update data_dict\n",
    "loggers = {'wandb': None}  # loggers dict\n",
    "if rank in [-1, 0]:\n",
    "    opt.hyp = hyp  # add hyperparameters\n",
    "    run_id = torch.load(weights).get('wandb_id') if weights.endswith('.pt') and os.path.isfile(weights) else None\n",
    "    wandb_logger = WandbLogger(opt, Path(opt.save_dir).stem, run_id, data_dict)\n",
    "    loggers['wandb'] = wandb_logger.wandb\n",
    "    data_dict = wandb_logger.data_dict\n",
    "    if wandb_logger.wandb:\n",
    "        weights, epochs, hyp = opt.weights, opt.epochs, opt.hyp  # WandbLogger might update weights, epochs if resuming\n",
    "\n",
    "nc = 1 if opt.single_cls else int(data_dict['nc'])  # number of classes\n",
    "names = ['item'] if opt.single_cls and len(data_dict['names']) != 1 else data_dict['names']  # class names\n",
    "assert len(names) == nc, '%g names found for nc=%g dataset in %s' % (len(names), nc, opt.data)  # check\n"
   ]
  },
  {
   "attachments": {},
   "cell_type": "markdown",
   "metadata": {},
   "source": [
    "# Load model"
   ]
  },
  {
   "cell_type": "code",
   "execution_count": 11,
   "metadata": {},
   "outputs": [
    {
     "name": "stderr",
     "output_type": "stream",
     "text": [
      "\n",
      "                 from  n    params  module                                  arguments                     \n",
      "  0                -1  1         0  models.common.ReOrg                     []                            \n",
      "  1                -1  1      7040  models.common.Conv                      [12, 64, 3, 1]                \n",
      "  2                -1  1     73984  models.common.Conv                      [64, 128, 3, 2]               \n",
      "  3                -1  1      8320  models.common.Conv                      [128, 64, 1, 1]               \n",
      "  4                -2  1      8320  models.common.Conv                      [128, 64, 1, 1]               \n",
      "  5                -1  1     36992  models.common.Conv                      [64, 64, 3, 1]                \n",
      "  6                -1  1     36992  models.common.Conv                      [64, 64, 3, 1]                \n",
      "  7                -1  1     36992  models.common.Conv                      [64, 64, 3, 1]                \n",
      "  8                -1  1     36992  models.common.Conv                      [64, 64, 3, 1]                \n",
      "  9  [-1, -3, -5, -6]  1         0  models.common.Concat                    [1]                           \n",
      " 10                -1  1     33024  models.common.Conv                      [256, 128, 1, 1]              \n",
      " 11                -1  1    295424  models.common.Conv                      [128, 256, 3, 2]              \n",
      " 12                -1  1     33024  models.common.Conv                      [256, 128, 1, 1]              \n",
      " 13                -2  1     33024  models.common.Conv                      [256, 128, 1, 1]              \n",
      " 14                -1  1    147712  models.common.Conv                      [128, 128, 3, 1]              \n",
      " 15                -1  1    147712  models.common.Conv                      [128, 128, 3, 1]              \n",
      " 16                -1  1    147712  models.common.Conv                      [128, 128, 3, 1]              \n",
      " 17                -1  1    147712  models.common.Conv                      [128, 128, 3, 1]              \n",
      " 18  [-1, -3, -5, -6]  1         0  models.common.Concat                    [1]                           \n",
      " 19                -1  1    131584  models.common.Conv                      [512, 256, 1, 1]              \n",
      " 20                -1  1   1180672  models.common.Conv                      [256, 512, 3, 2]              \n",
      " 21                -1  1    131584  models.common.Conv                      [512, 256, 1, 1]              \n",
      " 22                -2  1    131584  models.common.Conv                      [512, 256, 1, 1]              \n",
      " 23                -1  1    590336  models.common.Conv                      [256, 256, 3, 1]              \n",
      " 24                -1  1    590336  models.common.Conv                      [256, 256, 3, 1]              \n",
      " 25                -1  1    590336  models.common.Conv                      [256, 256, 3, 1]              \n",
      " 26                -1  1    590336  models.common.Conv                      [256, 256, 3, 1]              \n",
      " 27  [-1, -3, -5, -6]  1         0  models.common.Concat                    [1]                           \n",
      " 28                -1  1    525312  models.common.Conv                      [1024, 512, 1, 1]             \n",
      " 29                -1  1   3540480  models.common.Conv                      [512, 768, 3, 2]              \n",
      " 30                -1  1    295680  models.common.Conv                      [768, 384, 1, 1]              \n",
      " 31                -2  1    295680  models.common.Conv                      [768, 384, 1, 1]              \n",
      " 32                -1  1   1327872  models.common.Conv                      [384, 384, 3, 1]              \n",
      " 33                -1  1   1327872  models.common.Conv                      [384, 384, 3, 1]              \n",
      " 34                -1  1   1327872  models.common.Conv                      [384, 384, 3, 1]              \n",
      " 35                -1  1   1327872  models.common.Conv                      [384, 384, 3, 1]              \n",
      " 36  [-1, -3, -5, -6]  1         0  models.common.Concat                    [1]                           \n",
      " 37                -1  1   1181184  models.common.Conv                      [1536, 768, 1, 1]             \n",
      " 38                -1  1   7079936  models.common.Conv                      [768, 1024, 3, 2]             \n",
      " 39                -1  1    525312  models.common.Conv                      [1024, 512, 1, 1]             \n",
      " 40                -2  1    525312  models.common.Conv                      [1024, 512, 1, 1]             \n",
      " 41                -1  1   2360320  models.common.Conv                      [512, 512, 3, 1]              \n",
      " 42                -1  1   2360320  models.common.Conv                      [512, 512, 3, 1]              \n",
      " 43                -1  1   2360320  models.common.Conv                      [512, 512, 3, 1]              \n",
      " 44                -1  1   2360320  models.common.Conv                      [512, 512, 3, 1]              \n",
      " 45  [-1, -3, -5, -6]  1         0  models.common.Concat                    [1]                           \n",
      " 46                -1  1   2099200  models.common.Conv                      [2048, 1024, 1, 1]            \n",
      " 47                -1  1   7609344  models.common.SPPCSPC                   [1024, 512, 1]                \n",
      " 48                -1  1    197376  models.common.Conv                      [512, 384, 1, 1]              \n",
      " 49                -1  1         0  torch.nn.modules.upsampling.Upsample    [None, 2, 'nearest']          \n",
      " 50                37  1    295680  models.common.Conv                      [768, 384, 1, 1]              \n",
      " 51          [-1, -2]  1         0  models.common.Concat                    [1]                           \n",
      " 52                -1  1    295680  models.common.Conv                      [768, 384, 1, 1]              \n",
      " 53                -2  1    295680  models.common.Conv                      [768, 384, 1, 1]              \n",
      " 54                -1  1    663936  models.common.Conv                      [384, 192, 3, 1]              \n",
      " 55                -1  1    332160  models.common.Conv                      [192, 192, 3, 1]              \n",
      " 56                -1  1    332160  models.common.Conv                      [192, 192, 3, 1]              \n",
      " 57                -1  1    332160  models.common.Conv                      [192, 192, 3, 1]              \n",
      " 58[-1, -2, -3, -4, -5, -6]  1         0  models.common.Concat                    [1]                           \n",
      " 59                -1  1    590592  models.common.Conv                      [1536, 384, 1, 1]             \n",
      " 60                -1  1     98816  models.common.Conv                      [384, 256, 1, 1]              \n",
      " 61                -1  1         0  torch.nn.modules.upsampling.Upsample    [None, 2, 'nearest']          \n",
      " 62                28  1    131584  models.common.Conv                      [512, 256, 1, 1]              \n",
      " 63          [-1, -2]  1         0  models.common.Concat                    [1]                           \n",
      " 64                -1  1    131584  models.common.Conv                      [512, 256, 1, 1]              \n",
      " 65                -2  1    131584  models.common.Conv                      [512, 256, 1, 1]              \n",
      " 66                -1  1    295168  models.common.Conv                      [256, 128, 3, 1]              \n",
      " 67                -1  1    147712  models.common.Conv                      [128, 128, 3, 1]              \n",
      " 68                -1  1    147712  models.common.Conv                      [128, 128, 3, 1]              \n",
      " 69                -1  1    147712  models.common.Conv                      [128, 128, 3, 1]              \n",
      " 70[-1, -2, -3, -4, -5, -6]  1         0  models.common.Concat                    [1]                           \n",
      " 71                -1  1    262656  models.common.Conv                      [1024, 256, 1, 1]             \n",
      " 72                -1  1     33024  models.common.Conv                      [256, 128, 1, 1]              \n",
      " 73                -1  1         0  torch.nn.modules.upsampling.Upsample    [None, 2, 'nearest']          \n",
      " 74                19  1     33024  models.common.Conv                      [256, 128, 1, 1]              \n",
      " 75          [-1, -2]  1         0  models.common.Concat                    [1]                           \n",
      " 76                -1  1     33024  models.common.Conv                      [256, 128, 1, 1]              \n",
      " 77                -2  1     33024  models.common.Conv                      [256, 128, 1, 1]              \n",
      " 78                -1  1     73856  models.common.Conv                      [128, 64, 3, 1]               \n",
      " 79                -1  1     36992  models.common.Conv                      [64, 64, 3, 1]                \n",
      " 80                -1  1     36992  models.common.Conv                      [64, 64, 3, 1]                \n",
      " 81                -1  1     36992  models.common.Conv                      [64, 64, 3, 1]                \n",
      " 82[-1, -2, -3, -4, -5, -6]  1         0  models.common.Concat                    [1]                           \n",
      " 83                -1  1     65792  models.common.Conv                      [512, 128, 1, 1]              \n",
      " 84                -1  1    295424  models.common.Conv                      [128, 256, 3, 2]              \n",
      " 85          [-1, 71]  1         0  models.common.Concat                    [1]                           \n",
      " 86                -1  1    131584  models.common.Conv                      [512, 256, 1, 1]              \n",
      " 87                -2  1    131584  models.common.Conv                      [512, 256, 1, 1]              \n",
      " 88                -1  1    295168  models.common.Conv                      [256, 128, 3, 1]              \n",
      " 89                -1  1    147712  models.common.Conv                      [128, 128, 3, 1]              \n",
      " 90                -1  1    147712  models.common.Conv                      [128, 128, 3, 1]              \n",
      " 91                -1  1    147712  models.common.Conv                      [128, 128, 3, 1]              \n",
      " 92[-1, -2, -3, -4, -5, -6]  1         0  models.common.Concat                    [1]                           \n",
      " 93                -1  1    262656  models.common.Conv                      [1024, 256, 1, 1]             \n",
      " 94                -1  1    885504  models.common.Conv                      [256, 384, 3, 2]              \n",
      " 95          [-1, 59]  1         0  models.common.Concat                    [1]                           \n",
      " 96                -1  1    295680  models.common.Conv                      [768, 384, 1, 1]              \n",
      " 97                -2  1    295680  models.common.Conv                      [768, 384, 1, 1]              \n",
      " 98                -1  1    663936  models.common.Conv                      [384, 192, 3, 1]              \n",
      " 99                -1  1    332160  models.common.Conv                      [192, 192, 3, 1]              \n",
      "100                -1  1    332160  models.common.Conv                      [192, 192, 3, 1]              \n",
      "101                -1  1    332160  models.common.Conv                      [192, 192, 3, 1]              \n",
      "102[-1, -2, -3, -4, -5, -6]  1         0  models.common.Concat                    [1]                           \n",
      "103                -1  1    590592  models.common.Conv                      [1536, 384, 1, 1]             \n",
      "104                -1  1   1770496  models.common.Conv                      [384, 512, 3, 2]              \n",
      "105          [-1, 47]  1         0  models.common.Concat                    [1]                           \n",
      "106                -1  1    525312  models.common.Conv                      [1024, 512, 1, 1]             \n",
      "107                -2  1    525312  models.common.Conv                      [1024, 512, 1, 1]             \n",
      "108                -1  1   1180160  models.common.Conv                      [512, 256, 3, 1]              \n",
      "109                -1  1    590336  models.common.Conv                      [256, 256, 3, 1]              \n",
      "110                -1  1    590336  models.common.Conv                      [256, 256, 3, 1]              \n",
      "111                -1  1    590336  models.common.Conv                      [256, 256, 3, 1]              \n",
      "112[-1, -2, -3, -4, -5, -6]  1         0  models.common.Concat                    [1]                           \n",
      "113                -1  1   1049600  models.common.Conv                      [2048, 512, 1, 1]             \n",
      "114                83  1    295424  models.common.Conv                      [128, 256, 3, 1]              \n",
      "115                93  1   1180672  models.common.Conv                      [256, 512, 3, 1]              \n",
      "116               103  1   2655744  models.common.Conv                      [384, 768, 3, 1]              \n",
      "117               113  1   4720640  models.common.Conv                      [512, 1024, 3, 1]             \n",
      "118                83  1    369280  models.common.Conv                      [128, 320, 3, 1]              \n",
      "119                71  1   1475840  models.common.Conv                      [256, 640, 3, 1]              \n",
      "120                59  1   3319680  models.common.Conv                      [384, 960, 3, 1]              \n",
      "121                47  1   5900800  models.common.Conv                      [512, 1280, 3, 1]             \n",
      "122[114, 115, 116, 117, 118, 119, 120, 121]  1    885676  models.yolo.IAuxDetect                  [46, [[19, 27, 44, 40, 38, 94], [96, 68, 86, 152, 180, 137], [140, 301, 303, 264, 238, 542], [436, 615, 739, 380, 925, 792]], [256, 512, 768, 1024, 320, 640, 960, 1280]]\n",
      "/home/tavandai/anaconda3/envs/layoutlmv3/lib/python3.9/site-packages/torch/functional.py:445: UserWarning: torch.meshgrid: in an upcoming release, it will be required to pass the indexing argument. (Triggered internally at  ../aten/src/ATen/native/TensorShape.cpp:2157.)\n",
      "  return _VF.meshgrid(tensors, **kwargs)  # type: ignore[attr-defined]\n",
      "Model Summary: 477 layers, 81723692 parameters, 81723692 gradients, 104.2 GFLOPS\n",
      "\n",
      "Transferred 666/668 items from last.pt\n"
     ]
    }
   ],
   "source": [
    "pretrained = weights.endswith('.pt')\n",
    "if pretrained:\n",
    "    with torch_distributed_zero_first(rank):\n",
    "        attempt_download(weights)  # download if not found locally\n",
    "    ckpt = torch.load(weights, map_location=device)  # load checkpoint\n",
    "    model = Model(opt.cfg or ckpt['model'].yaml, ch=3, nc=nc, anchors=hyp.get('anchors')).to(device)  # create\n",
    "    exclude = ['anchor'] if (opt.cfg or hyp.get('anchors')) and not opt.resume else []  # exclude keys\n",
    "    state_dict = ckpt['model'].float().state_dict()  # to FP32\n",
    "    state_dict = intersect_dicts(state_dict, model.state_dict(), exclude=exclude)  # intersect\n",
    "    model.load_state_dict(state_dict, strict=False)  # load\n",
    "    logger.info('Transferred %g/%g items from %s' % (len(state_dict), len(model.state_dict()), weights))  # report\n",
    "else:\n",
    "    model = Model(opt.cfg, ch=3, nc=nc, anchors=hyp.get('anchors')).to(device)  # create"
   ]
  },
  {
   "cell_type": "code",
   "execution_count": 12,
   "metadata": {},
   "outputs": [
    {
     "data": {
      "text/plain": [
       "IAuxDetect(\n",
       "  (m): ModuleList(\n",
       "    (0): Conv2d(256, 153, kernel_size=(1, 1), stride=(1, 1))\n",
       "    (1): Conv2d(512, 153, kernel_size=(1, 1), stride=(1, 1))\n",
       "    (2): Conv2d(768, 153, kernel_size=(1, 1), stride=(1, 1))\n",
       "    (3): Conv2d(1024, 153, kernel_size=(1, 1), stride=(1, 1))\n",
       "  )\n",
       "  (m2): ModuleList(\n",
       "    (0): Conv2d(320, 153, kernel_size=(1, 1), stride=(1, 1))\n",
       "    (1): Conv2d(640, 153, kernel_size=(1, 1), stride=(1, 1))\n",
       "    (2): Conv2d(960, 153, kernel_size=(1, 1), stride=(1, 1))\n",
       "    (3): Conv2d(1280, 153, kernel_size=(1, 1), stride=(1, 1))\n",
       "  )\n",
       "  (ia): ModuleList(\n",
       "    (0): ImplicitA()\n",
       "    (1): ImplicitA()\n",
       "    (2): ImplicitA()\n",
       "    (3): ImplicitA()\n",
       "  )\n",
       "  (im): ModuleList(\n",
       "    (0): ImplicitM()\n",
       "    (1): ImplicitM()\n",
       "    (2): ImplicitM()\n",
       "    (3): ImplicitM()\n",
       "  )\n",
       ")"
      ]
     },
     "execution_count": 12,
     "metadata": {},
     "output_type": "execute_result"
    }
   ],
   "source": [
    "model.model[-1]"
   ]
  },
  {
   "attachments": {},
   "cell_type": "markdown",
   "metadata": {},
   "source": [
    "# Load dataset"
   ]
  },
  {
   "cell_type": "code",
   "execution_count": 13,
   "metadata": {},
   "outputs": [],
   "source": [
    "with torch_distributed_zero_first(rank):\n",
    "    check_dataset(data_dict)  # check\n",
    "train_path = data_dict['train']\n",
    "test_path = data_dict['val']"
   ]
  },
  {
   "cell_type": "code",
   "execution_count": 14,
   "metadata": {},
   "outputs": [
    {
     "data": {
      "text/plain": [
       "'custom_data/images/train'"
      ]
     },
     "execution_count": 14,
     "metadata": {},
     "output_type": "execute_result"
    }
   ],
   "source": [
    "train_path"
   ]
  },
  {
   "attachments": {},
   "cell_type": "markdown",
   "metadata": {},
   "source": [
    "# Some option for model"
   ]
  },
  {
   "cell_type": "code",
   "execution_count": 13,
   "metadata": {},
   "outputs": [],
   "source": [
    "# Freeze\n",
    "freeze = []  # parameter names to freeze (full or partial)\n",
    "for k, v in model.named_parameters():\n",
    "    v.requires_grad = True  # train all layers\n",
    "    if any(x in k for x in freeze):\n",
    "        print('freezing %s' % k)\n",
    "        v.requires_grad = False\n"
   ]
  },
  {
   "cell_type": "code",
   "execution_count": 14,
   "metadata": {},
   "outputs": [
    {
     "name": "stderr",
     "output_type": "stream",
     "text": [
      "Scaled weight_decay = 0.0005\n",
      "Optimizer groups: 115 .bias, 115 conv.weight, 115 other\n"
     ]
    }
   ],
   "source": [
    "# Optimizer\n",
    "nbs = 64  # nominal batch size\n",
    "accumulate = max(round(nbs / total_batch_size), 1)  # accumulate loss before optimizing\n",
    "hyp['weight_decay'] *= total_batch_size * accumulate / nbs  # scale weight_decay\n",
    "logger.info(f\"Scaled weight_decay = {hyp['weight_decay']}\")\n",
    "\n",
    "pg0, pg1, pg2 = [], [], []  # optimizer parameter groups\n",
    "for k, v in model.named_modules():\n",
    "    if hasattr(v, 'bias') and isinstance(v.bias, nn.Parameter):\n",
    "        pg2.append(v.bias)  # biases\n",
    "    if isinstance(v, nn.BatchNorm2d):\n",
    "        pg0.append(v.weight)  # no decay\n",
    "    elif hasattr(v, 'weight') and isinstance(v.weight, nn.Parameter):\n",
    "        pg1.append(v.weight)  # apply decay\n",
    "    if hasattr(v, 'im'):\n",
    "        if hasattr(v.im, 'implicit'):           \n",
    "            pg0.append(v.im.implicit)\n",
    "        else:\n",
    "            for iv in v.im:\n",
    "                pg0.append(iv.implicit)\n",
    "    if hasattr(v, 'imc'):\n",
    "        if hasattr(v.imc, 'implicit'):           \n",
    "            pg0.append(v.imc.implicit)\n",
    "        else:\n",
    "            for iv in v.imc:\n",
    "                pg0.append(iv.implicit)\n",
    "    if hasattr(v, 'imb'):\n",
    "        if hasattr(v.imb, 'implicit'):           \n",
    "            pg0.append(v.imb.implicit)\n",
    "        else:\n",
    "            for iv in v.imb:\n",
    "                pg0.append(iv.implicit)\n",
    "    if hasattr(v, 'imo'):\n",
    "        if hasattr(v.imo, 'implicit'):           \n",
    "            pg0.append(v.imo.implicit)\n",
    "        else:\n",
    "            for iv in v.imo:\n",
    "                pg0.append(iv.implicit)\n",
    "    if hasattr(v, 'ia'):\n",
    "        if hasattr(v.ia, 'implicit'):           \n",
    "            pg0.append(v.ia.implicit)\n",
    "        else:\n",
    "            for iv in v.ia:\n",
    "                pg0.append(iv.implicit)\n",
    "    if hasattr(v, 'attn'):\n",
    "        if hasattr(v.attn, 'logit_scale'):   \n",
    "            pg0.append(v.attn.logit_scale)\n",
    "        if hasattr(v.attn, 'q_bias'):   \n",
    "            pg0.append(v.attn.q_bias)\n",
    "        if hasattr(v.attn, 'v_bias'):  \n",
    "            pg0.append(v.attn.v_bias)\n",
    "        if hasattr(v.attn, 'relative_position_bias_table'):  \n",
    "            pg0.append(v.attn.relative_position_bias_table)\n",
    "    if hasattr(v, 'rbr_dense'):\n",
    "        if hasattr(v.rbr_dense, 'weight_rbr_origin'):  \n",
    "            pg0.append(v.rbr_dense.weight_rbr_origin)\n",
    "        if hasattr(v.rbr_dense, 'weight_rbr_avg_conv'): \n",
    "            pg0.append(v.rbr_dense.weight_rbr_avg_conv)\n",
    "        if hasattr(v.rbr_dense, 'weight_rbr_pfir_conv'):  \n",
    "            pg0.append(v.rbr_dense.weight_rbr_pfir_conv)\n",
    "        if hasattr(v.rbr_dense, 'weight_rbr_1x1_kxk_idconv1'): \n",
    "            pg0.append(v.rbr_dense.weight_rbr_1x1_kxk_idconv1)\n",
    "        if hasattr(v.rbr_dense, 'weight_rbr_1x1_kxk_conv2'):   \n",
    "            pg0.append(v.rbr_dense.weight_rbr_1x1_kxk_conv2)\n",
    "        if hasattr(v.rbr_dense, 'weight_rbr_gconv_dw'):   \n",
    "            pg0.append(v.rbr_dense.weight_rbr_gconv_dw)\n",
    "        if hasattr(v.rbr_dense, 'weight_rbr_gconv_pw'):   \n",
    "            pg0.append(v.rbr_dense.weight_rbr_gconv_pw)\n",
    "        if hasattr(v.rbr_dense, 'vector'):   \n",
    "            pg0.append(v.rbr_dense.vector)\n",
    "\n",
    "if opt.adam:\n",
    "    optimizer = optim.Adam(pg0, lr=hyp['lr0'], betas=(hyp['momentum'], 0.999))  # adjust beta1 to momentum\n",
    "else:\n",
    "    optimizer = optim.SGD(pg0, lr=hyp['lr0'], momentum=hyp['momentum'], nesterov=True)\n",
    "\n",
    "optimizer.add_param_group({'params': pg1, 'weight_decay': hyp['weight_decay']})  # add pg1 with weight_decay\n",
    "optimizer.add_param_group({'params': pg2})  # add pg2 (biases)\n",
    "logger.info('Optimizer groups: %g .bias, %g conv.weight, %g other' % (len(pg2), len(pg1), len(pg0)))\n",
    "del pg0, pg1, pg2\n",
    "\n",
    "# Scheduler https://arxiv.org/pdf/1812.01187.pdf\n",
    "# https://pytorch.org/docs/stable/_modules/torch/optim/lr_scheduler.html#OneCycleLR\n",
    "if opt.linear_lr:\n",
    "    lf = lambda x: (1 - x / (epochs - 1)) * (1.0 - hyp['lrf']) + hyp['lrf']  # linear\n",
    "else:\n",
    "    lf = one_cycle(1, hyp['lrf'], epochs)  # cosine 1->hyp['lrf']\n",
    "scheduler = lr_scheduler.LambdaLR(optimizer, lr_lambda=lf)\n",
    "# plot_lr_scheduler(optimizer, scheduler, epochs)"
   ]
  },
  {
   "cell_type": "code",
   "execution_count": 15,
   "metadata": {},
   "outputs": [
    {
     "name": "stderr",
     "output_type": "stream",
     "text": [
      "last.pt has been trained for 29 epochs. Fine-tuning for 10 additional epochs.\n"
     ]
    }
   ],
   "source": [
    "# EMA\n",
    "ema = ModelEMA(model) if rank in [-1, 0] else None\n",
    "\n",
    "# Resume\n",
    "start_epoch, best_fitness = 0, 0.0\n",
    "if pretrained:\n",
    "    # Optimizer\n",
    "    if ckpt['optimizer'] is not None:\n",
    "        optimizer.load_state_dict(ckpt['optimizer'])\n",
    "        best_fitness = ckpt['best_fitness']\n",
    "\n",
    "    # EMA\n",
    "    if ema and ckpt.get('ema'):\n",
    "        ema.ema.load_state_dict(ckpt['ema'].float().state_dict())\n",
    "        ema.updates = ckpt['updates']\n",
    "\n",
    "    # Results\n",
    "    if ckpt.get('training_results') is not None:\n",
    "        results_file.write_text(ckpt['training_results'])  # write results.txt\n",
    "\n",
    "    # Epochs\n",
    "    start_epoch = ckpt['epoch'] + 1\n",
    "    if opt.resume:\n",
    "        assert start_epoch > 0, '%s training to %g epochs is finished, nothing to resume.' % (weights, epochs)\n",
    "    if epochs < start_epoch:\n",
    "        logger.info('%s has been trained for %g epochs. Fine-tuning for %g additional epochs.' %\n",
    "                    (weights, ckpt['epoch'], epochs))\n",
    "        epochs += ckpt['epoch']  # finetune additional epochs\n",
    "\n",
    "    del ckpt, state_dict"
   ]
  },
  {
   "cell_type": "code",
   "execution_count": 16,
   "metadata": {},
   "outputs": [],
   "source": [
    "# Image sizes\n",
    "gs = max(int(model.stride.max()), 32)  # grid size (max stride)\n",
    "nl = model.model[-1].nl  # number of detection layers (used for scaling hyp['obj'])\n",
    "imgsz, imgsz_test = [check_img_size(x, gs) for x in opt.img_size]  # verify imgsz are gs-multiples"
   ]
  },
  {
   "cell_type": "code",
   "execution_count": 17,
   "metadata": {},
   "outputs": [
    {
     "data": {
      "text/plain": [
       "4"
      ]
     },
     "execution_count": 17,
     "metadata": {},
     "output_type": "execute_result"
    }
   ],
   "source": [
    "nl"
   ]
  },
  {
   "cell_type": "code",
   "execution_count": 18,
   "metadata": {},
   "outputs": [],
   "source": [
    "# DP mode\n",
    "if cuda and rank == -1 and torch.cuda.device_count() > 1:\n",
    "    model = torch.nn.DataParallel(model)\n",
    "\n",
    "# SyncBatchNorm\n",
    "if opt.sync_bn and cuda and rank != -1:\n",
    "    model = torch.nn.SyncBatchNorm.convert_sync_batchnorm(model).to(device)\n",
    "    logger.info('Using SyncBatchNorm()')\n"
   ]
  },
  {
   "attachments": {},
   "cell_type": "markdown",
   "metadata": {},
   "source": [
    "# Load Dataloader"
   ]
  },
  {
   "cell_type": "code",
   "execution_count": 21,
   "metadata": {},
   "outputs": [
    {
     "name": "stderr",
     "output_type": "stream",
     "text": [
      "\u001b[34m\u001b[1mtrain: \u001b[0mScanning 'custom_data/labels/train.cache' images and labels... 14 found, 0 missing, 0 empty, 0 corrupted: 100%|██████████| 14/14 [00:00<?, ?it/s]\n"
     ]
    }
   ],
   "source": [
    "# Trainloader\n",
    "dataloader, dataset = create_dataloader(train_path, imgsz, batch_size, gs, opt,\n",
    "                                        hyp=hyp, augment=False, cache=opt.cache_images, rect=opt.rect, rank=rank,\n",
    "                                        world_size=opt.world_size, workers=opt.workers,\n",
    "                                        image_weights=opt.image_weights, quad=opt.quad, prefix=colorstr('train: '))\n",
    "mlc = np.concatenate(dataset.labels, 0)[:, 0].max()  # max label class\n",
    "nb = len(dataloader)  # number of batches\n",
    "assert mlc < nc, 'Label class %g exceeds nc=%g in %s. Possible class labels are 0-%g' % (mlc, nc, opt.data, nc - 1)"
   ]
  },
  {
   "cell_type": "code",
   "execution_count": 22,
   "metadata": {},
   "outputs": [
    {
     "data": {
      "text/plain": [
       "-1"
      ]
     },
     "execution_count": 22,
     "metadata": {},
     "output_type": "execute_result"
    }
   ],
   "source": [
    "rank"
   ]
  },
  {
   "cell_type": "code",
   "execution_count": 19,
   "metadata": {},
   "outputs": [
    {
     "data": {
      "text/plain": [
       "Model(\n",
       "  (model): Sequential(\n",
       "    (0): ReOrg()\n",
       "    (1): Conv(\n",
       "      (conv): Conv2d(12, 64, kernel_size=(3, 3), stride=(1, 1), padding=(1, 1), bias=False)\n",
       "      (bn): BatchNorm2d(64, eps=0.001, momentum=0.03, affine=True, track_running_stats=True)\n",
       "      (act): SiLU()\n",
       "    )\n",
       "    (2): Conv(\n",
       "      (conv): Conv2d(64, 128, kernel_size=(3, 3), stride=(2, 2), padding=(1, 1), bias=False)\n",
       "      (bn): BatchNorm2d(128, eps=0.001, momentum=0.03, affine=True, track_running_stats=True)\n",
       "      (act): SiLU()\n",
       "    )\n",
       "    (3): Conv(\n",
       "      (conv): Conv2d(128, 64, kernel_size=(1, 1), stride=(1, 1), bias=False)\n",
       "      (bn): BatchNorm2d(64, eps=0.001, momentum=0.03, affine=True, track_running_stats=True)\n",
       "      (act): SiLU()\n",
       "    )\n",
       "    (4): Conv(\n",
       "      (conv): Conv2d(128, 64, kernel_size=(1, 1), stride=(1, 1), bias=False)\n",
       "      (bn): BatchNorm2d(64, eps=0.001, momentum=0.03, affine=True, track_running_stats=True)\n",
       "      (act): SiLU()\n",
       "    )\n",
       "    (5): Conv(\n",
       "      (conv): Conv2d(64, 64, kernel_size=(3, 3), stride=(1, 1), padding=(1, 1), bias=False)\n",
       "      (bn): BatchNorm2d(64, eps=0.001, momentum=0.03, affine=True, track_running_stats=True)\n",
       "      (act): SiLU()\n",
       "    )\n",
       "    (6): Conv(\n",
       "      (conv): Conv2d(64, 64, kernel_size=(3, 3), stride=(1, 1), padding=(1, 1), bias=False)\n",
       "      (bn): BatchNorm2d(64, eps=0.001, momentum=0.03, affine=True, track_running_stats=True)\n",
       "      (act): SiLU()\n",
       "    )\n",
       "    (7): Conv(\n",
       "      (conv): Conv2d(64, 64, kernel_size=(3, 3), stride=(1, 1), padding=(1, 1), bias=False)\n",
       "      (bn): BatchNorm2d(64, eps=0.001, momentum=0.03, affine=True, track_running_stats=True)\n",
       "      (act): SiLU()\n",
       "    )\n",
       "    (8): Conv(\n",
       "      (conv): Conv2d(64, 64, kernel_size=(3, 3), stride=(1, 1), padding=(1, 1), bias=False)\n",
       "      (bn): BatchNorm2d(64, eps=0.001, momentum=0.03, affine=True, track_running_stats=True)\n",
       "      (act): SiLU()\n",
       "    )\n",
       "    (9): Concat()\n",
       "    (10): Conv(\n",
       "      (conv): Conv2d(256, 128, kernel_size=(1, 1), stride=(1, 1), bias=False)\n",
       "      (bn): BatchNorm2d(128, eps=0.001, momentum=0.03, affine=True, track_running_stats=True)\n",
       "      (act): SiLU()\n",
       "    )\n",
       "    (11): Conv(\n",
       "      (conv): Conv2d(128, 256, kernel_size=(3, 3), stride=(2, 2), padding=(1, 1), bias=False)\n",
       "      (bn): BatchNorm2d(256, eps=0.001, momentum=0.03, affine=True, track_running_stats=True)\n",
       "      (act): SiLU()\n",
       "    )\n",
       "    (12): Conv(\n",
       "      (conv): Conv2d(256, 128, kernel_size=(1, 1), stride=(1, 1), bias=False)\n",
       "      (bn): BatchNorm2d(128, eps=0.001, momentum=0.03, affine=True, track_running_stats=True)\n",
       "      (act): SiLU()\n",
       "    )\n",
       "    (13): Conv(\n",
       "      (conv): Conv2d(256, 128, kernel_size=(1, 1), stride=(1, 1), bias=False)\n",
       "      (bn): BatchNorm2d(128, eps=0.001, momentum=0.03, affine=True, track_running_stats=True)\n",
       "      (act): SiLU()\n",
       "    )\n",
       "    (14): Conv(\n",
       "      (conv): Conv2d(128, 128, kernel_size=(3, 3), stride=(1, 1), padding=(1, 1), bias=False)\n",
       "      (bn): BatchNorm2d(128, eps=0.001, momentum=0.03, affine=True, track_running_stats=True)\n",
       "      (act): SiLU()\n",
       "    )\n",
       "    (15): Conv(\n",
       "      (conv): Conv2d(128, 128, kernel_size=(3, 3), stride=(1, 1), padding=(1, 1), bias=False)\n",
       "      (bn): BatchNorm2d(128, eps=0.001, momentum=0.03, affine=True, track_running_stats=True)\n",
       "      (act): SiLU()\n",
       "    )\n",
       "    (16): Conv(\n",
       "      (conv): Conv2d(128, 128, kernel_size=(3, 3), stride=(1, 1), padding=(1, 1), bias=False)\n",
       "      (bn): BatchNorm2d(128, eps=0.001, momentum=0.03, affine=True, track_running_stats=True)\n",
       "      (act): SiLU()\n",
       "    )\n",
       "    (17): Conv(\n",
       "      (conv): Conv2d(128, 128, kernel_size=(3, 3), stride=(1, 1), padding=(1, 1), bias=False)\n",
       "      (bn): BatchNorm2d(128, eps=0.001, momentum=0.03, affine=True, track_running_stats=True)\n",
       "      (act): SiLU()\n",
       "    )\n",
       "    (18): Concat()\n",
       "    (19): Conv(\n",
       "      (conv): Conv2d(512, 256, kernel_size=(1, 1), stride=(1, 1), bias=False)\n",
       "      (bn): BatchNorm2d(256, eps=0.001, momentum=0.03, affine=True, track_running_stats=True)\n",
       "      (act): SiLU()\n",
       "    )\n",
       "    (20): Conv(\n",
       "      (conv): Conv2d(256, 512, kernel_size=(3, 3), stride=(2, 2), padding=(1, 1), bias=False)\n",
       "      (bn): BatchNorm2d(512, eps=0.001, momentum=0.03, affine=True, track_running_stats=True)\n",
       "      (act): SiLU()\n",
       "    )\n",
       "    (21): Conv(\n",
       "      (conv): Conv2d(512, 256, kernel_size=(1, 1), stride=(1, 1), bias=False)\n",
       "      (bn): BatchNorm2d(256, eps=0.001, momentum=0.03, affine=True, track_running_stats=True)\n",
       "      (act): SiLU()\n",
       "    )\n",
       "    (22): Conv(\n",
       "      (conv): Conv2d(512, 256, kernel_size=(1, 1), stride=(1, 1), bias=False)\n",
       "      (bn): BatchNorm2d(256, eps=0.001, momentum=0.03, affine=True, track_running_stats=True)\n",
       "      (act): SiLU()\n",
       "    )\n",
       "    (23): Conv(\n",
       "      (conv): Conv2d(256, 256, kernel_size=(3, 3), stride=(1, 1), padding=(1, 1), bias=False)\n",
       "      (bn): BatchNorm2d(256, eps=0.001, momentum=0.03, affine=True, track_running_stats=True)\n",
       "      (act): SiLU()\n",
       "    )\n",
       "    (24): Conv(\n",
       "      (conv): Conv2d(256, 256, kernel_size=(3, 3), stride=(1, 1), padding=(1, 1), bias=False)\n",
       "      (bn): BatchNorm2d(256, eps=0.001, momentum=0.03, affine=True, track_running_stats=True)\n",
       "      (act): SiLU()\n",
       "    )\n",
       "    (25): Conv(\n",
       "      (conv): Conv2d(256, 256, kernel_size=(3, 3), stride=(1, 1), padding=(1, 1), bias=False)\n",
       "      (bn): BatchNorm2d(256, eps=0.001, momentum=0.03, affine=True, track_running_stats=True)\n",
       "      (act): SiLU()\n",
       "    )\n",
       "    (26): Conv(\n",
       "      (conv): Conv2d(256, 256, kernel_size=(3, 3), stride=(1, 1), padding=(1, 1), bias=False)\n",
       "      (bn): BatchNorm2d(256, eps=0.001, momentum=0.03, affine=True, track_running_stats=True)\n",
       "      (act): SiLU()\n",
       "    )\n",
       "    (27): Concat()\n",
       "    (28): Conv(\n",
       "      (conv): Conv2d(1024, 512, kernel_size=(1, 1), stride=(1, 1), bias=False)\n",
       "      (bn): BatchNorm2d(512, eps=0.001, momentum=0.03, affine=True, track_running_stats=True)\n",
       "      (act): SiLU()\n",
       "    )\n",
       "    (29): Conv(\n",
       "      (conv): Conv2d(512, 768, kernel_size=(3, 3), stride=(2, 2), padding=(1, 1), bias=False)\n",
       "      (bn): BatchNorm2d(768, eps=0.001, momentum=0.03, affine=True, track_running_stats=True)\n",
       "      (act): SiLU()\n",
       "    )\n",
       "    (30): Conv(\n",
       "      (conv): Conv2d(768, 384, kernel_size=(1, 1), stride=(1, 1), bias=False)\n",
       "      (bn): BatchNorm2d(384, eps=0.001, momentum=0.03, affine=True, track_running_stats=True)\n",
       "      (act): SiLU()\n",
       "    )\n",
       "    (31): Conv(\n",
       "      (conv): Conv2d(768, 384, kernel_size=(1, 1), stride=(1, 1), bias=False)\n",
       "      (bn): BatchNorm2d(384, eps=0.001, momentum=0.03, affine=True, track_running_stats=True)\n",
       "      (act): SiLU()\n",
       "    )\n",
       "    (32): Conv(\n",
       "      (conv): Conv2d(384, 384, kernel_size=(3, 3), stride=(1, 1), padding=(1, 1), bias=False)\n",
       "      (bn): BatchNorm2d(384, eps=0.001, momentum=0.03, affine=True, track_running_stats=True)\n",
       "      (act): SiLU()\n",
       "    )\n",
       "    (33): Conv(\n",
       "      (conv): Conv2d(384, 384, kernel_size=(3, 3), stride=(1, 1), padding=(1, 1), bias=False)\n",
       "      (bn): BatchNorm2d(384, eps=0.001, momentum=0.03, affine=True, track_running_stats=True)\n",
       "      (act): SiLU()\n",
       "    )\n",
       "    (34): Conv(\n",
       "      (conv): Conv2d(384, 384, kernel_size=(3, 3), stride=(1, 1), padding=(1, 1), bias=False)\n",
       "      (bn): BatchNorm2d(384, eps=0.001, momentum=0.03, affine=True, track_running_stats=True)\n",
       "      (act): SiLU()\n",
       "    )\n",
       "    (35): Conv(\n",
       "      (conv): Conv2d(384, 384, kernel_size=(3, 3), stride=(1, 1), padding=(1, 1), bias=False)\n",
       "      (bn): BatchNorm2d(384, eps=0.001, momentum=0.03, affine=True, track_running_stats=True)\n",
       "      (act): SiLU()\n",
       "    )\n",
       "    (36): Concat()\n",
       "    (37): Conv(\n",
       "      (conv): Conv2d(1536, 768, kernel_size=(1, 1), stride=(1, 1), bias=False)\n",
       "      (bn): BatchNorm2d(768, eps=0.001, momentum=0.03, affine=True, track_running_stats=True)\n",
       "      (act): SiLU()\n",
       "    )\n",
       "    (38): Conv(\n",
       "      (conv): Conv2d(768, 1024, kernel_size=(3, 3), stride=(2, 2), padding=(1, 1), bias=False)\n",
       "      (bn): BatchNorm2d(1024, eps=0.001, momentum=0.03, affine=True, track_running_stats=True)\n",
       "      (act): SiLU()\n",
       "    )\n",
       "    (39): Conv(\n",
       "      (conv): Conv2d(1024, 512, kernel_size=(1, 1), stride=(1, 1), bias=False)\n",
       "      (bn): BatchNorm2d(512, eps=0.001, momentum=0.03, affine=True, track_running_stats=True)\n",
       "      (act): SiLU()\n",
       "    )\n",
       "    (40): Conv(\n",
       "      (conv): Conv2d(1024, 512, kernel_size=(1, 1), stride=(1, 1), bias=False)\n",
       "      (bn): BatchNorm2d(512, eps=0.001, momentum=0.03, affine=True, track_running_stats=True)\n",
       "      (act): SiLU()\n",
       "    )\n",
       "    (41): Conv(\n",
       "      (conv): Conv2d(512, 512, kernel_size=(3, 3), stride=(1, 1), padding=(1, 1), bias=False)\n",
       "      (bn): BatchNorm2d(512, eps=0.001, momentum=0.03, affine=True, track_running_stats=True)\n",
       "      (act): SiLU()\n",
       "    )\n",
       "    (42): Conv(\n",
       "      (conv): Conv2d(512, 512, kernel_size=(3, 3), stride=(1, 1), padding=(1, 1), bias=False)\n",
       "      (bn): BatchNorm2d(512, eps=0.001, momentum=0.03, affine=True, track_running_stats=True)\n",
       "      (act): SiLU()\n",
       "    )\n",
       "    (43): Conv(\n",
       "      (conv): Conv2d(512, 512, kernel_size=(3, 3), stride=(1, 1), padding=(1, 1), bias=False)\n",
       "      (bn): BatchNorm2d(512, eps=0.001, momentum=0.03, affine=True, track_running_stats=True)\n",
       "      (act): SiLU()\n",
       "    )\n",
       "    (44): Conv(\n",
       "      (conv): Conv2d(512, 512, kernel_size=(3, 3), stride=(1, 1), padding=(1, 1), bias=False)\n",
       "      (bn): BatchNorm2d(512, eps=0.001, momentum=0.03, affine=True, track_running_stats=True)\n",
       "      (act): SiLU()\n",
       "    )\n",
       "    (45): Concat()\n",
       "    (46): Conv(\n",
       "      (conv): Conv2d(2048, 1024, kernel_size=(1, 1), stride=(1, 1), bias=False)\n",
       "      (bn): BatchNorm2d(1024, eps=0.001, momentum=0.03, affine=True, track_running_stats=True)\n",
       "      (act): SiLU()\n",
       "    )\n",
       "    (47): SPPCSPC(\n",
       "      (cv1): Conv(\n",
       "        (conv): Conv2d(1024, 512, kernel_size=(1, 1), stride=(1, 1), bias=False)\n",
       "        (bn): BatchNorm2d(512, eps=0.001, momentum=0.03, affine=True, track_running_stats=True)\n",
       "        (act): SiLU()\n",
       "      )\n",
       "      (cv2): Conv(\n",
       "        (conv): Conv2d(1024, 512, kernel_size=(1, 1), stride=(1, 1), bias=False)\n",
       "        (bn): BatchNorm2d(512, eps=0.001, momentum=0.03, affine=True, track_running_stats=True)\n",
       "        (act): SiLU()\n",
       "      )\n",
       "      (cv3): Conv(\n",
       "        (conv): Conv2d(512, 512, kernel_size=(3, 3), stride=(1, 1), padding=(1, 1), bias=False)\n",
       "        (bn): BatchNorm2d(512, eps=0.001, momentum=0.03, affine=True, track_running_stats=True)\n",
       "        (act): SiLU()\n",
       "      )\n",
       "      (cv4): Conv(\n",
       "        (conv): Conv2d(512, 512, kernel_size=(1, 1), stride=(1, 1), bias=False)\n",
       "        (bn): BatchNorm2d(512, eps=0.001, momentum=0.03, affine=True, track_running_stats=True)\n",
       "        (act): SiLU()\n",
       "      )\n",
       "      (m): ModuleList(\n",
       "        (0): MaxPool2d(kernel_size=5, stride=1, padding=2, dilation=1, ceil_mode=False)\n",
       "        (1): MaxPool2d(kernel_size=9, stride=1, padding=4, dilation=1, ceil_mode=False)\n",
       "        (2): MaxPool2d(kernel_size=13, stride=1, padding=6, dilation=1, ceil_mode=False)\n",
       "      )\n",
       "      (cv5): Conv(\n",
       "        (conv): Conv2d(2048, 512, kernel_size=(1, 1), stride=(1, 1), bias=False)\n",
       "        (bn): BatchNorm2d(512, eps=0.001, momentum=0.03, affine=True, track_running_stats=True)\n",
       "        (act): SiLU()\n",
       "      )\n",
       "      (cv6): Conv(\n",
       "        (conv): Conv2d(512, 512, kernel_size=(3, 3), stride=(1, 1), padding=(1, 1), bias=False)\n",
       "        (bn): BatchNorm2d(512, eps=0.001, momentum=0.03, affine=True, track_running_stats=True)\n",
       "        (act): SiLU()\n",
       "      )\n",
       "      (cv7): Conv(\n",
       "        (conv): Conv2d(1024, 512, kernel_size=(1, 1), stride=(1, 1), bias=False)\n",
       "        (bn): BatchNorm2d(512, eps=0.001, momentum=0.03, affine=True, track_running_stats=True)\n",
       "        (act): SiLU()\n",
       "      )\n",
       "    )\n",
       "    (48): Conv(\n",
       "      (conv): Conv2d(512, 384, kernel_size=(1, 1), stride=(1, 1), bias=False)\n",
       "      (bn): BatchNorm2d(384, eps=0.001, momentum=0.03, affine=True, track_running_stats=True)\n",
       "      (act): SiLU()\n",
       "    )\n",
       "    (49): Upsample(scale_factor=2.0, mode=nearest)\n",
       "    (50): Conv(\n",
       "      (conv): Conv2d(768, 384, kernel_size=(1, 1), stride=(1, 1), bias=False)\n",
       "      (bn): BatchNorm2d(384, eps=0.001, momentum=0.03, affine=True, track_running_stats=True)\n",
       "      (act): SiLU()\n",
       "    )\n",
       "    (51): Concat()\n",
       "    (52): Conv(\n",
       "      (conv): Conv2d(768, 384, kernel_size=(1, 1), stride=(1, 1), bias=False)\n",
       "      (bn): BatchNorm2d(384, eps=0.001, momentum=0.03, affine=True, track_running_stats=True)\n",
       "      (act): SiLU()\n",
       "    )\n",
       "    (53): Conv(\n",
       "      (conv): Conv2d(768, 384, kernel_size=(1, 1), stride=(1, 1), bias=False)\n",
       "      (bn): BatchNorm2d(384, eps=0.001, momentum=0.03, affine=True, track_running_stats=True)\n",
       "      (act): SiLU()\n",
       "    )\n",
       "    (54): Conv(\n",
       "      (conv): Conv2d(384, 192, kernel_size=(3, 3), stride=(1, 1), padding=(1, 1), bias=False)\n",
       "      (bn): BatchNorm2d(192, eps=0.001, momentum=0.03, affine=True, track_running_stats=True)\n",
       "      (act): SiLU()\n",
       "    )\n",
       "    (55): Conv(\n",
       "      (conv): Conv2d(192, 192, kernel_size=(3, 3), stride=(1, 1), padding=(1, 1), bias=False)\n",
       "      (bn): BatchNorm2d(192, eps=0.001, momentum=0.03, affine=True, track_running_stats=True)\n",
       "      (act): SiLU()\n",
       "    )\n",
       "    (56): Conv(\n",
       "      (conv): Conv2d(192, 192, kernel_size=(3, 3), stride=(1, 1), padding=(1, 1), bias=False)\n",
       "      (bn): BatchNorm2d(192, eps=0.001, momentum=0.03, affine=True, track_running_stats=True)\n",
       "      (act): SiLU()\n",
       "    )\n",
       "    (57): Conv(\n",
       "      (conv): Conv2d(192, 192, kernel_size=(3, 3), stride=(1, 1), padding=(1, 1), bias=False)\n",
       "      (bn): BatchNorm2d(192, eps=0.001, momentum=0.03, affine=True, track_running_stats=True)\n",
       "      (act): SiLU()\n",
       "    )\n",
       "    (58): Concat()\n",
       "    (59): Conv(\n",
       "      (conv): Conv2d(1536, 384, kernel_size=(1, 1), stride=(1, 1), bias=False)\n",
       "      (bn): BatchNorm2d(384, eps=0.001, momentum=0.03, affine=True, track_running_stats=True)\n",
       "      (act): SiLU()\n",
       "    )\n",
       "    (60): Conv(\n",
       "      (conv): Conv2d(384, 256, kernel_size=(1, 1), stride=(1, 1), bias=False)\n",
       "      (bn): BatchNorm2d(256, eps=0.001, momentum=0.03, affine=True, track_running_stats=True)\n",
       "      (act): SiLU()\n",
       "    )\n",
       "    (61): Upsample(scale_factor=2.0, mode=nearest)\n",
       "    (62): Conv(\n",
       "      (conv): Conv2d(512, 256, kernel_size=(1, 1), stride=(1, 1), bias=False)\n",
       "      (bn): BatchNorm2d(256, eps=0.001, momentum=0.03, affine=True, track_running_stats=True)\n",
       "      (act): SiLU()\n",
       "    )\n",
       "    (63): Concat()\n",
       "    (64): Conv(\n",
       "      (conv): Conv2d(512, 256, kernel_size=(1, 1), stride=(1, 1), bias=False)\n",
       "      (bn): BatchNorm2d(256, eps=0.001, momentum=0.03, affine=True, track_running_stats=True)\n",
       "      (act): SiLU()\n",
       "    )\n",
       "    (65): Conv(\n",
       "      (conv): Conv2d(512, 256, kernel_size=(1, 1), stride=(1, 1), bias=False)\n",
       "      (bn): BatchNorm2d(256, eps=0.001, momentum=0.03, affine=True, track_running_stats=True)\n",
       "      (act): SiLU()\n",
       "    )\n",
       "    (66): Conv(\n",
       "      (conv): Conv2d(256, 128, kernel_size=(3, 3), stride=(1, 1), padding=(1, 1), bias=False)\n",
       "      (bn): BatchNorm2d(128, eps=0.001, momentum=0.03, affine=True, track_running_stats=True)\n",
       "      (act): SiLU()\n",
       "    )\n",
       "    (67): Conv(\n",
       "      (conv): Conv2d(128, 128, kernel_size=(3, 3), stride=(1, 1), padding=(1, 1), bias=False)\n",
       "      (bn): BatchNorm2d(128, eps=0.001, momentum=0.03, affine=True, track_running_stats=True)\n",
       "      (act): SiLU()\n",
       "    )\n",
       "    (68): Conv(\n",
       "      (conv): Conv2d(128, 128, kernel_size=(3, 3), stride=(1, 1), padding=(1, 1), bias=False)\n",
       "      (bn): BatchNorm2d(128, eps=0.001, momentum=0.03, affine=True, track_running_stats=True)\n",
       "      (act): SiLU()\n",
       "    )\n",
       "    (69): Conv(\n",
       "      (conv): Conv2d(128, 128, kernel_size=(3, 3), stride=(1, 1), padding=(1, 1), bias=False)\n",
       "      (bn): BatchNorm2d(128, eps=0.001, momentum=0.03, affine=True, track_running_stats=True)\n",
       "      (act): SiLU()\n",
       "    )\n",
       "    (70): Concat()\n",
       "    (71): Conv(\n",
       "      (conv): Conv2d(1024, 256, kernel_size=(1, 1), stride=(1, 1), bias=False)\n",
       "      (bn): BatchNorm2d(256, eps=0.001, momentum=0.03, affine=True, track_running_stats=True)\n",
       "      (act): SiLU()\n",
       "    )\n",
       "    (72): Conv(\n",
       "      (conv): Conv2d(256, 128, kernel_size=(1, 1), stride=(1, 1), bias=False)\n",
       "      (bn): BatchNorm2d(128, eps=0.001, momentum=0.03, affine=True, track_running_stats=True)\n",
       "      (act): SiLU()\n",
       "    )\n",
       "    (73): Upsample(scale_factor=2.0, mode=nearest)\n",
       "    (74): Conv(\n",
       "      (conv): Conv2d(256, 128, kernel_size=(1, 1), stride=(1, 1), bias=False)\n",
       "      (bn): BatchNorm2d(128, eps=0.001, momentum=0.03, affine=True, track_running_stats=True)\n",
       "      (act): SiLU()\n",
       "    )\n",
       "    (75): Concat()\n",
       "    (76): Conv(\n",
       "      (conv): Conv2d(256, 128, kernel_size=(1, 1), stride=(1, 1), bias=False)\n",
       "      (bn): BatchNorm2d(128, eps=0.001, momentum=0.03, affine=True, track_running_stats=True)\n",
       "      (act): SiLU()\n",
       "    )\n",
       "    (77): Conv(\n",
       "      (conv): Conv2d(256, 128, kernel_size=(1, 1), stride=(1, 1), bias=False)\n",
       "      (bn): BatchNorm2d(128, eps=0.001, momentum=0.03, affine=True, track_running_stats=True)\n",
       "      (act): SiLU()\n",
       "    )\n",
       "    (78): Conv(\n",
       "      (conv): Conv2d(128, 64, kernel_size=(3, 3), stride=(1, 1), padding=(1, 1), bias=False)\n",
       "      (bn): BatchNorm2d(64, eps=0.001, momentum=0.03, affine=True, track_running_stats=True)\n",
       "      (act): SiLU()\n",
       "    )\n",
       "    (79): Conv(\n",
       "      (conv): Conv2d(64, 64, kernel_size=(3, 3), stride=(1, 1), padding=(1, 1), bias=False)\n",
       "      (bn): BatchNorm2d(64, eps=0.001, momentum=0.03, affine=True, track_running_stats=True)\n",
       "      (act): SiLU()\n",
       "    )\n",
       "    (80): Conv(\n",
       "      (conv): Conv2d(64, 64, kernel_size=(3, 3), stride=(1, 1), padding=(1, 1), bias=False)\n",
       "      (bn): BatchNorm2d(64, eps=0.001, momentum=0.03, affine=True, track_running_stats=True)\n",
       "      (act): SiLU()\n",
       "    )\n",
       "    (81): Conv(\n",
       "      (conv): Conv2d(64, 64, kernel_size=(3, 3), stride=(1, 1), padding=(1, 1), bias=False)\n",
       "      (bn): BatchNorm2d(64, eps=0.001, momentum=0.03, affine=True, track_running_stats=True)\n",
       "      (act): SiLU()\n",
       "    )\n",
       "    (82): Concat()\n",
       "    (83): Conv(\n",
       "      (conv): Conv2d(512, 128, kernel_size=(1, 1), stride=(1, 1), bias=False)\n",
       "      (bn): BatchNorm2d(128, eps=0.001, momentum=0.03, affine=True, track_running_stats=True)\n",
       "      (act): SiLU()\n",
       "    )\n",
       "    (84): Conv(\n",
       "      (conv): Conv2d(128, 256, kernel_size=(3, 3), stride=(2, 2), padding=(1, 1), bias=False)\n",
       "      (bn): BatchNorm2d(256, eps=0.001, momentum=0.03, affine=True, track_running_stats=True)\n",
       "      (act): SiLU()\n",
       "    )\n",
       "    (85): Concat()\n",
       "    (86): Conv(\n",
       "      (conv): Conv2d(512, 256, kernel_size=(1, 1), stride=(1, 1), bias=False)\n",
       "      (bn): BatchNorm2d(256, eps=0.001, momentum=0.03, affine=True, track_running_stats=True)\n",
       "      (act): SiLU()\n",
       "    )\n",
       "    (87): Conv(\n",
       "      (conv): Conv2d(512, 256, kernel_size=(1, 1), stride=(1, 1), bias=False)\n",
       "      (bn): BatchNorm2d(256, eps=0.001, momentum=0.03, affine=True, track_running_stats=True)\n",
       "      (act): SiLU()\n",
       "    )\n",
       "    (88): Conv(\n",
       "      (conv): Conv2d(256, 128, kernel_size=(3, 3), stride=(1, 1), padding=(1, 1), bias=False)\n",
       "      (bn): BatchNorm2d(128, eps=0.001, momentum=0.03, affine=True, track_running_stats=True)\n",
       "      (act): SiLU()\n",
       "    )\n",
       "    (89): Conv(\n",
       "      (conv): Conv2d(128, 128, kernel_size=(3, 3), stride=(1, 1), padding=(1, 1), bias=False)\n",
       "      (bn): BatchNorm2d(128, eps=0.001, momentum=0.03, affine=True, track_running_stats=True)\n",
       "      (act): SiLU()\n",
       "    )\n",
       "    (90): Conv(\n",
       "      (conv): Conv2d(128, 128, kernel_size=(3, 3), stride=(1, 1), padding=(1, 1), bias=False)\n",
       "      (bn): BatchNorm2d(128, eps=0.001, momentum=0.03, affine=True, track_running_stats=True)\n",
       "      (act): SiLU()\n",
       "    )\n",
       "    (91): Conv(\n",
       "      (conv): Conv2d(128, 128, kernel_size=(3, 3), stride=(1, 1), padding=(1, 1), bias=False)\n",
       "      (bn): BatchNorm2d(128, eps=0.001, momentum=0.03, affine=True, track_running_stats=True)\n",
       "      (act): SiLU()\n",
       "    )\n",
       "    (92): Concat()\n",
       "    (93): Conv(\n",
       "      (conv): Conv2d(1024, 256, kernel_size=(1, 1), stride=(1, 1), bias=False)\n",
       "      (bn): BatchNorm2d(256, eps=0.001, momentum=0.03, affine=True, track_running_stats=True)\n",
       "      (act): SiLU()\n",
       "    )\n",
       "    (94): Conv(\n",
       "      (conv): Conv2d(256, 384, kernel_size=(3, 3), stride=(2, 2), padding=(1, 1), bias=False)\n",
       "      (bn): BatchNorm2d(384, eps=0.001, momentum=0.03, affine=True, track_running_stats=True)\n",
       "      (act): SiLU()\n",
       "    )\n",
       "    (95): Concat()\n",
       "    (96): Conv(\n",
       "      (conv): Conv2d(768, 384, kernel_size=(1, 1), stride=(1, 1), bias=False)\n",
       "      (bn): BatchNorm2d(384, eps=0.001, momentum=0.03, affine=True, track_running_stats=True)\n",
       "      (act): SiLU()\n",
       "    )\n",
       "    (97): Conv(\n",
       "      (conv): Conv2d(768, 384, kernel_size=(1, 1), stride=(1, 1), bias=False)\n",
       "      (bn): BatchNorm2d(384, eps=0.001, momentum=0.03, affine=True, track_running_stats=True)\n",
       "      (act): SiLU()\n",
       "    )\n",
       "    (98): Conv(\n",
       "      (conv): Conv2d(384, 192, kernel_size=(3, 3), stride=(1, 1), padding=(1, 1), bias=False)\n",
       "      (bn): BatchNorm2d(192, eps=0.001, momentum=0.03, affine=True, track_running_stats=True)\n",
       "      (act): SiLU()\n",
       "    )\n",
       "    (99): Conv(\n",
       "      (conv): Conv2d(192, 192, kernel_size=(3, 3), stride=(1, 1), padding=(1, 1), bias=False)\n",
       "      (bn): BatchNorm2d(192, eps=0.001, momentum=0.03, affine=True, track_running_stats=True)\n",
       "      (act): SiLU()\n",
       "    )\n",
       "    (100): Conv(\n",
       "      (conv): Conv2d(192, 192, kernel_size=(3, 3), stride=(1, 1), padding=(1, 1), bias=False)\n",
       "      (bn): BatchNorm2d(192, eps=0.001, momentum=0.03, affine=True, track_running_stats=True)\n",
       "      (act): SiLU()\n",
       "    )\n",
       "    (101): Conv(\n",
       "      (conv): Conv2d(192, 192, kernel_size=(3, 3), stride=(1, 1), padding=(1, 1), bias=False)\n",
       "      (bn): BatchNorm2d(192, eps=0.001, momentum=0.03, affine=True, track_running_stats=True)\n",
       "      (act): SiLU()\n",
       "    )\n",
       "    (102): Concat()\n",
       "    (103): Conv(\n",
       "      (conv): Conv2d(1536, 384, kernel_size=(1, 1), stride=(1, 1), bias=False)\n",
       "      (bn): BatchNorm2d(384, eps=0.001, momentum=0.03, affine=True, track_running_stats=True)\n",
       "      (act): SiLU()\n",
       "    )\n",
       "    (104): Conv(\n",
       "      (conv): Conv2d(384, 512, kernel_size=(3, 3), stride=(2, 2), padding=(1, 1), bias=False)\n",
       "      (bn): BatchNorm2d(512, eps=0.001, momentum=0.03, affine=True, track_running_stats=True)\n",
       "      (act): SiLU()\n",
       "    )\n",
       "    (105): Concat()\n",
       "    (106): Conv(\n",
       "      (conv): Conv2d(1024, 512, kernel_size=(1, 1), stride=(1, 1), bias=False)\n",
       "      (bn): BatchNorm2d(512, eps=0.001, momentum=0.03, affine=True, track_running_stats=True)\n",
       "      (act): SiLU()\n",
       "    )\n",
       "    (107): Conv(\n",
       "      (conv): Conv2d(1024, 512, kernel_size=(1, 1), stride=(1, 1), bias=False)\n",
       "      (bn): BatchNorm2d(512, eps=0.001, momentum=0.03, affine=True, track_running_stats=True)\n",
       "      (act): SiLU()\n",
       "    )\n",
       "    (108): Conv(\n",
       "      (conv): Conv2d(512, 256, kernel_size=(3, 3), stride=(1, 1), padding=(1, 1), bias=False)\n",
       "      (bn): BatchNorm2d(256, eps=0.001, momentum=0.03, affine=True, track_running_stats=True)\n",
       "      (act): SiLU()\n",
       "    )\n",
       "    (109): Conv(\n",
       "      (conv): Conv2d(256, 256, kernel_size=(3, 3), stride=(1, 1), padding=(1, 1), bias=False)\n",
       "      (bn): BatchNorm2d(256, eps=0.001, momentum=0.03, affine=True, track_running_stats=True)\n",
       "      (act): SiLU()\n",
       "    )\n",
       "    (110): Conv(\n",
       "      (conv): Conv2d(256, 256, kernel_size=(3, 3), stride=(1, 1), padding=(1, 1), bias=False)\n",
       "      (bn): BatchNorm2d(256, eps=0.001, momentum=0.03, affine=True, track_running_stats=True)\n",
       "      (act): SiLU()\n",
       "    )\n",
       "    (111): Conv(\n",
       "      (conv): Conv2d(256, 256, kernel_size=(3, 3), stride=(1, 1), padding=(1, 1), bias=False)\n",
       "      (bn): BatchNorm2d(256, eps=0.001, momentum=0.03, affine=True, track_running_stats=True)\n",
       "      (act): SiLU()\n",
       "    )\n",
       "    (112): Concat()\n",
       "    (113): Conv(\n",
       "      (conv): Conv2d(2048, 512, kernel_size=(1, 1), stride=(1, 1), bias=False)\n",
       "      (bn): BatchNorm2d(512, eps=0.001, momentum=0.03, affine=True, track_running_stats=True)\n",
       "      (act): SiLU()\n",
       "    )\n",
       "    (114): Conv(\n",
       "      (conv): Conv2d(128, 256, kernel_size=(3, 3), stride=(1, 1), padding=(1, 1), bias=False)\n",
       "      (bn): BatchNorm2d(256, eps=0.001, momentum=0.03, affine=True, track_running_stats=True)\n",
       "      (act): SiLU()\n",
       "    )\n",
       "    (115): Conv(\n",
       "      (conv): Conv2d(256, 512, kernel_size=(3, 3), stride=(1, 1), padding=(1, 1), bias=False)\n",
       "      (bn): BatchNorm2d(512, eps=0.001, momentum=0.03, affine=True, track_running_stats=True)\n",
       "      (act): SiLU()\n",
       "    )\n",
       "    (116): Conv(\n",
       "      (conv): Conv2d(384, 768, kernel_size=(3, 3), stride=(1, 1), padding=(1, 1), bias=False)\n",
       "      (bn): BatchNorm2d(768, eps=0.001, momentum=0.03, affine=True, track_running_stats=True)\n",
       "      (act): SiLU()\n",
       "    )\n",
       "    (117): Conv(\n",
       "      (conv): Conv2d(512, 1024, kernel_size=(3, 3), stride=(1, 1), padding=(1, 1), bias=False)\n",
       "      (bn): BatchNorm2d(1024, eps=0.001, momentum=0.03, affine=True, track_running_stats=True)\n",
       "      (act): SiLU()\n",
       "    )\n",
       "    (118): Conv(\n",
       "      (conv): Conv2d(128, 320, kernel_size=(3, 3), stride=(1, 1), padding=(1, 1), bias=False)\n",
       "      (bn): BatchNorm2d(320, eps=0.001, momentum=0.03, affine=True, track_running_stats=True)\n",
       "      (act): SiLU()\n",
       "    )\n",
       "    (119): Conv(\n",
       "      (conv): Conv2d(256, 640, kernel_size=(3, 3), stride=(1, 1), padding=(1, 1), bias=False)\n",
       "      (bn): BatchNorm2d(640, eps=0.001, momentum=0.03, affine=True, track_running_stats=True)\n",
       "      (act): SiLU()\n",
       "    )\n",
       "    (120): Conv(\n",
       "      (conv): Conv2d(384, 960, kernel_size=(3, 3), stride=(1, 1), padding=(1, 1), bias=False)\n",
       "      (bn): BatchNorm2d(960, eps=0.001, momentum=0.03, affine=True, track_running_stats=True)\n",
       "      (act): SiLU()\n",
       "    )\n",
       "    (121): Conv(\n",
       "      (conv): Conv2d(512, 1280, kernel_size=(3, 3), stride=(1, 1), padding=(1, 1), bias=False)\n",
       "      (bn): BatchNorm2d(1280, eps=0.001, momentum=0.03, affine=True, track_running_stats=True)\n",
       "      (act): SiLU()\n",
       "    )\n",
       "    (122): IAuxDetect(\n",
       "      (m): ModuleList(\n",
       "        (0): Conv2d(256, 153, kernel_size=(1, 1), stride=(1, 1))\n",
       "        (1): Conv2d(512, 153, kernel_size=(1, 1), stride=(1, 1))\n",
       "        (2): Conv2d(768, 153, kernel_size=(1, 1), stride=(1, 1))\n",
       "        (3): Conv2d(1024, 153, kernel_size=(1, 1), stride=(1, 1))\n",
       "      )\n",
       "      (m2): ModuleList(\n",
       "        (0): Conv2d(320, 153, kernel_size=(1, 1), stride=(1, 1))\n",
       "        (1): Conv2d(640, 153, kernel_size=(1, 1), stride=(1, 1))\n",
       "        (2): Conv2d(960, 153, kernel_size=(1, 1), stride=(1, 1))\n",
       "        (3): Conv2d(1280, 153, kernel_size=(1, 1), stride=(1, 1))\n",
       "      )\n",
       "      (ia): ModuleList(\n",
       "        (0): ImplicitA()\n",
       "        (1): ImplicitA()\n",
       "        (2): ImplicitA()\n",
       "        (3): ImplicitA()\n",
       "      )\n",
       "      (im): ModuleList(\n",
       "        (0): ImplicitM()\n",
       "        (1): ImplicitM()\n",
       "        (2): ImplicitM()\n",
       "        (3): ImplicitM()\n",
       "      )\n",
       "    )\n",
       "  )\n",
       ")"
      ]
     },
     "execution_count": 19,
     "metadata": {},
     "output_type": "execute_result"
    }
   ],
   "source": [
    "# Process 0\n",
    "# if rank in [-1, 0]:\n",
    "#     testloader = create_dataloader(test_path, imgsz_test, batch_size * 2, gs, opt,  # testloader\n",
    "#                                     hyp=hyp, cache=opt.cache_images and not opt.notest, rect=True, rank=-1,\n",
    "#                                     world_size=opt.world_size, workers=opt.workers,\n",
    "#                                     pad=0.5, prefix=colorstr('val: '))[0]\n",
    "\n",
    "#     if not opt.resume:\n",
    "#         labels = np.concatenate(dataset.labels, 0)\n",
    "#         c = torch.tensor(labels[:, 0])  # classes\n",
    "#         # cf = torch.bincount(c.long(), minlength=nc) + 1.  # frequency\n",
    "#         # model._initialize_biases(cf.to(device))\n",
    "#         if plots:\n",
    "#             #plot_labels(labels, names, save_dir, loggers)\n",
    "#             if tb_writer:\n",
    "#                 tb_writer.add_histogram('classes', c, 0)\n",
    "\n",
    "#         # Anchors\n",
    "#         if not opt.noautoanchor:\n",
    "#             check_anchors(dataset, model=model, thr=hyp['anchor_t'], imgsz=imgsz)\n",
    "#         model.half().float()  # pre-reduce anchor precision\n",
    "\n",
    "model.half().float()  # pre-reduce anchor precision"
   ]
  },
  {
   "cell_type": "code",
   "execution_count": 20,
   "metadata": {},
   "outputs": [],
   "source": [
    "# DDP mode\n",
    "if cuda and rank != -1:\n",
    "    model = DDP(model, device_ids=[opt.local_rank], output_device=opt.local_rank,\n",
    "                # nn.MultiheadAttention incompatibility with DDP https://github.com/pytorch/pytorch/issues/26698\n",
    "                find_unused_parameters=any(isinstance(layer, nn.MultiheadAttention) for layer in model.modules()))"
   ]
  },
  {
   "cell_type": "code",
   "execution_count": 21,
   "metadata": {},
   "outputs": [],
   "source": [
    "# Model parameters\n",
    "hyp['box'] *= 3. / nl  # scale to layers\n",
    "hyp['cls'] *= nc / 80. * 3. / nl  # scale to classes and layers\n",
    "hyp['obj'] *= (imgsz / 640) ** 2 * 3. / nl  # scale to image size and layers\n",
    "hyp['label_smoothing'] = opt.label_smoothing\n",
    "model.nc = nc  # attach number of classes to model\n",
    "model.hyp = hyp  # attach hyperparameters to model\n",
    "model.gr = 1.0  # iou loss ratio (obj_loss = 1.0 or iou)\n",
    "model.class_weights = torch.tensor([1.25353, 0.31338, 1.25353, 1.25353, 0.62676, 1.25353, 0.62676, 1.25353, 1.25353, 1.25353, 0.15669, 1.25353, 1.25353, 1.25353, 1.25353, 1.25353, 1.25353, 1.25353, 1.25353, 0.62676, 1.25353, 1.25353, 1.25353, 0.08954, 0.41784, 1.25353, 1.25353, 1.25353, 0.62676, 1.25353, 1.25353, 0.12535, 0.25071, 0.10446,\n",
    "        1.25353, 0.25071, 0.41784, 1.25353, 1.25353, 1.25353, 1.25353, 1.25353, 1.25353, 1.25353, 1.25353, 1.25353],device='cuda:0', dtype=torch.float64)  #labels_to_class_weights(dataset.labels, nc).to(device) * nc  # attach class weights\n",
    "model.names = names"
   ]
  },
  {
   "cell_type": "code",
   "execution_count": null,
   "metadata": {},
   "outputs": [],
   "source": [
    "# Start training\n",
    "t0 = time.time()\n",
    "nw = max(round(hyp['warmup_epochs'] * nb), 1000)  # number of warmup iterations, max(3 epochs, 1k iterations)\n",
    "# nw = min(nw, (epochs - start_epoch) / 2 * nb)  # limit warmup to < 1/2 of training\n",
    "maps = np.zeros(nc)  # mAP per class\n",
    "results = (0, 0, 0, 0, 0, 0, 0)  # P, R, mAP@.5, mAP@.5-.95, val_loss(box, obj, cls)\n",
    "scheduler.last_epoch = start_epoch - 1  # do not move\n",
    "scaler = amp.GradScaler(enabled=cuda)\n",
    "compute_loss_ota = ComputeLossAuxOTA(model)  # init loss class\n",
    "compute_loss = ComputeLoss(model)  # init loss class\n",
    "logger.info(f'Image sizes {imgsz} train, {imgsz_test} test\\n'\n",
    "            f'Using {dataloader.num_workers} dataloader workers\\n'\n",
    "            f'Logging results to {save_dir}\\n'\n",
    "            f'Starting training for {epochs} epochs...')"
   ]
  },
  {
   "cell_type": "code",
   "execution_count": 27,
   "metadata": {},
   "outputs": [
    {
     "name": "stderr",
     "output_type": "stream",
     "text": [
      "\n",
      "     Epoch   gpu_mem       box       obj       cls     total    labels  img_size\n"
     ]
    },
    {
     "name": "stdout",
     "output_type": "stream",
     "text": [
      "30\n"
     ]
    },
    {
     "name": "stderr",
     "output_type": "stream",
     "text": [
      "  0%|          | 0/14 [00:00<?, ?it/s]"
     ]
    },
    {
     "name": "stdout",
     "output_type": "stream",
     "text": [
      "tensor([[[[0.44706, 0.44706, 0.44706,  ..., 0.44706, 0.44706, 0.44706],\n",
      "          [0.44706, 0.44706, 0.44706,  ..., 0.44706, 0.44706, 0.44706],\n",
      "          [0.44706, 0.44706, 0.44706,  ..., 0.44706, 0.44706, 0.44706],\n",
      "          ...,\n",
      "          [0.44706, 0.44706, 0.44706,  ..., 0.44706, 0.44706, 0.44706],\n",
      "          [0.44706, 0.44706, 0.44706,  ..., 0.44706, 0.44706, 0.44706],\n",
      "          [0.44706, 0.44706, 0.44706,  ..., 0.44706, 0.44706, 0.44706]],\n",
      "\n",
      "         [[0.44706, 0.44706, 0.44706,  ..., 0.44706, 0.44706, 0.44706],\n",
      "          [0.44706, 0.44706, 0.44706,  ..., 0.44706, 0.44706, 0.44706],\n",
      "          [0.44706, 0.44706, 0.44706,  ..., 0.44706, 0.44706, 0.44706],\n",
      "          ...,\n",
      "          [0.44706, 0.44706, 0.44706,  ..., 0.44706, 0.44706, 0.44706],\n",
      "          [0.44706, 0.44706, 0.44706,  ..., 0.44706, 0.44706, 0.44706],\n",
      "          [0.44706, 0.44706, 0.44706,  ..., 0.44706, 0.44706, 0.44706]],\n",
      "\n",
      "         [[0.44706, 0.44706, 0.44706,  ..., 0.44706, 0.44706, 0.44706],\n",
      "          [0.44706, 0.44706, 0.44706,  ..., 0.44706, 0.44706, 0.44706],\n",
      "          [0.44706, 0.44706, 0.44706,  ..., 0.44706, 0.44706, 0.44706],\n",
      "          ...,\n",
      "          [0.44706, 0.44706, 0.44706,  ..., 0.44706, 0.44706, 0.44706],\n",
      "          [0.44706, 0.44706, 0.44706,  ..., 0.44706, 0.44706, 0.44706],\n",
      "          [0.44706, 0.44706, 0.44706,  ..., 0.44706, 0.44706, 0.44706]]]], device='cuda:0')\n",
      "tensor([[0.00000e+00, 1.00000e+01, 4.66309e-01, 6.19629e-01, 4.50195e-01, 7.02148e-01],\n",
      "        [0.00000e+00, 3.60000e+01, 4.85840e-01, 3.74023e-01, 1.29883e-01, 3.90620e-02],\n",
      "        [0.00000e+00, 3.30000e+01, 4.84863e-01, 2.81738e-01, 1.25977e-01, 2.63670e-02]])\n",
      "[tensor([[[[[-1.52969e-01,  3.78782e-01, -5.15855e-01,  ..., -5.49667e+00, -4.37702e+00, -4.21906e+00],\n",
      "           [ 1.32773e-01,  3.13567e-01,  2.55795e-01,  ..., -5.34914e+00, -5.19379e+00, -4.56502e+00],\n",
      "           [-6.59083e-02,  1.14200e-01,  8.53157e-01,  ..., -5.33228e+00, -5.45348e+00, -5.11349e+00],\n",
      "           ...,\n",
      "           [-2.70804e-01,  2.42992e-01,  1.01160e+00,  ..., -4.76744e+00, -4.64928e+00, -4.91520e+00],\n",
      "           [-1.22375e-01,  4.43104e-01,  2.37513e-01,  ..., -4.91076e+00, -4.53200e+00, -4.54392e+00],\n",
      "           [ 4.43970e-02,  3.69849e-01, -5.73139e-01,  ..., -5.58098e+00, -4.72048e+00, -4.60721e+00]],\n",
      "\n",
      "          [[-3.39700e-02,  3.29946e-01, -5.60951e-01,  ..., -5.30699e+00, -4.05032e+00, -3.65792e+00],\n",
      "           [-2.16189e-01,  1.78075e-01,  1.50064e-01,  ..., -5.58098e+00, -4.98017e+00, -4.05873e+00],\n",
      "           [-3.21714e-01,  2.39568e-01,  7.98311e-01,  ..., -5.48403e+00, -5.15609e+00, -4.79707e+00],\n",
      "           ...,\n",
      "           [-9.94301e-02, -3.78782e-01,  7.53216e-01,  ..., -4.80116e+00, -4.18644e+00, -4.69159e+00],\n",
      "           [ 1.43648e-01, -3.46919e-02,  1.26602e-01,  ..., -5.02035e+00, -4.28906e+00, -4.16421e+00],\n",
      "           [ 1.11889e-02,  1.85669e-01, -5.58513e-01,  ..., -5.07093e+00, -4.47336e+00, -4.30976e+00]],\n",
      "\n",
      "          [[-1.03314e-01, -1.38768e-01, -7.32496e-01,  ..., -5.14681e+00, -3.85345e+00, -3.31407e+00],\n",
      "           [ 6.71108e-03, -1.65568e-01,  1.72307e-01,  ..., -4.88546e+00, -4.78331e+00, -3.52713e+00],\n",
      "           [-1.72688e-01,  4.92834e-02,  8.61689e-01,  ..., -4.91919e+00, -4.77074e+00, -4.37516e+00],\n",
      "           ...,\n",
      "           [ 8.23405e-02,  1.41597e-01,  7.32496e-01,  ..., -4.35856e+00, -3.67754e+00, -4.07350e+00],\n",
      "           [ 2.54551e-01,  2.31825e-01,  7.69365e-02,  ..., -4.64098e+00, -3.78016e+00, -3.64948e+00],\n",
      "           [-1.77827e-01,  1.74651e-01, -6.28899e-01,  ..., -4.64520e+00, -4.26603e+00, -3.81614e+00]],\n",
      "\n",
      "          ...,\n",
      "\n",
      "          [[ 1.17565e-02, -1.74204e-01, -6.98370e-01,  ..., -5.44188e+00, -3.99796e+00, -3.51236e+00],\n",
      "           [-1.18611e-01, -2.97189e-01,  1.98054e-01,  ..., -5.35336e+00, -5.01787e+00, -4.07139e+00],\n",
      "           [-2.18101e-01,  3.51386e-01,  8.78752e-01,  ..., -5.43766e+00, -4.82520e+00, -4.76753e+00],\n",
      "           ...,\n",
      "           [-4.36500e-02,  1.48744e-01,  9.26285e-01,  ..., -5.92663e+00, -5.31944e+00, -5.32023e+00],\n",
      "           [ 7.82773e-02,  1.26261e-01,  2.47111e-01,  ..., -5.88448e+00, -5.19379e+00, -4.80128e+00],\n",
      "           [-1.16221e-01,  3.29946e-01, -6.15797e-01,  ..., -5.36600e+00, -4.85870e+00, -4.51017e+00]],\n",
      "\n",
      "          [[ 5.76922e-02,  5.78447e-02, -6.17015e-01,  ..., -5.31542e+00, -3.96236e+00, -3.88153e+00],\n",
      "           [-1.73764e-01,  1.86413e-01,  2.15727e-01,  ..., -5.54304e+00, -4.92991e+00, -4.16210e+00],\n",
      "           [ 2.72716e-01,  3.68955e-01,  1.10789e+00,  ..., -5.47560e+00, -4.92153e+00, -4.67471e+00],\n",
      "           ...,\n",
      "           [-2.35907e-01,  2.88256e-01,  1.00673e+00,  ..., -6.02779e+00, -5.34876e+00, -5.31601e+00],\n",
      "           [-3.71780e-03,  4.35361e-01,  2.66612e-01,  ..., -5.92241e+00, -5.26918e+00, -4.93629e+00],\n",
      "           [-1.27275e-01,  3.78187e-01, -5.62779e-01,  ..., -5.43766e+00, -4.84614e+00, -4.70003e+00]],\n",
      "\n",
      "          [[-9.18414e-02, -2.52819e-01, -5.69482e-01,  ..., -5.77488e+00, -3.98749e+00, -4.72534e+00],\n",
      "           [ 7.35568e-02, -1.31919e-01,  3.08051e-01,  ..., -5.76645e+00, -4.75399e+00, -4.88988e+00],\n",
      "           [ 3.80033e-01, -2.14405e-01,  1.07742e+00,  ..., -5.95613e+00, -4.98017e+00, -5.28648e+00],\n",
      "           ...,\n",
      "           [-1.65996e-01, -1.26559e-01,  9.32379e-01,  ..., -6.35658e+00, -5.22729e+00, -6.02481e+00],\n",
      "           [-2.15113e-02, -1.87307e-01,  2.57775e-01,  ..., -6.02779e+00, -4.81682e+00, -5.61134e+00],\n",
      "           [ 5.94175e-03, -2.23339e-01, -4.68932e-01,  ..., -5.66950e+00, -4.70792e+00, -5.23163e+00]]],\n",
      "\n",
      "\n",
      "         [[[ 2.97658e-01,  3.82540e-01, -5.41561e-01,  ..., -5.24582e+00, -5.42702e+00, -5.00019e+00],\n",
      "           [ 4.63552e-01,  4.18770e-01, -2.57128e-01,  ..., -5.30928e+00, -5.56373e+00, -6.03812e+00],\n",
      "           [ 1.36733e-01,  3.45060e-01,  3.69763e-02,  ..., -5.53772e+00, -5.93243e+00, -6.56355e+00],\n",
      "           ...,\n",
      "           [-4.27046e-01,  4.75239e-01,  1.25293e-01,  ..., -4.61971e+00, -5.09145e+00, -5.83570e+00],\n",
      "           [-3.88813e-01,  5.74184e-01, -1.62411e-01,  ..., -4.58586e+00, -5.06660e+00, -5.40503e+00],\n",
      "           [-1.53797e-01,  4.62246e-01, -4.62204e-01,  ..., -5.87616e+00, -5.46844e+00, -5.21983e+00]],\n",
      "\n",
      "          [[ 5.19713e-01,  3.69297e-01, -8.35665e-01,  ..., -5.43619e+00, -4.93817e+00, -4.25727e+00],\n",
      "           [ 9.39631e-02,  2.30248e-01, -4.38881e-01,  ..., -5.06814e+00, -4.80146e+00, -5.13370e+00],\n",
      "           [-1.01739e-01,  4.35511e-01, -6.12954e-02,  ..., -5.44888e+00, -5.24888e+00, -6.10273e+00],\n",
      "           ...,\n",
      "           [-3.59868e-01, -2.22003e-01, -3.46298e-02,  ..., -4.53510e+00, -4.54875e+00, -5.84432e+00],\n",
      "           [-1.18048e-01,  1.43203e-02, -4.52818e-01,  ..., -4.62394e+00, -4.65232e+00, -5.02603e+00],\n",
      "           [-3.42371e-01,  2.20254e-01, -8.19737e-01,  ..., -5.43619e+00, -4.94646e+00, -4.55659e+00]],\n",
      "\n",
      "          [[ 4.92496e-01, -1.77902e-01, -9.32373e-01,  ..., -5.62656e+00, -4.97960e+00, -3.81582e+00],\n",
      "           [ 2.41712e-01, -2.17381e-01, -4.58791e-01,  ..., -4.62394e+00, -4.59432e+00, -4.24004e+00],\n",
      "           [-3.75313e-03, -2.44241e-02, -8.57567e-02,  ..., -4.85661e+00, -4.88017e+00, -5.00449e+00],\n",
      "           ...,\n",
      "           [-2.21839e-01,  1.25244e-01, -9.51430e-02,  ..., -4.04647e+00, -4.20697e+00, -4.90974e+00],\n",
      "           [ 6.98783e-02,  1.50167e-01, -5.44405e-01,  ..., -4.34895e+00, -4.37476e+00, -4.16898e+00],\n",
      "           [-5.33970e-01,  1.07004e-01, -9.40337e-01,  ..., -5.38966e+00, -4.91746e+00, -4.03977e+00]],\n",
      "\n",
      "          ...,\n",
      "\n",
      "          [[ 6.01364e-01, -2.81096e-01, -9.01085e-01,  ..., -5.74079e+00, -4.83046e+00, -4.16898e+00],\n",
      "           [ 1.18912e-01, -4.88482e-01, -4.98327e-01,  ..., -5.11044e+00, -4.59018e+00, -4.45753e+00],\n",
      "           [-1.08436e-01,  1.16249e-01, -8.06369e-02,  ..., -5.20351e+00, -4.79732e+00, -4.82792e+00],\n",
      "           ...,\n",
      "           [-1.85118e-01,  4.61621e-02, -4.95625e-02,  ..., -5.70271e+00, -5.64244e+00, -5.71942e+00],\n",
      "           [-1.04439e-01, -1.81150e-02, -4.65333e-01,  ..., -5.78309e+00, -5.54716e+00, -5.01741e+00],\n",
      "           [-5.11937e-01,  1.73530e-01, -8.68091e-01,  ..., -6.09192e+00, -5.36488e+00, -4.72025e+00]],\n",
      "\n",
      "          [[ 5.97476e-01, -9.03878e-02, -9.27253e-01,  ..., -5.59695e+00, -4.65646e+00, -4.16682e+00],\n",
      "           [ 6.66922e-02, -3.55117e-02, -4.65333e-01,  ..., -4.96661e+00, -4.58189e+00, -4.44892e+00],\n",
      "           [ 4.30934e-01,  1.11251e-01,  4.26295e-02,  ..., -4.83123e+00, -4.78903e+00, -5.06910e+00],\n",
      "           ...,\n",
      "           [-3.91837e-01,  6.57763e-02,  1.31906e-02,  ..., -5.33043e+00, -5.46016e+00, -5.90461e+00],\n",
      "           [-1.70862e-01,  1.86772e-01, -3.98776e-01,  ..., -5.47427e+00, -5.45602e+00, -5.33181e+00],\n",
      "           [-5.00273e-01,  1.89646e-01, -8.60126e-01,  ..., -5.84655e+00, -5.26545e+00, -4.54367e+00]],\n",
      "\n",
      "          [[ 2.80593e-01, -4.15522e-01, -7.79916e-01,  ..., -5.88885e+00, -5.15774e+00, -4.97435e+00],\n",
      "           [ 3.11482e-01, -4.86483e-01, -2.74052e-01,  ..., -5.46581e+00, -5.07488e+00, -5.89600e+00],\n",
      "           [ 5.10209e-01, -5.82680e-01,  2.27689e-01,  ..., -5.63079e+00, -5.57616e+00, -6.52910e+00],\n",
      "           ...,\n",
      "           [-3.42587e-01, -3.91035e-01, -7.67081e-03,  ..., -6.16807e+00, -5.92415e+00, -7.01577e+00],\n",
      "           [-2.02831e-01, -4.19020e-01, -3.50991e-01,  ..., -5.80424e+00, -5.50987e+00, -6.08981e+00],\n",
      "           [-3.06082e-01, -3.78292e-01, -6.48508e-01,  ..., -5.92693e+00, -5.39388e+00, -5.49116e+00]]],\n",
      "\n",
      "\n",
      "         [[[ 1.85331e-01,  3.28062e-01, -4.44851e-01,  ..., -5.02489e+00, -6.23998e+00, -4.63756e+00],\n",
      "           [ 3.50138e-01,  6.95269e-01, -9.79939e-02,  ..., -5.08818e+00, -6.51422e+00, -5.49713e+00],\n",
      "           [-2.79862e-02,  9.79682e-01,  2.54246e-01,  ..., -5.00802e+00, -7.07957e+00, -6.08654e+00],\n",
      "           ...,\n",
      "           [-5.00434e-01,  9.43654e-01,  3.68546e-01,  ..., -4.21484e+00, -6.60282e+00, -5.86961e+00],\n",
      "           [-4.12744e-01,  8.03699e-01,  3.62134e-03,  ..., -4.37094e+00, -6.23998e+00, -5.53806e+00],\n",
      "           [-1.34748e-01,  3.83836e-01, -4.82529e-01,  ..., -5.16412e+00, -6.10919e+00, -5.26791e+00]],\n",
      "\n",
      "          [[ 4.90898e-01,  7.08087e-01, -7.96616e-01,  ..., -4.94051e+00, -5.41727e+00, -4.13410e+00],\n",
      "           [ 9.98173e-02,  9.02083e-01, -3.25169e-01,  ..., -4.70847e+00, -4.84769e+00, -4.94046e+00],\n",
      "           [-1.47808e-01,  1.24712e+00,  8.05006e-02,  ..., -4.86879e+00, -5.27382e+00, -5.61992e+00],\n",
      "           ...,\n",
      "           [-3.63198e-01,  8.49427e-01,  1.42004e-01,  ..., -3.69589e+00, -4.90254e+00, -5.35796e+00],\n",
      "           [-1.05259e-01,  8.66748e-01, -3.43216e-01,  ..., -3.86044e+00, -4.80128e+00, -4.87087e+00],\n",
      "           [-3.19872e-01,  5.94807e-01, -8.14346e-01,  ..., -4.61143e+00, -5.15147e+00, -4.82585e+00]],\n",
      "\n",
      "          [[ 5.05824e-01, -1.26444e-01, -9.17564e-01,  ..., -4.86457e+00, -5.20210e+00, -3.75753e+00],\n",
      "           [ 2.61826e-01, -4.79362e-02, -3.71395e-01,  ..., -4.19163e+00, -4.62408e+00, -4.58435e+00],\n",
      "           [-5.26036e-02,  8.86841e-02,  3.53625e-02,  ..., -4.24226e+00, -5.12615e+00, -5.10828e+00],\n",
      "           ...,\n",
      "           [-1.94452e-01,  2.77831e-01,  4.61078e-02,  ..., -3.36048e+00, -4.46376e+00, -5.25154e+00],\n",
      "           [ 9.69151e-02,  2.76098e-01, -4.64481e-01,  ..., -3.73808e+00, -4.32031e+00, -4.65803e+00],\n",
      "           [-5.03336e-01,  2.07160e-01, -9.15031e-01,  ..., -4.47642e+00, -4.64096e+00, -4.41244e+00]],\n",
      "\n",
      "          ...,\n",
      "\n",
      "          [[ 5.89161e-01, -2.47865e-01, -8.81470e-01,  ..., -5.00380e+00, -5.08396e+00, -3.97038e+00],\n",
      "           [ 1.68539e-01, -3.94921e-01, -3.78361e-01,  ..., -4.53548e+00, -4.67893e+00, -4.85450e+00],\n",
      "           [-1.18993e-01,  1.62212e-01,  4.52766e-02,  ..., -4.49751e+00, -4.99958e+00, -5.12056e+00],\n",
      "           ...,\n",
      "           [-1.97354e-01,  1.19342e-01,  9.21364e-02,  ..., -4.85613e+00, -5.58181e+00, -6.02515e+00],\n",
      "           [-7.97606e-02,  3.80198e-02, -3.55881e-01,  ..., -4.90676e+00, -5.45524e+00, -5.59127e+00],\n",
      "           [-4.52754e-01,  1.32680e-01, -8.57407e-01,  ..., -5.21053e+00, -5.15569e+00, -5.25972e+00]],\n",
      "\n",
      "          [[ 5.62211e-01, -3.41399e-01, -8.75771e-01,  ..., -5.05021e+00, -5.32023e+00, -3.91307e+00],\n",
      "           [ 1.31431e-01, -2.61029e-01, -3.32767e-01,  ..., -4.67049e+00, -5.10084e+00, -4.67440e+00],\n",
      "           [ 4.23524e-01, -4.01850e-01,  1.83798e-01,  ..., -4.47220e+00, -5.57337e+00, -5.01004e+00],\n",
      "           ...,\n",
      "           [-3.60918e-01, -5.83375e-01,  1.59339e-01,  ..., -4.70003e+00, -5.88136e+00, -5.94328e+00],\n",
      "           [-1.43662e-01, -4.99194e-01, -2.92557e-01,  ..., -4.77175e+00, -5.87292e+00, -5.54625e+00],\n",
      "           [-4.30780e-01, -4.02543e-01, -8.22578e-01,  ..., -5.18100e+00, -5.60291e+00, -4.92818e+00]],\n",
      "\n",
      "          [[ 2.33218e-01, -2.00059e-01, -6.34823e-01,  ..., -5.14725e+00, -5.80120e+00, -4.44518e+00],\n",
      "           [ 2.69289e-01, -3.02600e-01, -8.39834e-02,  ..., -4.95317e+00, -5.98262e+00, -5.28428e+00],\n",
      "           [ 4.13159e-01, -5.64668e-01,  4.42001e-01,  ..., -4.70003e+00, -6.78846e+00, -5.77546e+00],\n",
      "           ...,\n",
      "           [-3.83721e-01, -4.08432e-01,  2.25275e-01,  ..., -4.94051e+00, -7.20615e+00, -6.47540e+00],\n",
      "           [-2.48559e-01, -2.74020e-01, -1.53086e-01,  ..., -4.88145e+00, -6.72517e+00, -5.77956e+00],\n",
      "           [-3.09092e-01, -1.34412e-01, -5.28755e-01,  ..., -5.08818e+00, -6.00372e+00, -5.32931e+00]]]]], device='cuda:0'), tensor([[[[[-1.02133e-01, -3.50292e-02, -5.36516e-01,  ..., -5.11091e+00, -6.11313e+00, -6.28084e+00],\n",
      "           [ 1.02981e-01,  1.02886e+00, -4.50533e-01,  ..., -5.38993e+00, -6.76000e+00, -6.39080e+00],\n",
      "           [ 2.05679e-01,  7.21926e-01, -6.70208e-02,  ..., -4.96918e+00, -6.34875e+00, -6.15768e+00],\n",
      "           ...,\n",
      "           [-2.58794e-01,  6.41996e-01, -1.12983e-01,  ..., -5.33235e+00, -5.94606e+00, -5.96416e+00],\n",
      "           [-5.77201e-01,  6.36881e-01, -2.77695e-01,  ..., -4.71674e+00, -5.77899e+00, -5.81021e+00],\n",
      "           [-3.41291e-01,  5.79491e-02, -1.77033e-01,  ..., -4.67688e+00, -5.54766e+00, -5.80142e+00]],\n",
      "\n",
      "          [[ 1.19113e+00,  1.55703e-01, -7.22112e-01,  ..., -5.32349e+00, -6.34018e+00, -6.25885e+00],\n",
      "           [ 1.77991e-01,  2.90465e-01, -4.95272e-01,  ..., -5.23049e+00, -6.86710e+00, -6.23685e+00],\n",
      "           [ 9.40812e-02, -8.84024e-02, -1.52391e-01,  ..., -4.92933e+00, -6.55866e+00, -6.19727e+00],\n",
      "           ...,\n",
      "           [-1.07642e-01, -1.58741e-01, -1.41818e-01,  ..., -4.44658e+00, -5.60763e+00, -5.80582e+00],\n",
      "           [-7.22702e-01,  3.65279e-02, -3.95309e-01,  ..., -4.57502e+00, -5.95034e+00, -5.87179e+00],\n",
      "           [-1.01427e+00,  2.07418e-02, -6.37527e-01,  ..., -4.54401e+00, -5.78756e+00, -5.77503e+00]],\n",
      "\n",
      "          [[ 1.22729e+00, -3.14284e-01, -7.29102e-01,  ..., -5.25263e+00, -6.11742e+00, -6.06092e+00],\n",
      "           [ 2.19664e-01,  9.89531e-02, -4.88282e-01,  ..., -4.93818e+00, -6.69574e+00, -6.00374e+00],\n",
      "           [-1.73330e-01,  1.84638e-01, -1.76858e-01,  ..., -4.80975e+00, -6.43871e+00, -6.21926e+00],\n",
      "           ...,\n",
      "           [ 4.33324e-02, -3.55528e-01, -1.84547e-01,  ..., -4.76546e+00, -5.77470e+00, -6.18407e+00],\n",
      "           [ 9.43637e-02,  1.42035e-01, -6.20750e-01,  ..., -5.04890e+00, -6.25022e+00, -6.32042e+00],\n",
      "           [-9.54938e-01,  3.07570e-01, -8.95474e-01,  ..., -5.10205e+00, -6.36588e+00, -6.43918e+00]],\n",
      "\n",
      "          ...,\n",
      "\n",
      "          [[ 8.18760e-01,  1.75046e-01, -7.73841e-01,  ..., -5.62909e+00, -5.92036e+00, -6.22806e+00],\n",
      "           [ 1.30315e-02,  7.02583e-02, -5.09253e-01,  ..., -5.85053e+00, -6.14740e+00, -6.36880e+00],\n",
      "           [-1.93954e-01, -1.92311e-01, -1.77557e-01,  ..., -5.33678e+00, -6.23737e+00, -6.52275e+00],\n",
      "           ...,\n",
      "           [ 3.57678e-01,  3.83024e-01, -2.32082e-01,  ..., -4.59273e+00, -5.61192e+00, -6.14009e+00],\n",
      "           [ 1.63441e-01,  4.37696e-01, -6.43469e-01,  ..., -5.36335e+00, -6.43443e+00, -6.43918e+00],\n",
      "           [-1.21373e+00,  4.59597e-02, -8.36056e-01,  ..., -5.29692e+00, -6.47726e+00, -6.45237e+00]],\n",
      "\n",
      "          [[ 8.42493e-01, -3.95493e-01, -6.71781e-01,  ..., -5.22606e+00, -5.83468e+00, -6.07412e+00],\n",
      "           [ 4.06484e-02, -3.74072e-01, -4.45291e-01,  ..., -5.12420e+00, -5.92892e+00, -6.05652e+00],\n",
      "           [ 1.65984e-01, -8.29352e-01,  7.88472e-04,  ..., -4.43994e+00, -5.90751e+00, -6.36441e+00],\n",
      "           ...,\n",
      "           [ 3.45812e-01, -1.89913e-01, -2.59170e-01,  ..., -4.26500e+00, -5.83468e+00, -6.35561e+00],\n",
      "           [ 1.56378e-01, -7.30239e-01, -6.67936e-01,  ..., -5.30135e+00, -6.67861e+00, -6.78665e+00],\n",
      "           [-1.06456e+00, -5.04517e-01, -8.43745e-01,  ..., -5.18620e+00, -6.34875e+00, -6.43918e+00]],\n",
      "\n",
      "          [[ 3.89038e-01,  3.46576e-01, -1.17002e-01,  ..., -4.84961e+00, -5.79184e+00, -6.17088e+00],\n",
      "           [ 3.65024e-01, -7.34715e-01, -2.48510e-01,  ..., -4.91604e+00, -5.82183e+00, -5.92457e+00],\n",
      "           [ 1.97344e-01, -6.81642e-01, -1.67159e-01,  ..., -4.97804e+00, -5.74472e+00, -6.29403e+00],\n",
      "           ...,\n",
      "           [-6.86891e-02, -8.94575e-01, -2.10936e-01,  ..., -4.91604e+00, -5.86895e+00, -6.25445e+00],\n",
      "           [-4.74997e-02, -1.06914e+00, -6.27391e-01,  ..., -5.58037e+00, -6.35732e+00, -6.47437e+00],\n",
      "           [-2.94392e-01, -2.19407e-02, -7.34694e-01,  ..., -4.93375e+00, -5.85181e+00, -5.93777e+00]]],\n",
      "\n",
      "\n",
      "         [[[-1.25509e-01,  1.31177e-01, -4.55405e-01,  ..., -4.84703e+00, -5.97735e+00, -5.68085e+00],\n",
      "           [ 1.01757e-01,  1.48873e+00, -3.31896e-01,  ..., -5.13268e+00, -6.06092e+00, -6.15759e+00],\n",
      "           [ 2.47645e-01,  1.41723e+00,  7.67057e-02,  ..., -4.82918e+00, -5.56831e+00, -5.89026e+00],\n",
      "           ...,\n",
      "           [-2.05340e-01,  1.43153e+00,  1.50904e-03,  ..., -4.60602e+00, -4.80299e+00, -5.37787e+00],\n",
      "           [-5.14405e-01,  1.26550e+00, -1.31310e-01,  ..., -4.03027e+00, -4.64465e+00, -5.40015e+00],\n",
      "           [-1.81166e-01,  3.18161e-01, -4.09763e-02,  ..., -4.32930e+00, -4.88216e+00, -5.32886e+00]],\n",
      "\n",
      "          [[ 1.18735e+00,  2.87577e-01, -6.89794e-01,  ..., -5.19962e+00, -6.09611e+00, -5.90363e+00],\n",
      "           [ 2.05340e-01,  4.92535e-01, -4.01173e-01,  ..., -5.32459e+00, -6.18847e+00, -6.80811e+00],\n",
      "           [ 1.52073e-01,  1.29985e-01, -4.75232e-02,  ..., -5.12375e+00, -5.88499e+00, -6.53632e+00],\n",
      "           ...,\n",
      "           [-4.66619e-02,  2.93138e-01, -2.29142e-02,  ..., -4.10837e+00, -4.67104e+00, -5.82788e+00],\n",
      "           [-6.80251e-01,  3.12601e-01, -2.74320e-01,  ..., -4.17755e+00, -5.05810e+00, -5.97046e+00],\n",
      "           [-8.56779e-01,  2.78441e-01, -5.76128e-01,  ..., -4.48551e+00, -5.07129e+00, -5.56055e+00]],\n",
      "\n",
      "          [[ 1.23794e+00, -2.89165e-01, -7.07253e-01,  ..., -5.17731e+00, -5.89378e+00, -5.65857e+00],\n",
      "           [ 2.81517e-01,  2.22038e-01, -4.17517e-01,  ..., -5.24872e+00, -5.95976e+00, -6.55414e+00],\n",
      "           [-4.03372e-02,  2.92740e-01, -1.01500e-01,  ..., -5.35583e+00, -5.86739e+00, -6.57196e+00],\n",
      "           ...,\n",
      "           [ 2.11103e-01, -2.90357e-01, -1.23973e-01,  ..., -4.78455e+00, -5.07569e+00, -6.30908e+00],\n",
      "           [ 2.34715e-01,  2.22038e-01, -5.72042e-01,  ..., -4.90059e+00, -5.53752e+00, -6.29572e+00],\n",
      "           [-7.97187e-01,  3.78934e-01, -8.88523e-01,  ..., -5.30674e+00, -5.73544e+00, -6.29572e+00]],\n",
      "\n",
      "          ...,\n",
      "\n",
      "          [[ 8.30918e-01,  2.90953e-02, -7.75600e-01,  ..., -5.42278e+00, -5.69146e+00, -5.70758e+00],\n",
      "           [ 9.85942e-02,  1.39022e-03, -4.40547e-01,  ..., -5.96283e+00, -5.88939e+00, -6.67444e+00],\n",
      "           [-9.29021e-02, -3.42391e-01, -1.01408e-01,  ..., -5.72182e+00, -6.19287e+00, -6.69226e+00],\n",
      "           ...,\n",
      "           [ 3.87069e-01,  2.58978e-01, -1.37996e-01,  ..., -4.73545e+00, -5.49793e+00, -6.34918e+00],\n",
      "           [ 1.69360e-01,  2.82413e-01, -5.64613e-01,  ..., -5.19516e+00, -5.92017e+00, -6.46948e+00],\n",
      "           [-1.10527e+00, -2.47757e-02, -7.93430e-01,  ..., -5.64148e+00, -6.07851e+00, -6.18433e+00]],\n",
      "\n",
      "          [[ 8.55093e-01, -6.14079e-01, -6.62306e-01,  ..., -4.99878e+00, -5.59909e+00, -5.56946e+00],\n",
      "           [ 1.26142e-01, -6.24804e-01, -3.72942e-01,  ..., -4.97200e+00, -5.45395e+00, -6.26453e+00],\n",
      "           [ 2.58608e-01, -1.07166e+00,  1.16452e-01,  ..., -4.45427e+00, -5.59470e+00, -6.30463e+00],\n",
      "           ...,\n",
      "           [ 3.83414e-01, -5.82700e-01, -1.59540e-01,  ..., -4.10168e+00, -5.37038e+00, -6.01501e+00],\n",
      "           [ 1.92129e-01, -1.02876e+00, -5.87644e-01,  ..., -5.13268e+00, -6.23685e+00, -6.50513e+00],\n",
      "           [-9.50103e-01, -7.22517e-01, -7.99374e-01,  ..., -5.36476e+00, -6.06972e+00, -6.01947e+00]],\n",
      "\n",
      "          [[ 3.85663e-01,  7.15963e-02, -2.91361e-02,  ..., -4.65958e+00, -5.59030e+00, -5.89026e+00],\n",
      "           [ 4.13773e-01, -1.30124e+00, -1.48025e-01,  ..., -4.34269e+00, -5.35279e+00, -6.00165e+00],\n",
      "           [ 2.46099e-01, -1.36559e+00, -6.99266e-02,  ..., -4.37840e+00, -5.27802e+00, -6.18433e+00],\n",
      "           ...,\n",
      "           [-2.10822e-03, -1.63331e+00, -1.12273e-01,  ..., -4.38732e+00, -5.51113e+00, -6.05511e+00],\n",
      "           [ 3.41531e-02, -1.74135e+00, -5.43440e-01,  ..., -5.11929e+00, -6.04333e+00, -6.14423e+00],\n",
      "           [-1.59522e-01, -3.67018e-01, -6.60078e-01,  ..., -4.78008e+00, -5.50233e+00, -5.82343e+00]]],\n",
      "\n",
      "\n",
      "         [[[-2.26840e-01,  1.46602e-01, -4.50359e-01,  ..., -4.55882e+00, -5.62298e+00, -5.98312e+00],\n",
      "           [ 2.82824e-01,  1.42508e+00, -7.27867e-01,  ..., -4.55882e+00, -5.91646e+00, -6.11244e+00],\n",
      "           [ 2.94641e-01,  1.35927e+00, -4.61500e-01,  ..., -4.14936e+00, -5.55067e+00, -5.85381e+00],\n",
      "           ...,\n",
      "           [-2.98709e-01,  1.34204e+00, -5.31384e-01,  ..., -4.38803e+00, -5.03601e+00, -5.51327e+00],\n",
      "           [-6.84977e-01,  1.17673e+00, -5.71896e-01,  ..., -3.73114e+00, -4.79782e+00, -5.21152e+00],\n",
      "           [-7.01249e-02,  3.12790e-01, -3.80814e-01,  ..., -3.76836e+00, -4.95520e+00, -5.31929e+00]],\n",
      "\n",
      "          [[ 6.47008e-01,  3.65672e-01, -6.25237e-01,  ..., -4.83910e+00, -5.71655e+00, -6.06071e+00],\n",
      "           [ 3.86849e-01,  5.64863e-01, -8.33199e-01,  ..., -4.92668e+00, -6.10786e+00, -6.12968e+00],\n",
      "           [ 1.57684e-01,  2.03891e-01, -6.23886e-01,  ..., -4.65955e+00, -5.69529e+00, -5.95295e+00],\n",
      "           ...,\n",
      "           [-2.96965e-01,  2.88503e-01, -6.00929e-01,  ..., -4.06396e+00, -4.84035e+00, -5.58655e+00],\n",
      "           [-9.55403e-01,  2.85761e-01, -7.93362e-01,  ..., -4.03988e+00, -4.86162e+00, -5.37964e+00],\n",
      "           [-7.39217e-01,  2.92812e-01, -6.84654e-01,  ..., -3.69173e+00, -5.00624e+00, -5.35378e+00]],\n",
      "\n",
      "          [[ 6.94275e-01, -2.12901e-01, -6.99509e-01,  ..., -4.94858e+00, -5.56768e+00, -5.95295e+00],\n",
      "           [ 3.43844e-01,  2.86153e-01, -8.47378e-01,  ..., -4.94420e+00, -6.03981e+00, -6.00899e+00],\n",
      "           [-5.98095e-02,  4.00731e-01, -5.79998e-01,  ..., -4.90916e+00, -5.72931e+00, -6.17710e+00],\n",
      "           ...,\n",
      "           [-1.13711e-01, -1.71182e-01, -5.45563e-01,  ..., -4.48219e+00, -5.10406e+00, -6.31935e+00],\n",
      "           [-5.78046e-01,  3.23954e-01, -8.47378e-01,  ..., -4.48438e+00, -4.96796e+00, -6.06934e+00],\n",
      "           [-8.01206e-01,  4.16792e-01, -9.44607e-01,  ..., -4.79968e+00, -5.37203e+00, -6.15555e+00]],\n",
      "\n",
      "          ...,\n",
      "\n",
      "          [[ 4.71890e-01,  1.06450e-01, -8.04165e-01,  ..., -5.00551e+00, -4.87013e+00, -5.73311e+00],\n",
      "           [ 5.32329e-01,  4.63456e-02, -8.50079e-01,  ..., -5.15878e+00, -5.30397e+00, -6.00468e+00],\n",
      "           [-4.60800e-02, -3.02017e-01, -6.39416e-01,  ..., -4.91354e+00, -5.39755e+00, -6.22021e+00],\n",
      "           ...,\n",
      "           [ 1.95071e-01,  2.61278e-01, -6.82629e-01,  ..., -4.20410e+00, -4.97646e+00, -6.28918e+00],\n",
      "           [-4.70340e-01,  2.97317e-01, -9.47308e-01,  ..., -4.61575e+00, -5.18913e+00, -6.36246e+00],\n",
      "           [-1.01042e+00,  6.25531e-03, -1.00605e+00,  ..., -4.86537e+00, -5.37203e+00, -6.13831e+00]],\n",
      "\n",
      "          [[ 4.20749e-01, -4.84560e-01, -5.91476e-01,  ..., -4.54568e+00, -4.92117e+00, -5.58655e+00],\n",
      "           [ 5.91218e-01, -5.42535e-01, -7.73781e-01,  ..., -4.52379e+00, -4.97646e+00, -5.59086e+00],\n",
      "           [ 2.20835e-01, -1.00437e+00, -5.00999e-01,  ..., -4.00484e+00, -4.92542e+00, -5.72880e+00],\n",
      "           ...,\n",
      "           [ 1.76087e-01, -5.13155e-01, -7.06936e-01,  ..., -3.63699e+00, -5.18063e+00, -6.03916e+00],\n",
      "           [-5.41627e-01, -9.99674e-01, -9.56085e-01,  ..., -4.76465e+00, -5.47836e+00, -6.54350e+00],\n",
      "           [-7.95782e-01, -6.44382e-01, -9.64188e-01,  ..., -4.83910e+00, -5.42732e+00, -5.93140e+00]],\n",
      "\n",
      "          [[-6.49914e-02,  2.63041e-01, -1.26938e-01,  ..., -4.29388e+00, -5.07004e+00, -5.93140e+00],\n",
      "           [ 6.59406e-01, -1.16185e+00, -5.89451e-01,  ..., -4.14279e+00, -4.94669e+00, -5.56931e+00],\n",
      "           [ 1.72794e-01, -1.22531e+00, -5.44212e-01,  ..., -4.16031e+00, -4.76379e+00, -5.65552e+00],\n",
      "           ...,\n",
      "           [-8.40724e-02, -1.50421e+00, -6.14433e-01,  ..., -4.12965e+00, -5.14660e+00, -5.91846e+00],\n",
      "           [-5.04434e-01, -1.58491e+00, -8.91941e-01,  ..., -4.81720e+00, -5.34651e+00, -6.25900e+00],\n",
      "           [-1.04219e-01, -1.89593e-01, -7.25166e-01,  ..., -4.36395e+00, -4.97221e+00, -5.64690e+00]]]]], device='cuda:0'), tensor([[[[[ 8.63667e-01,  1.30607e+00, -8.58221e-02,  ..., -7.05560e+00, -7.03297e+00, -6.26269e+00],\n",
      "           [ 3.46443e-01,  1.91209e+00, -1.58049e-01,  ..., -7.23579e+00, -7.06055e+00, -6.19248e+00],\n",
      "           [-7.67162e-02,  2.19337e+00,  7.49350e-02,  ..., -6.68101e+00, -7.07893e+00, -6.61842e+00],\n",
      "           ...,\n",
      "           [-4.62466e-01,  1.83940e+00,  1.79504e-01,  ..., -5.94605e+00, -6.17798e+00, -6.03334e+00],\n",
      "           [ 2.64474e-02,  1.93421e+00,  1.88957e-01,  ..., -6.23529e+00, -6.42620e+00, -6.20652e+00],\n",
      "           [-3.97677e-01,  1.42142e+00,  2.41906e-02,  ..., -6.33487e+00, -6.82611e+00, -6.45927e+00]],\n",
      "\n",
      "          [[ 9.05956e-01,  8.09872e-01, -5.92257e-01,  ..., -7.20734e+00, -7.10192e+00, -6.84309e+00],\n",
      "           [-1.61971e-01,  6.19453e-01, -4.31447e-01,  ..., -7.23104e+00, -6.86749e+00, -6.54821e+00],\n",
      "           [-2.52513e-01, -1.91110e-02, -1.59323e-04,  ..., -6.44867e+00, -6.87668e+00, -6.36566e+00],\n",
      "           ...,\n",
      "           [-4.41050e-01,  4.44837e-01,  1.04941e-01,  ..., -5.98873e+00, -5.94355e+00, -6.24865e+00],\n",
      "           [ 2.74199e-01,  4.50368e-01, -4.58851e-01,  ..., -6.87068e+00, -6.26532e+00, -6.78692e+00],\n",
      "           [-4.96080e-01,  6.00886e-01, -7.67301e-01,  ..., -6.30642e+00, -6.42620e+00, -6.86181e+00]],\n",
      "\n",
      "          [[ 3.75448e-01,  4.52738e-01, -9.21101e-01,  ..., -7.18837e+00, -7.18925e+00, -7.28307e+00],\n",
      "           [-2.35164e-01,  1.54073e-02, -5.00487e-01,  ..., -7.39700e+00, -7.01458e+00, -7.01627e+00],\n",
      "           [ 3.83852e-01,  1.07753e-01, -2.11900e-02,  ..., -7.49658e+00, -7.32716e+00, -6.80096e+00],\n",
      "           ...,\n",
      "           [ 1.55194e-01, -8.65971e-01, -9.25137e-02,  ..., -7.47287e+00, -7.38232e+00, -7.26902e+00],\n",
      "           [ 2.02769e-01,  1.55950e-01, -4.81793e-01,  ..., -7.34959e+00, -6.86289e+00, -6.81500e+00],\n",
      "           [-4.96351e-01, -5.28392e-03, -8.05538e-01,  ..., -6.19736e+00, -6.33427e+00, -6.96478e+00]],\n",
      "\n",
      "          ...,\n",
      "\n",
      "          [[ 8.41980e-01, -2.59949e-01, -7.30762e-01,  ..., -5.59517e+00, -6.27911e+00, -6.48736e+00],\n",
      "           [-2.64983e-01,  2.17283e-02, -3.95334e-01,  ..., -5.64733e+00, -6.47676e+00, -6.84309e+00],\n",
      "           [-3.49154e-01, -7.29873e-02,  9.06018e-02,  ..., -5.32964e+00, -6.16879e+00, -6.71671e+00],\n",
      "           ...,\n",
      "           [-3.38039e-01, -4.04146e-01,  7.61034e-02,  ..., -6.58618e+00, -7.14329e+00, -7.61071e+00],\n",
      "           [ 2.83281e-01, -3.75702e-01, -4.88591e-01,  ..., -6.15943e+00, -6.83531e+00, -6.81032e+00],\n",
      "           [-9.28185e-01, -5.20689e-01, -7.63052e-01,  ..., -6.30642e+00, -7.00079e+00, -6.88989e+00]],\n",
      "\n",
      "          [[ 9.72100e-01, -2.07406e-01, -4.93690e-01,  ..., -6.00295e+00, -6.20096e+00, -6.06610e+00],\n",
      "           [ 1.99652e-01, -6.81478e-01, -1.93525e-01,  ..., -5.25377e+00, -5.76887e+00, -6.05674e+00],\n",
      "           [ 2.28522e-01, -2.27554e-01,  1.48064e-01,  ..., -4.16793e+00, -5.62637e+00, -5.91632e+00],\n",
      "           ...,\n",
      "           [-3.88325e-02, -6.19058e-01,  8.79464e-02,  ..., -5.77535e+00, -6.82611e+00, -7.15201e+00],\n",
      "           [ 8.57297e-02, -4.63405e-01, -4.43556e-01,  ..., -6.14994e+00, -6.68362e+00, -6.71203e+00],\n",
      "           [-6.80416e-01, -5.85478e-01, -8.48024e-01,  ..., -6.36806e+00, -7.21684e+00, -6.99287e+00]],\n",
      "\n",
      "          [[ 7.62825e-01, -1.23733e+00, -1.07384e-01,  ..., -6.48186e+00, -6.73878e+00, -6.40311e+00],\n",
      "           [-1.27002e-01, -2.10014e+00,  3.32986e-02,  ..., -5.20161e+00, -6.16879e+00, -6.23928e+00],\n",
      "           [-5.29965e-02, -2.13016e+00,  1.24591e-01,  ..., -3.56099e+00, -5.52984e+00, -6.13631e+00],\n",
      "           ...,\n",
      "           [-2.10088e-01, -2.55367e+00,  8.14142e-02,  ..., -5.62836e+00, -6.89507e+00, -7.10052e+00],\n",
      "           [-2.83010e-01, -2.18547e+00, -1.31389e-01,  ..., -6.42022e+00, -7.30877e+00, -7.41880e+00],\n",
      "           [-2.74470e-01, -1.08167e+00, -7.85995e-01,  ..., -6.52454e+00, -7.23522e+00, -7.23626e+00]]],\n",
      "\n",
      "\n",
      "         [[[ 1.20322e+00,  1.22528e+00, -4.35084e-01,  ..., -6.41798e+00, -6.70221e+00, -6.02893e+00],\n",
      "           [ 5.03122e-01,  1.82474e+00, -5.91208e-01,  ..., -6.31820e+00, -6.76501e+00, -6.24161e+00],\n",
      "           [-9.04790e-03,  2.06102e+00, -4.54104e-01,  ..., -6.06873e+00, -7.07007e+00, -6.67621e+00],\n",
      "           ...,\n",
      "           [-5.15779e-01,  1.71140e+00, -3.50088e-01,  ..., -5.47002e+00, -6.05621e+00, -6.01506e+00],\n",
      "           [-3.02585e-01,  1.83432e+00, -2.00999e-01,  ..., -5.31581e+00, -6.30295e+00, -5.84862e+00],\n",
      "           [-8.52777e-01,  1.35778e+00, -2.85499e-01,  ..., -5.78752e+00, -6.50482e+00, -6.05667e+00]],\n",
      "\n",
      "          [[ 1.60430e+00,  7.31574e-01, -6.83138e-01,  ..., -6.37262e+00, -6.32986e+00, -6.26935e+00],\n",
      "           [ 2.20314e-01,  5.29223e-01, -6.83930e-01,  ..., -6.53591e+00, -6.43304e+00, -6.37569e+00],\n",
      "           [-2.39893e-01, -9.59866e-02, -4.00610e-01,  ..., -5.94627e+00, -6.37921e+00, -6.27859e+00],\n",
      "           ...,\n",
      "           [-6.89816e-01,  3.77162e-01, -2.15165e-01,  ..., -5.44735e+00, -5.58069e+00, -6.11215e+00],\n",
      "           [-2.77271e-01,  4.09091e-01, -6.95025e-01,  ..., -5.51085e+00, -5.58517e+00, -6.21387e+00],\n",
      "           [-1.49750e+00,  5.58758e-01, -7.48916e-01,  ..., -5.23870e+00, -5.64798e+00, -5.93184e+00]],\n",
      "\n",
      "          [[ 1.26572e+00,  4.39822e-01, -9.17719e-01,  ..., -6.48148e+00, -6.12799e+00, -6.54213e+00],\n",
      "           [ 2.71338e-01,  7.79766e-02, -5.65847e-01,  ..., -6.85340e+00, -6.40164e+00, -6.61148e+00],\n",
      "           [ 2.46024e-01,  1.85388e-01, -1.68110e-01,  ..., -6.93051e+00, -6.71567e+00, -6.60686e+00],\n",
      "           ...,\n",
      "           [-1.96186e-01, -8.33347e-01, -1.68407e-01,  ..., -6.89423e+00, -6.64389e+00, -7.07382e+00],\n",
      "           [-4.53285e-01,  1.79601e-01, -5.77339e-01,  ..., -6.44973e+00, -5.99341e+00, -6.65771e+00],\n",
      "           [-1.59718e+00,  9.02992e-03, -7.97258e-01,  ..., -5.28406e+00, -5.33395e+00, -6.07516e+00]],\n",
      "\n",
      "          ...,\n",
      "\n",
      "          [[ 1.68657e+00, -2.86962e-01, -1.00806e+00,  ..., -5.30674e+00, -5.76910e+00, -6.07979e+00],\n",
      "           [ 1.83529e-01,  3.62694e-02, -8.67791e-01,  ..., -5.38838e+00, -6.30743e+00, -6.57449e+00],\n",
      "           [-2.13590e-01, -7.88248e-02, -5.27807e-01,  ..., -5.20695e+00, -6.10556e+00, -6.56525e+00],\n",
      "           ...,\n",
      "           [-4.92838e-01, -3.83148e-01, -3.72873e-01,  ..., -6.41798e+00, -7.18671e+00, -7.51305e+00],\n",
      "           [-3.98107e-01, -3.50022e-01, -8.24203e-01,  ..., -5.56527e+00, -6.66632e+00, -6.58374e+00],\n",
      "           [-1.89541e+00, -4.61773e-01, -1.00172e+00,  ..., -5.62424e+00, -6.49585e+00, -6.27859e+00]],\n",
      "\n",
      "          [[ 1.58215e+00, -1.24124e-01, -7.75861e-01,  ..., -5.25231e+00, -5.67041e+00, -5.66830e+00],\n",
      "           [ 5.39512e-01, -5.12461e-01, -6.87100e-01,  ..., -4.50393e+00, -5.48648e+00, -5.74228e+00],\n",
      "           [ 2.36333e-01, -1.09357e-01, -4.77880e-01,  ..., -3.60133e+00, -5.34741e+00, -5.90872e+00],\n",
      "           ...,\n",
      "           [-2.04492e-01, -4.93702e-01, -4.39443e-01,  ..., -5.35663e+00, -6.79642e+00, -7.01834e+00],\n",
      "           [-5.23690e-01, -3.14501e-01, -8.13108e-01,  ..., -4.91667e+00, -6.31192e+00, -6.43579e+00],\n",
      "           [-1.71188e+00, -4.52594e-01, -1.03184e+00,  ..., -5.17974e+00, -6.41061e+00, -6.25085e+00]],\n",
      "\n",
      "          [[ 1.00862e+00, -1.15024e+00, -4.75502e-01,  ..., -6.03698e+00, -6.06070e+00, -6.07516e+00],\n",
      "           [ 7.50530e-02, -1.93809e+00, -4.94522e-01,  ..., -4.78967e+00, -5.71976e+00, -5.93184e+00],\n",
      "           [-2.46716e-02, -2.02909e+00, -4.65992e-01,  ..., -3.26115e+00, -5.22629e+00, -5.85786e+00],\n",
      "           ...,\n",
      "           [-2.57890e-01, -2.43139e+00, -4.67577e-01,  ..., -5.30220e+00, -6.60352e+00, -6.91663e+00],\n",
      "           [-8.04521e-01, -2.06261e+00, -5.03240e-01,  ..., -5.61970e+00, -6.68875e+00, -6.90738e+00],\n",
      "           [-1.07586e+00, -9.96185e-01, -8.64621e-01,  ..., -5.86463e+00, -6.49585e+00, -6.46353e+00]]],\n",
      "\n",
      "\n",
      "         [[[ 9.86834e-01,  2.85339e-01, -2.46357e-01,  ..., -5.76408e+00, -6.07101e+00, -5.88808e+00],\n",
      "           [ 3.73085e-01,  4.64477e-01, -3.94251e-01,  ..., -5.82379e+00, -5.95417e+00, -5.58853e+00],\n",
      "           [-5.28034e-02,  6.15343e-01, -2.35394e-01,  ..., -5.60793e+00, -6.39455e+00, -5.79419e+00],\n",
      "           ...,\n",
      "           [-5.37493e-01,  4.53073e-01, -1.30852e-01,  ..., -5.13945e+00, -5.16777e+00, -5.09227e+00],\n",
      "           [-1.89176e-01,  6.71413e-01,  5.24704e-02,  ..., -5.02463e+00, -5.61714e+00, -5.43205e+00],\n",
      "           [-6.66990e-01,  4.65427e-01, -8.96931e-02,  ..., -5.25427e+00, -5.99461e+00, -5.69583e+00]],\n",
      "\n",
      "          [[ 1.26923e+00,  1.15561e+00, -5.95961e-01,  ..., -5.84676e+00, -6.23278e+00, -6.09373e+00],\n",
      "           [-6.23597e-02,  1.42550e+00, -5.70049e-01,  ..., -5.95239e+00, -6.32715e+00, -5.56171e+00],\n",
      "           [-2.71672e-01,  9.62691e-01, -2.37786e-01,  ..., -5.44717e+00, -6.37209e+00, -5.25322e+00],\n",
      "           ...,\n",
      "           [-6.56069e-01,  8.95217e-01, -6.70705e-02,  ..., -5.13945e+00, -5.08688e+00, -5.36946e+00],\n",
      "           [-9.20525e-02,  1.08338e+00, -5.90778e-01,  ..., -5.40584e+00, -4.94308e+00, -5.68242e+00],\n",
      "           [-1.12803e+00,  8.97118e-01, -6.71701e-01,  ..., -5.25887e+00, -5.36549e+00, -5.73607e+00]],\n",
      "\n",
      "          [[ 8.34713e-01,  6.62860e-01, -9.25632e-01,  ..., -6.22797e+00, -6.11594e+00, -6.24574e+00],\n",
      "           [-9.76107e-02,  4.57349e-01, -5.25402e-01,  ..., -6.59540e+00, -6.48892e+00, -5.82101e+00],\n",
      "           [ 2.39882e-01,  5.85407e-01, -8.35142e-02,  ..., -6.65970e+00, -6.71361e+00, -5.93279e+00],\n",
      "           ...,\n",
      "           [-1.42077e-01, -7.09189e-02, -7.38971e-02,  ..., -6.70563e+00, -6.29569e+00, -6.22786e+00],\n",
      "           [-2.22915e-01,  2.60392e-01, -5.05072e-01,  ..., -6.11774e+00, -5.65759e+00, -5.91937e+00],\n",
      "           [-1.16080e+00,  2.67757e-01, -7.53023e-01,  ..., -5.28642e+00, -5.35651e+00, -5.62430e+00]],\n",
      "\n",
      "          ...,\n",
      "\n",
      "          [[ 1.24115e+00, -4.25751e-01, -9.62307e-01,  ..., -4.89603e+00, -5.67107e+00, -5.83890e+00],\n",
      "           [-7.34274e-02, -3.58039e-01, -7.48240e-01,  ..., -4.96951e+00, -6.15639e+00, -6.04903e+00],\n",
      "           [-2.53924e-01, -3.53050e-01, -3.43225e-01,  ..., -4.79039e+00, -5.69803e+00, -6.04903e+00],\n",
      "           ...,\n",
      "           [-4.72744e-01, -7.01823e-01, -2.20446e-01,  ..., -5.73653e+00, -6.69114e+00, -6.71518e+00],\n",
      "           [-8.99559e-02, -6.76164e-01, -7.24321e-01,  ..., -5.29561e+00, -6.57430e+00, -6.18315e+00],\n",
      "           [-1.46504e+00, -5.83982e-01, -9.36794e-01,  ..., -5.71356e+00, -6.57880e+00, -5.95067e+00]],\n",
      "\n",
      "          [[ 1.21306e+00, -7.22256e-01, -6.83661e-01,  ..., -4.98329e+00, -5.72499e+00, -5.39182e+00],\n",
      "           [ 2.85714e-01, -1.32287e+00, -5.29388e-01,  ..., -4.26680e+00, -5.58569e+00, -5.21745e+00],\n",
      "           [ 1.89176e-01, -1.28485e+00, -2.67684e-01,  ..., -3.55720e+00, -4.96106e+00, -5.17722e+00],\n",
      "           ...,\n",
      "           [-1.97367e-01, -1.48538e+00, -2.54928e-01,  ..., -4.91440e+00, -6.18784e+00, -6.20998e+00],\n",
      "           [-2.74207e-01, -1.31812e+00, -6.80471e-01,  ..., -5.01544e+00, -5.97664e+00, -5.89702e+00],\n",
      "           [-1.21774e+00, -1.00926e+00, -9.71077e-01,  ..., -5.58037e+00, -6.19234e+00, -5.90596e+00]],\n",
      "\n",
      "          [[ 7.81666e-01, -1.32453e-01, -3.43624e-01,  ..., -5.47932e+00, -6.20582e+00, -5.13251e+00],\n",
      "           [-1.52901e-01, -5.64025e-01, -2.83031e-01,  ..., -4.41377e+00, -5.91822e+00, -4.62283e+00],\n",
      "           [-1.22282e-01, -4.83721e-01, -2.24233e-01,  ..., -3.09332e+00, -5.10486e+00, -4.47530e+00],\n",
      "           ...,\n",
      "           [-3.08142e-01, -9.30855e-01, -2.43367e-01,  ..., -4.87306e+00, -6.14740e+00, -5.54382e+00],\n",
      "           [-6.36566e-01, -6.94221e-01, -2.92599e-01,  ..., -5.56200e+00, -6.66867e+00, -5.78525e+00],\n",
      "           [-7.60603e-01, -2.75895e-02, -7.68171e-01,  ..., -5.89268e+00, -6.47544e+00, -5.55724e+00]]]]], device='cuda:0'), tensor([[[[[ 2.11673e+00,  1.94228e+00,  2.86291e-01,  ..., -8.01025e+00, -7.50710e+00, -6.98267e+00],\n",
      "           [ 5.23727e-01,  1.40461e+00,  6.69867e-02,  ..., -7.57446e+00, -7.47723e+00, -6.75247e+00],\n",
      "           [ 2.90024e-02,  1.54937e+00,  6.51317e-02,  ..., -7.09717e+00, -7.06404e+00, -6.03119e+00],\n",
      "           ...,\n",
      "           [-4.68531e-01,  1.05386e+00,  3.53484e-02,  ..., -6.18408e+00, -6.29242e+00, -5.70891e+00],\n",
      "           [ 1.68960e-01,  2.70265e+00,  3.58018e-01,  ..., -6.88965e+00, -6.57618e+00, -6.02095e+00],\n",
      "           [-1.25155e+00,  1.43484e+00, -6.69867e-03,  ..., -6.82739e+00, -6.04849e+00, -6.02095e+00]],\n",
      "\n",
      "          [[ 9.65302e-01,  1.39189e+00, -4.62929e-01,  ..., -7.29950e+00, -6.56124e+00, -6.23581e+00],\n",
      "           [ 7.98267e-02,  6.11238e-01, -4.41494e-01,  ..., -7.55371e+00, -6.77032e+00, -6.43019e+00],\n",
      "           [ 3.82847e-01,  7.08272e-01,  9.97586e-02,  ..., -7.40845e+00, -6.39198e+00, -5.74472e+00],\n",
      "           ...,\n",
      "           [-7.94657e-02,  6.76855e-01,  1.65715e-01,  ..., -7.66266e+00, -7.00928e+00, -6.34323e+00],\n",
      "           [-3.19146e-01,  9.36939e-01, -3.97386e-01,  ..., -6.99341e+00, -6.40692e+00, -6.48135e+00],\n",
      "           [-1.68158e+00,  3.08999e-01, -5.43314e-01,  ..., -7.12830e+00, -6.07338e+00, -6.54274e+00]],\n",
      "\n",
      "          [[ 1.41329e+00,  1.18430e+00, -6.52966e-01,  ..., -7.73010e+00, -6.82011e+00, -6.80363e+00],\n",
      "           [ 6.79690e-01,  7.98844e-02, -6.38950e-01,  ..., -7.56409e+00, -6.51146e+00, -6.94175e+00],\n",
      "           [-8.05889e-02,  1.48236e-01, -4.11813e-01,  ..., -7.49146e+00, -6.06342e+00, -6.21534e+00],\n",
      "           ...,\n",
      "           [ 2.55766e-01,  1.16919e+00, -2.97833e-02,  ..., -8.32672e+00, -7.70622e+00, -7.08498e+00],\n",
      "           [ 1.52674e-01, -1.34814e-01, -6.29881e-01,  ..., -7.56409e+00, -7.32290e+00, -7.82673e+00],\n",
      "           [-1.49930e+00,  1.21293e-01, -8.30223e-01,  ..., -7.60040e+00, -6.84500e+00, -7.41237e+00]],\n",
      "\n",
      "          ...,\n",
      "\n",
      "          [[ 1.30803e+00, -1.85320e-01, -7.97245e-01,  ..., -5.11795e+00, -5.75975e+00, -6.05676e+00],\n",
      "           [ 3.70332e-01, -1.98841e-01, -5.53207e-01,  ..., -5.16724e+00, -6.42683e+00, -6.54785e+00],\n",
      "           [-1.23679e+00,  1.95660e-01, -4.66227e-01,  ..., -6.93115e+00, -5.71495e+00, -6.35346e+00],\n",
      "           ...,\n",
      "           [-2.39400e-01,  1.16759e+00,  1.29851e-02,  ..., -8.28522e+00, -7.42744e+00, -7.54026e+00],\n",
      "           [-7.89041e-02,  4.37450e-02, -4.60868e-01,  ..., -7.75085e+00, -6.84002e+00, -7.16171e+00],\n",
      "           [-1.30675e+00, -4.28751e-03, -6.88417e-01,  ..., -8.09326e+00, -6.66080e+00, -6.71155e+00]],\n",
      "\n",
      "          [[ 1.10265e+00, -1.24375e-01, -6.37301e-01,  ..., -5.15167e+00, -5.52080e+00, -5.61683e+00],\n",
      "           [ 3.77713e-01, -7.03102e-01, -4.86426e-01,  ..., -5.67566e+00, -6.42683e+00, -6.27673e+00],\n",
      "           [ 2.26403e-01,  2.07913e-02, -1.75505e-01,  ..., -6.29822e+00, -6.02360e+00, -5.98515e+00],\n",
      "           ...,\n",
      "           [-1.84524e-01, -6.11635e-01,  1.33973e-02,  ..., -7.01935e+00, -6.17294e+00, -6.31254e+00],\n",
      "           [-2.82883e-01, -5.01080e-01, -4.06455e-01,  ..., -7.13348e+00, -5.89914e+00, -6.11815e+00],\n",
      "           [-4.19752e-01,  2.54318e-01, -4.62105e-01,  ..., -7.20093e+00, -6.02360e+00, -5.80099e+00]],\n",
      "\n",
      "          [[ 4.29379e-01, -1.14851e+00, -5.51146e-01,  ..., -6.19965e+00, -5.36150e+00, -5.94422e+00],\n",
      "           [ 3.46905e-01, -2.32724e+00, -3.72240e-01,  ..., -6.19446e+00, -6.39198e+00, -6.57343e+00],\n",
      "           [ 3.39203e-01, -1.85479e+00, -6.38950e-02,  ..., -6.96228e+00, -6.58613e+00, -6.81897e+00],\n",
      "           ...,\n",
      "           [ 1.34943e-01, -1.41973e+00, -1.81688e-01,  ..., -7.12311e+00, -6.02858e+00, -6.52227e+00],\n",
      "           [ 3.14393e-03, -1.64799e+00, -4.97144e-01,  ..., -6.45386e+00, -5.09268e+00, -6.09769e+00],\n",
      "           [-9.96751e-01, -1.51119e+00, -1.79627e-01,  ..., -7.04529e+00, -5.96884e+00, -6.28185e+00]]],\n",
      "\n",
      "\n",
      "         [[[ 1.95637e+00,  1.56140e+00,  3.20041e-01,  ..., -8.45381e+00, -6.90946e+00, -6.65512e+00],\n",
      "           [ 9.41957e-01,  1.03801e+00,  3.60912e-02,  ..., -8.15932e+00, -7.07690e+00, -7.02705e+00],\n",
      "           [ 2.47997e-01,  1.04605e+00, -8.03089e-02,  ..., -7.44341e+00, -7.03750e+00, -6.67496e+00],\n",
      "           ...,\n",
      "           [-2.44331e-01,  4.60525e-01,  2.04358e-01,  ..., -6.89506e+00, -6.99810e+00, -6.07986e+00],\n",
      "           [ 4.16473e-02,  2.23245e+00,  4.65840e-01,  ..., -7.59066e+00, -6.34311e+00, -6.05507e+00],\n",
      "           [-1.14294e+00,  1.15350e+00,  1.22615e-01,  ..., -6.78336e+00, -5.78168e+00, -5.91621e+00]],\n",
      "\n",
      "          [[ 1.26198e+00,  1.07821e+00,  7.57676e-02,  ..., -6.54980e+00, -5.69796e+00, -5.74760e+00],\n",
      "           [ 8.47934e-01,  4.50291e-01, -5.52124e-02,  ..., -6.98137e+00, -6.24954e+00, -6.08978e+00],\n",
      "           [ 6.89647e-01,  4.81723e-01,  3.69278e-01,  ..., -7.14385e+00, -6.41206e+00, -5.97076e+00],\n",
      "           ...,\n",
      "           [ 1.23999e-01,  4.39326e-01,  6.10921e-01,  ..., -8.08316e+00, -7.37731e+00, -6.75926e+00],\n",
      "           [-4.20948e-01,  6.66664e-01, -3.51351e-02,  ..., -7.30632e+00, -6.18059e+00, -6.33774e+00],\n",
      "           [-1.49661e+00,  1.15679e-01, -1.96948e-01,  ..., -6.61073e+00, -5.70781e+00, -6.15921e+00]],\n",
      "\n",
      "          [[ 1.49747e+00,  9.18125e-01, -1.98502e-01,  ..., -7.00676e+00, -6.11164e+00, -6.04515e+00],\n",
      "           [ 1.08860e+00,  6.39617e-03, -3.32708e-01,  ..., -6.65642e+00, -5.92450e+00, -6.51627e+00],\n",
      "           [ 3.34041e-01,  7.00838e-02, -3.68083e-02,  ..., -6.49902e+00, -5.62409e+00, -6.16417e+00],\n",
      "           ...,\n",
      "           [ 3.45686e-01,  9.59061e-01,  2.41166e-01,  ..., -8.45889e+00, -7.24927e+00, -7.10144e+00],\n",
      "           [-3.79975e-01, -2.04129e-01, -4.56279e-01,  ..., -7.73790e+00, -7.03750e+00, -7.29980e+00],\n",
      "           [-1.32236e+00,  6.83020e-03, -6.61114e-01,  ..., -6.77828e+00, -6.22491e+00, -6.67000e+00]],\n",
      "\n",
      "          ...,\n",
      "\n",
      "          [[ 1.49230e+00, -1.09100e-01, -6.89318e-01,  ..., -4.29545e+00, -4.94447e+00, -5.20706e+00],\n",
      "           [ 6.15464e-01, -1.00329e-01, -7.81100e-01,  ..., -4.89204e+00, -6.16089e+00, -6.33774e+00],\n",
      "           [-1.09981e+00,  2.70467e-01, -4.46957e-01,  ..., -6.22485e+00, -5.72751e+00, -6.52122e+00],\n",
      "           ...,\n",
      "           [-1.00978e-01,  1.13669e+00,  5.92756e-02,  ..., -8.22533e+00, -7.42163e+00, -7.35931e+00],\n",
      "           [-2.87461e-01,  1.22258e-01, -3.97242e-01,  ..., -7.56019e+00, -6.54502e+00, -6.73447e+00],\n",
      "           [-1.30339e+00,  7.78506e-02, -4.20905e-01,  ..., -7.16924e+00, -6.05255e+00, -6.02531e+00]],\n",
      "\n",
      "          [[ 1.33013e+00,  1.21893e-01, -2.93988e-01,  ..., -4.62040e+00, -4.78688e+00, -4.61693e+00],\n",
      "           [ 7.84533e-01, -5.25583e-01, -5.10535e-01,  ..., -4.85904e+00, -5.99345e+00, -6.22368e+00],\n",
      "           [ 3.77387e-01,  2.50547e-01,  5.99927e-02,  ..., -5.60033e+00, -5.99345e+00, -5.93109e+00],\n",
      "           ...,\n",
      "           [ 7.15957e-02, -1.25365e-01,  2.42600e-01,  ..., -7.67697e+00, -6.51055e+00, -6.56090e+00],\n",
      "           [-4.43807e-01, -1.26462e-01,  9.32157e-03,  ..., -7.26571e+00, -5.55515e+00, -5.89638e+00],\n",
      "           [-4.61059e-01,  6.30846e-01,  1.15444e-01,  ..., -6.91537e+00, -5.50590e+00, -5.08804e+00]],\n",
      "\n",
      "          [[ 5.93036e-01, -8.11400e-01, -3.65214e-01,  ..., -5.27030e+00, -4.90508e+00, -4.93183e+00],\n",
      "           [ 6.49968e-01, -1.84210e+00, -4.86634e-01,  ..., -5.45309e+00, -6.31356e+00, -6.40717e+00],\n",
      "           [ 3.49137e-01, -1.43347e+00, -8.03089e-02,  ..., -6.14869e+00, -6.63367e+00, -6.62537e+00],\n",
      "           ...,\n",
      "           [ 2.77541e-01, -9.91955e-01, -2.27661e-01,  ..., -7.39264e+00, -6.68784e+00, -6.85349e+00],\n",
      "           [-3.29081e-01, -1.17397e+00, -2.92793e-01,  ..., -6.37717e+00, -5.29906e+00, -5.63354e+00],\n",
      "           [-9.00553e-01, -1.28947e+00,  5.42563e-02,  ..., -6.47364e+00, -5.56499e+00, -5.51453e+00]]],\n",
      "\n",
      "\n",
      "         [[[ 1.31074e+00,  1.43498e+00,  6.34973e-01,  ..., -6.83722e+00, -6.66577e+00, -5.93472e+00],\n",
      "           [ 8.73358e-01,  1.01372e+00,  2.94013e-01,  ..., -6.79496e+00, -6.08130e+00, -5.50947e+00],\n",
      "           [ 2.93950e-01,  1.19261e+00,  1.06461e-01,  ..., -6.26432e+00, -5.77515e+00, -4.93937e+00],\n",
      "           ...,\n",
      "           [-4.13795e-01,  6.46317e-01,  5.75222e-01,  ..., -5.24531e+00, -4.76855e+00, -4.42066e+00],\n",
      "           [-2.94658e-01,  1.90336e+00,  7.67753e-01,  ..., -5.85578e+00, -5.62671e+00, -5.21040e+00],\n",
      "           [-8.20041e-01,  9.81016e-01,  5.11203e-01,  ..., -5.55524e+00, -5.23706e+00, -4.88329e+00]],\n",
      "\n",
      "          [[ 5.46851e-01,  1.08104e+00,  5.34440e-01,  ..., -5.86047e+00, -5.20459e+00, -4.65665e+00],\n",
      "           [ 9.27147e-01,  5.15514e-01,  2.85477e-01,  ..., -6.06709e+00, -4.81030e+00, -4.62861e+00],\n",
      "           [ 6.22344e-01,  6.25157e-01,  6.09366e-01,  ..., -6.11875e+00, -5.64062e+00, -4.86927e+00],\n",
      "           ...,\n",
      "           [-1.90502e-01,  6.13135e-01,  9.38471e-01,  ..., -6.54607e+00, -5.97925e+00, -5.48611e+00],\n",
      "           [-7.67196e-01,  8.84357e-01,  2.99704e-01,  ..., -5.84169e+00, -4.92627e+00, -5.08890e+00],\n",
      "           [-1.02953e+00,  2.63047e-01,  1.98696e-01,  ..., -5.76186e+00, -4.93091e+00, -5.03750e+00]],\n",
      "\n",
      "          [[ 8.49295e-01,  9.78612e-01,  2.17190e-01,  ..., -6.47094e+00, -5.68237e+00, -5.35526e+00],\n",
      "           [ 8.73830e-01,  1.66989e-01,  2.13397e-03,  ..., -6.17979e+00, -5.02368e+00, -5.50480e+00],\n",
      "           [ 4.03415e-01,  1.18119e-01,  3.18198e-01,  ..., -5.82760e+00, -5.20923e+00, -5.21507e+00],\n",
      "           ...,\n",
      "           [ 9.46610e-02,  9.08883e-01,  4.81802e-01,  ..., -6.69165e+00, -6.29932e+00, -6.01416e+00],\n",
      "           [-1.05313e+00, -1.47633e-01, -2.58684e-01,  ..., -6.50851e+00, -5.96069e+00, -6.06089e+00],\n",
      "           [-8.13436e-01,  7.08111e-02, -3.29816e-01,  ..., -5.95909e+00, -5.45044e+00, -5.54218e+00]],\n",
      "\n",
      "          ...,\n",
      "\n",
      "          [[ 7.60119e-01, -1.66388e-01, -4.51926e-01,  ..., -4.58084e+00, -4.80566e+00, -4.48842e+00],\n",
      "           [ 6.88872e-01, -2.34674e-01, -8.17072e-01,  ..., -4.76163e+00, -5.18604e+00, -5.35994e+00],\n",
      "           [-6.76605e-01,  1.19802e-01, -2.72673e-01,  ..., -5.54115e+00, -5.03296e+00, -5.35526e+00],\n",
      "           ...,\n",
      "           [-4.15447e-01,  8.34345e-01,  1.73088e-01,  ..., -6.70104e+00, -6.19263e+00, -6.22911e+00],\n",
      "           [-8.13436e-01,  1.28187e-02, -2.45643e-01,  ..., -6.17979e+00, -5.80298e+00, -5.36928e+00],\n",
      "           [-8.00696e-01,  6.49803e-02, -5.47718e-02,  ..., -6.38172e+00, -5.56641e+00, -4.83189e+00]],\n",
      "\n",
      "          [[ 6.22344e-01, -1.62300e-01,  5.33491e-02,  ..., -4.63015e+00, -4.97266e+00, -4.09822e+00],\n",
      "           [ 7.28978e-01, -7.18450e-01, -4.32484e-01,  ..., -4.86025e+00, -4.82886e+00, -5.20105e+00],\n",
      "           [ 4.65225e-01, -1.75164e-01,  2.94487e-01,  ..., -5.18427e+00, -5.54785e+00, -5.09825e+00],\n",
      "           ...,\n",
      "           [-2.58091e-01, -7.53555e-01,  4.58565e-01,  ..., -6.38641e+00, -5.69629e+00, -5.44405e+00],\n",
      "           [-1.05501e+00, -5.61199e-01,  3.61351e-01,  ..., -5.78534e+00, -4.88916e+00, -4.64730e+00],\n",
      "           [-1.88850e-01,  1.09042e-01,  6.67220e-01,  ..., -5.94030e+00, -5.17212e+00, -4.11224e+00]],\n",
      "\n",
      "          [[ 3.87845e-01, -7.64135e-01,  4.76586e-02,  ..., -5.25940e+00, -4.59229e+00, -4.06318e+00],\n",
      "           [ 6.37443e-01, -1.90529e+00, -3.24837e-01,  ..., -5.26879e+00, -4.97266e+00, -5.08890e+00],\n",
      "           [ 4.20401e-01, -1.62926e+00,  1.12626e-01,  ..., -5.54115e+00, -5.55713e+00, -5.41134e+00],\n",
      "           ...,\n",
      "           [ 6.88283e-02, -1.19549e+00,  9.24718e-03,  ..., -5.86987e+00, -4.52271e+00, -5.02348e+00],\n",
      "           [-7.28034e-01, -1.23108e+00,  7.35033e-02,  ..., -5.26879e+00, -4.07739e+00, -4.40898e+00],\n",
      "           [-3.70151e-01, -1.22050e+00,  5.21636e-01,  ..., -5.84639e+00, -5.07007e+00, -4.80385e+00]]]]], device='cuda:0'), tensor([[[[[ 1.66504e-01,  1.70166e-01, -3.49121e-01,  ..., -5.51562e+00, -4.66406e+00, -4.79688e+00],\n",
      "           [ 3.69629e-01,  1.32080e-01,  4.06494e-01,  ..., -5.83203e+00, -4.82422e+00, -4.99609e+00],\n",
      "           [ 2.90527e-02, -6.09741e-02,  9.25781e-01,  ..., -5.83594e+00, -5.16016e+00, -5.01953e+00],\n",
      "           ...,\n",
      "           [-2.66113e-01,  1.87256e-01,  9.19922e-01,  ..., -5.57812e+00, -4.80078e+00, -4.58203e+00],\n",
      "           [-9.76562e-04,  1.97021e-01,  2.13623e-01,  ..., -5.44141e+00, -4.42969e+00, -4.47266e+00],\n",
      "           [ 6.34766e-03,  2.30957e-01, -4.51172e-01,  ..., -5.64844e+00, -4.51953e+00, -4.69922e+00]],\n",
      "\n",
      "          [[-3.28369e-02,  1.02295e-01, -5.69336e-01,  ..., -5.14844e+00, -4.23438e+00, -4.46484e+00],\n",
      "           [-3.54004e-03,  1.24817e-01,  1.95557e-01,  ..., -5.15625e+00, -4.30859e+00, -4.64453e+00],\n",
      "           [-9.30176e-02,  1.10840e-01,  8.53516e-01,  ..., -5.40234e+00, -4.75000e+00, -4.93750e+00],\n",
      "           ...,\n",
      "           [-3.65723e-01, -2.92480e-01,  8.76953e-01,  ..., -5.03125e+00, -4.55859e+00, -4.32422e+00],\n",
      "           [-1.15112e-01, -8.66089e-02,  1.97998e-01,  ..., -4.85547e+00, -4.33984e+00, -4.25781e+00],\n",
      "           [-9.64355e-02, -3.30811e-02, -4.68750e-01,  ..., -5.48438e+00, -4.17578e+00, -4.49609e+00]],\n",
      "\n",
      "          [[-1.56616e-01, -2.46094e-01, -7.35352e-01,  ..., -5.05469e+00, -4.22656e+00, -4.48828e+00],\n",
      "           [ 3.41797e-03, -2.20215e-01,  2.41943e-01,  ..., -4.70312e+00, -4.37891e+00, -4.71875e+00],\n",
      "           [-6.28662e-02, -6.76880e-02,  9.27734e-01,  ..., -4.95703e+00, -4.61719e+00, -4.84766e+00],\n",
      "           ...,\n",
      "           [-1.03271e-01,  2.98340e-01,  8.28125e-01,  ..., -4.51953e+00, -4.43750e+00, -4.12891e+00],\n",
      "           [ 7.92847e-02,  3.45215e-01,  7.51953e-02,  ..., -4.52344e+00, -4.07812e+00, -4.08203e+00],\n",
      "           [-3.03223e-01,  1.23840e-01, -5.82031e-01,  ..., -5.17188e+00, -4.15234e+00, -4.26953e+00]],\n",
      "\n",
      "          ...,\n",
      "\n",
      "          [[-6.89697e-02, -3.38135e-01, -7.08984e-01,  ..., -5.14062e+00, -4.41797e+00, -4.64453e+00],\n",
      "           [-1.79077e-01, -4.57275e-01,  2.19971e-01,  ..., -5.08984e+00, -4.69922e+00, -4.83203e+00],\n",
      "           [-1.32202e-01,  2.11029e-02,  9.12109e-01,  ..., -5.18750e+00, -4.73047e+00, -4.89844e+00],\n",
      "           ...,\n",
      "           [-1.72119e-02, -3.44849e-03,  9.55078e-01,  ..., -5.51562e+00, -5.08594e+00, -5.14062e+00],\n",
      "           [ 2.05078e-02, -3.35449e-01,  2.81250e-01,  ..., -5.26562e+00, -4.92188e+00, -4.88672e+00],\n",
      "           [-1.40503e-01,  8.66699e-02, -5.54688e-01,  ..., -5.66406e+00, -4.80078e+00, -4.62500e+00]],\n",
      "\n",
      "          [[ 6.84204e-02, -1.66748e-01, -6.18164e-01,  ..., -5.39453e+00, -4.62500e+00, -4.87109e+00],\n",
      "           [-2.51465e-01,  8.15430e-02,  2.06055e-01,  ..., -5.12891e+00, -4.75781e+00, -4.74609e+00],\n",
      "           [ 2.00562e-01,  2.57568e-01,  1.08203e+00,  ..., -5.15625e+00, -4.96484e+00, -4.97656e+00],\n",
      "           ...,\n",
      "           [-3.07129e-01,  3.81104e-01,  1.01855e+00,  ..., -5.36719e+00, -5.17969e+00, -5.19531e+00],\n",
      "           [-7.97119e-02,  1.71875e-01,  3.99658e-01,  ..., -5.30859e+00, -4.96094e+00, -4.95312e+00],\n",
      "           [-3.04199e-01,  2.07031e-01, -4.87305e-01,  ..., -5.62109e+00, -4.58594e+00, -4.74609e+00]],\n",
      "\n",
      "          [[-1.10107e-01, -4.44580e-01, -4.76562e-01,  ..., -5.18359e+00, -4.96094e+00, -4.57812e+00],\n",
      "           [ 2.45972e-01, -3.32764e-01,  3.38867e-01,  ..., -5.15234e+00, -5.11328e+00, -4.79688e+00],\n",
      "           [ 4.52637e-01, -2.72461e-01,  9.82422e-01,  ..., -5.55469e+00, -5.12500e+00, -4.92188e+00],\n",
      "           ...,\n",
      "           [-1.59302e-01,  3.98560e-02,  8.89160e-01,  ..., -5.92188e+00, -5.29297e+00, -5.26953e+00],\n",
      "           [-1.23169e-01, -8.24585e-02,  2.63916e-01,  ..., -5.75391e+00, -5.02734e+00, -4.86328e+00],\n",
      "           [-2.32788e-01, -2.63428e-01, -3.32031e-01,  ..., -5.29297e+00, -4.76953e+00, -4.75391e+00]]],\n",
      "\n",
      "\n",
      "         [[[ 1.61621e-01,  2.04834e-01, -4.59961e-01,  ..., -5.43750e+00, -5.21094e+00, -4.92969e+00],\n",
      "           [ 4.39209e-01,  2.68799e-01, -1.92383e-01,  ..., -5.21094e+00, -5.30078e+00, -5.16797e+00],\n",
      "           [ 4.15955e-02,  1.55029e-01,  8.14209e-02,  ..., -5.57031e+00, -5.65625e+00, -5.51953e+00],\n",
      "           ...,\n",
      "           [-4.73389e-01,  4.06738e-01,  1.57104e-01,  ..., -5.14844e+00, -4.68359e+00, -5.10156e+00],\n",
      "           [-2.88086e-01,  3.45215e-01, -1.24023e-01,  ..., -4.89844e+00, -4.46875e+00, -4.81250e+00],\n",
      "           [-1.49841e-02,  3.36426e-01, -5.12207e-01,  ..., -5.74219e+00, -4.81250e+00, -4.90625e+00]],\n",
      "\n",
      "          [[ 1.91772e-01,  2.36816e-01, -7.77832e-01,  ..., -4.82812e+00, -4.57422e+00, -4.45312e+00],\n",
      "           [ 1.78833e-01,  2.57812e-01, -3.64502e-01,  ..., -4.79688e+00, -4.60156e+00, -4.38672e+00],\n",
      "           [-1.09863e-01,  3.75977e-01, -5.67627e-02,  ..., -5.12109e+00, -5.03906e+00, -4.91016e+00],\n",
      "           ...,\n",
      "           [-4.85107e-01, -1.20300e-01, -7.69043e-03,  ..., -4.63672e+00, -4.36719e+00, -4.69922e+00],\n",
      "           [-2.41577e-01,  5.56641e-02, -3.85742e-01,  ..., -4.45312e+00, -4.13281e+00, -4.55078e+00],\n",
      "           [-2.32544e-01,  1.12061e-01, -8.14941e-01,  ..., -5.32812e+00, -4.41016e+00, -4.72266e+00]],\n",
      "\n",
      "          [[ 1.60156e-01, -2.21924e-01, -1.00781e+00,  ..., -5.09375e+00, -4.72656e+00, -4.43359e+00],\n",
      "           [ 2.38647e-01, -1.40137e-01, -4.15527e-01,  ..., -4.51172e+00, -4.60938e+00, -4.36719e+00],\n",
      "           [-1.71509e-02, -1.09863e-02, -6.68945e-02,  ..., -4.75391e+00, -4.80859e+00, -4.85938e+00],\n",
      "           ...,\n",
      "           [-3.01270e-01,  4.04297e-01, -4.61426e-02,  ..., -4.44531e+00, -4.23828e+00, -4.53125e+00],\n",
      "           [-2.31018e-02,  4.85352e-01, -5.18555e-01,  ..., -4.50000e+00, -4.00781e+00, -4.31641e+00],\n",
      "           [-5.72266e-01,  2.03613e-01, -8.87207e-01,  ..., -5.15234e+00, -4.32812e+00, -4.55078e+00]],\n",
      "\n",
      "          ...,\n",
      "\n",
      "          [[ 2.86621e-01, -4.24561e-01, -9.31152e-01,  ..., -5.13672e+00, -4.93359e+00, -4.44531e+00],\n",
      "           [ 4.81873e-02, -6.70898e-01, -4.70703e-01,  ..., -4.61719e+00, -4.89062e+00, -4.48438e+00],\n",
      "           [-1.13037e-01, -9.87549e-02, -8.03223e-02,  ..., -4.67188e+00, -4.98438e+00, -4.87891e+00],\n",
      "           ...,\n",
      "           [-1.00342e-01, -1.88354e-01, -7.33643e-02,  ..., -5.10156e+00, -5.35156e+00, -5.44141e+00],\n",
      "           [-6.39648e-02, -5.03906e-01, -4.37988e-01,  ..., -4.94531e+00, -5.21094e+00, -4.95312e+00],\n",
      "           [-3.87207e-01, -1.23535e-01, -8.07617e-01,  ..., -5.46875e+00, -5.05469e+00, -4.87500e+00]],\n",
      "\n",
      "          [[ 4.17725e-01, -3.51807e-01, -9.21387e-01,  ..., -5.21094e+00, -5.17188e+00, -4.48047e+00],\n",
      "           [-5.32837e-02, -1.18286e-01, -4.39941e-01,  ..., -4.78125e+00, -4.81250e+00, -4.43359e+00],\n",
      "           [ 2.68311e-01,  1.66992e-01,  4.62036e-02,  ..., -4.90625e+00, -4.99219e+00, -4.96875e+00],\n",
      "           ...,\n",
      "           [-3.70117e-01,  1.75293e-01, -1.39160e-02,  ..., -5.00781e+00, -5.53125e+00, -5.41406e+00],\n",
      "           [-1.03821e-01,  3.79639e-02, -3.70605e-01,  ..., -4.95703e+00, -5.18359e+00, -4.91406e+00],\n",
      "           [-4.52881e-01,  5.59082e-02, -8.06152e-01,  ..., -5.33594e+00, -4.96094e+00, -4.75000e+00]],\n",
      "\n",
      "          [[-1.43799e-01, -6.52344e-01, -7.44629e-01,  ..., -5.65234e+00, -5.42188e+00, -4.94141e+00],\n",
      "           [ 2.53906e-01, -7.70996e-01, -2.10449e-01,  ..., -5.22266e+00, -5.41016e+00, -5.27344e+00],\n",
      "           [ 4.53613e-01, -6.74316e-01,  1.83228e-01,  ..., -5.63672e+00, -5.61328e+00, -5.87109e+00],\n",
      "           ...,\n",
      "           [-1.96899e-01, -3.27881e-01, -3.35693e-02,  ..., -6.01562e+00, -5.89844e+00, -6.14844e+00],\n",
      "           [-1.19141e-01, -3.83057e-01, -3.72559e-01,  ..., -5.83984e+00, -5.54688e+00, -5.48047e+00],\n",
      "           [-2.79053e-01, -4.26758e-01, -6.52832e-01,  ..., -5.97656e+00, -5.52344e+00, -5.19141e+00]]],\n",
      "\n",
      "\n",
      "         [[[ 1.24023e-01,  5.42969e-01, -3.65234e-01,  ..., -5.19531e+00, -5.32812e+00, -5.16016e+00],\n",
      "           [ 4.31152e-01,  4.87793e-01,  1.61133e-02,  ..., -5.14453e+00, -5.64844e+00, -5.20312e+00],\n",
      "           [ 3.49426e-02,  5.27344e-01,  3.31787e-01,  ..., -5.45312e+00, -5.92578e+00, -5.55469e+00],\n",
      "           ...,\n",
      "           [-5.36133e-01,  6.68945e-01,  4.28711e-01,  ..., -4.76172e+00, -5.24219e+00, -4.93750e+00],\n",
      "           [-3.63281e-01,  6.25977e-01,  9.86328e-02,  ..., -4.66797e+00, -4.91797e+00, -4.72266e+00],\n",
      "           [ 1.77002e-03,  4.01611e-01, -3.10547e-01,  ..., -5.42578e+00, -5.57031e+00, -4.92969e+00]],\n",
      "\n",
      "          [[ 2.14478e-01,  6.80664e-01, -7.48047e-01,  ..., -4.76562e+00, -4.84375e+00, -4.66016e+00],\n",
      "           [ 2.61475e-01,  6.16211e-01, -2.37305e-01,  ..., -4.67969e+00, -4.84375e+00, -4.52734e+00],\n",
      "           [ 1.98822e-02,  8.92578e-01,  1.13037e-01,  ..., -5.01562e+00, -5.07422e+00, -5.17188e+00],\n",
      "           ...,\n",
      "           [-5.07324e-01,  6.65039e-01,  1.57593e-01,  ..., -4.35156e+00, -4.48828e+00, -4.83203e+00],\n",
      "           [-2.55615e-01,  7.81250e-01, -2.55859e-01,  ..., -4.39062e+00, -4.39062e+00, -4.58984e+00],\n",
      "           [-2.01660e-01,  5.41016e-01, -7.40234e-01,  ..., -5.08984e+00, -5.13672e+00, -4.82812e+00]],\n",
      "\n",
      "          [[ 1.91284e-01,  7.33032e-02, -9.58984e-01,  ..., -4.89453e+00, -4.79688e+00, -4.76172e+00],\n",
      "           [ 2.95410e-01,  3.40881e-02, -2.92969e-01,  ..., -4.52344e+00, -4.76953e+00, -4.44531e+00],\n",
      "           [ 7.77588e-02,  1.03210e-01,  7.10449e-02,  ..., -4.71484e+00, -4.95312e+00, -5.05859e+00],\n",
      "           ...,\n",
      "           [-2.96631e-01,  5.39062e-01,  8.31299e-02,  ..., -3.97656e+00, -4.39453e+00, -4.83984e+00],\n",
      "           [-6.77490e-02,  5.61523e-01, -4.39453e-01,  ..., -4.31641e+00, -4.29688e+00, -4.55078e+00],\n",
      "           [-5.47852e-01,  3.07129e-01, -8.94531e-01,  ..., -5.08203e+00, -4.95703e+00, -4.73828e+00]],\n",
      "\n",
      "          ...,\n",
      "\n",
      "          [[ 3.41309e-01, -3.94775e-01, -8.76953e-01,  ..., -5.13281e+00, -5.07031e+00, -4.81641e+00],\n",
      "           [ 1.04187e-01, -7.38281e-01, -3.54980e-01,  ..., -4.75781e+00, -5.02344e+00, -4.60938e+00],\n",
      "           [-5.31311e-02, -2.38281e-01,  4.56543e-02,  ..., -4.76562e+00, -5.08203e+00, -4.88281e+00],\n",
      "           ...,\n",
      "           [-1.42700e-01, -3.20557e-01,  6.98242e-02,  ..., -4.93359e+00, -5.42578e+00, -5.27344e+00],\n",
      "           [-1.19385e-01, -5.30273e-01, -3.49609e-01,  ..., -4.96094e+00, -5.29688e+00, -4.97656e+00],\n",
      "           [-3.93799e-01, -2.78320e-01, -8.39844e-01,  ..., -5.40625e+00, -5.45312e+00, -4.92969e+00]],\n",
      "\n",
      "          [[ 4.38721e-01, -3.38135e-01, -8.72070e-01,  ..., -5.19141e+00, -5.21094e+00, -4.75391e+00],\n",
      "           [ 4.15649e-02, -2.94189e-01, -3.08105e-01,  ..., -5.07812e+00, -5.00781e+00, -4.63672e+00],\n",
      "           [ 3.20312e-01, -1.13770e-01,  2.14111e-01,  ..., -5.02734e+00, -5.03516e+00, -5.01562e+00],\n",
      "           ...,\n",
      "           [-3.95020e-01, -2.07764e-01,  1.66992e-01,  ..., -4.91406e+00, -5.39844e+00, -5.27734e+00],\n",
      "           [-2.11182e-01, -2.10205e-01, -2.35352e-01,  ..., -5.03516e+00, -5.23047e+00, -4.94922e+00],\n",
      "           [-4.64355e-01, -2.08984e-01, -7.72461e-01,  ..., -5.51172e+00, -5.29688e+00, -4.89062e+00]],\n",
      "\n",
      "          [[-1.09253e-01, -4.24194e-03, -6.18164e-01,  ..., -5.37109e+00, -5.08203e+00, -4.95312e+00],\n",
      "           [ 3.49609e-01, -4.80347e-02, -3.78418e-02,  ..., -5.60156e+00, -5.35547e+00, -4.86328e+00],\n",
      "           [ 5.09277e-01, -1.13220e-02,  3.97217e-01,  ..., -5.49609e+00, -5.33594e+00, -5.21875e+00],\n",
      "           ...,\n",
      "           [-2.32910e-01,  2.46338e-01,  2.22168e-01,  ..., -5.67969e+00, -5.60156e+00, -5.30469e+00],\n",
      "           [-1.68213e-01,  3.13477e-01, -1.59180e-01,  ..., -5.47656e+00, -5.31641e+00, -4.92578e+00],\n",
      "           [-2.06543e-01,  1.26221e-01, -4.59473e-01,  ..., -5.76172e+00, -5.47656e+00, -4.85938e+00]]]]], device='cuda:0', dtype=torch.float16), tensor([[[[[ 8.88062e-02, -1.78345e-01, -5.26367e-01,  ..., -4.85938e+00, -4.91406e+00, -5.08203e+00],\n",
      "           [ 2.61719e-01,  1.71875e-01, -3.50586e-01,  ..., -4.91406e+00, -5.08203e+00, -5.25000e+00],\n",
      "           [ 8.07495e-02,  2.35840e-01, -1.81396e-01,  ..., -4.72266e+00, -4.84375e+00, -5.53125e+00],\n",
      "           ...,\n",
      "           [-4.23828e-01,  3.33252e-01,  9.91821e-03,  ..., -5.01172e+00, -4.70312e+00, -5.09375e+00],\n",
      "           [-7.54883e-01,  1.06873e-01, -8.51440e-02,  ..., -4.77734e+00, -4.79297e+00, -4.79688e+00],\n",
      "           [-5.38086e-01,  2.14233e-01, -4.12598e-02,  ..., -4.53906e+00, -4.73047e+00, -4.76953e+00]],\n",
      "\n",
      "          [[ 2.97852e-01,  2.26440e-01, -7.08496e-01,  ..., -4.83984e+00, -5.08984e+00, -4.92578e+00],\n",
      "           [ 1.18408e-01,  2.21802e-01, -4.46289e-01,  ..., -5.01562e+00, -5.19531e+00, -5.12500e+00],\n",
      "           [-3.96973e-01, -7.55310e-03, -2.52441e-01,  ..., -4.89062e+00, -5.25000e+00, -5.35156e+00],\n",
      "           ...,\n",
      "           [-3.19336e-01, -3.48145e-01, -8.20312e-02,  ..., -4.92969e+00, -4.82031e+00, -4.87891e+00],\n",
      "           [-9.07715e-01, -2.15942e-01, -2.60254e-01,  ..., -4.58984e+00, -4.55469e+00, -4.75781e+00],\n",
      "           [-7.91992e-01,  1.57349e-01, -3.92822e-01,  ..., -4.46484e+00, -4.80859e+00, -4.75391e+00]],\n",
      "\n",
      "          [[ 5.90820e-01,  1.13403e-01, -7.84668e-01,  ..., -4.93359e+00, -4.72656e+00, -4.75391e+00],\n",
      "           [ 1.00708e-01,  1.04492e-01, -5.16602e-01,  ..., -5.01172e+00, -4.87891e+00, -4.90625e+00],\n",
      "           [-3.31055e-01,  2.83203e-01, -3.10303e-01,  ..., -5.07031e+00, -5.20703e+00, -5.24219e+00],\n",
      "           ...,\n",
      "           [ 1.43799e-01,  5.48828e-01, -1.88232e-01,  ..., -4.75391e+00, -4.83594e+00, -5.07031e+00],\n",
      "           [-2.87598e-01,  3.70605e-01, -4.02832e-01,  ..., -4.48438e+00, -4.73438e+00, -4.93359e+00],\n",
      "           [-6.70410e-01,  1.84692e-01, -6.77246e-01,  ..., -4.56250e+00, -4.82812e+00, -5.02734e+00]],\n",
      "\n",
      "          ...,\n",
      "\n",
      "          [[ 3.71094e-01,  1.46973e-01, -9.06250e-01,  ..., -4.41797e+00, -4.22266e+00, -4.68750e+00],\n",
      "           [ 2.83203e-01,  1.33179e-01, -5.06348e-01,  ..., -4.54688e+00, -4.42188e+00, -4.88672e+00],\n",
      "           [-4.98535e-01,  1.17004e-01, -3.33740e-01,  ..., -4.53906e+00, -4.60547e+00, -4.66016e+00],\n",
      "           ...,\n",
      "           [ 3.47168e-01,  1.51367e-01, -2.41211e-01,  ..., -4.27734e+00, -4.34766e+00, -4.40234e+00],\n",
      "           [ 2.41089e-01, -1.02997e-02, -6.85547e-01,  ..., -4.62109e+00, -4.67969e+00, -4.78906e+00],\n",
      "           [-9.74121e-01, -1.21765e-01, -8.82324e-01,  ..., -4.91016e+00, -4.99609e+00, -5.25000e+00]],\n",
      "\n",
      "          [[ 4.59473e-01, -2.49512e-01, -9.17969e-01,  ..., -4.40234e+00, -4.35156e+00, -4.45312e+00],\n",
      "           [ 2.08252e-01,  2.89001e-02, -5.01465e-01,  ..., -4.48438e+00, -4.37109e+00, -4.68750e+00],\n",
      "           [-4.02832e-01,  2.10938e-01, -3.13965e-01,  ..., -4.48047e+00, -4.41016e+00, -4.37500e+00],\n",
      "           ...,\n",
      "           [ 3.98438e-01,  3.13232e-01, -3.08105e-01,  ..., -4.25781e+00, -4.57812e+00, -4.78906e+00],\n",
      "           [ 1.44653e-01, -1.38062e-01, -6.70898e-01,  ..., -4.70703e+00, -4.91406e+00, -4.89453e+00],\n",
      "           [-1.02930e+00, -1.67480e-01, -8.75000e-01,  ..., -4.97656e+00, -4.96094e+00, -5.21484e+00]],\n",
      "\n",
      "          [[ 2.31323e-01, -3.90625e-01, -5.09277e-01,  ..., -4.50000e+00, -4.79297e+00, -4.73438e+00],\n",
      "           [ 2.98340e-01, -3.62061e-01, -4.24561e-01,  ..., -4.54297e+00, -4.77344e+00, -4.76562e+00],\n",
      "           [-2.43774e-01, -4.68750e-01, -2.58789e-01,  ..., -4.75781e+00, -4.66406e+00, -4.73828e+00],\n",
      "           ...,\n",
      "           [ 1.26099e-01, -3.40088e-01, -3.32520e-01,  ..., -4.60156e+00, -4.86719e+00, -5.02344e+00],\n",
      "           [-9.53979e-02, -6.06934e-01, -5.93750e-01,  ..., -4.72266e+00, -5.07422e+00, -5.21094e+00],\n",
      "           [-4.37500e-01, -4.44824e-01, -7.07520e-01,  ..., -4.88281e+00, -5.14844e+00, -5.22266e+00]]],\n",
      "\n",
      "\n",
      "         [[[ 2.38770e-01,  1.45264e-02, -4.13086e-01,  ..., -4.94531e+00, -5.12109e+00, -4.83594e+00],\n",
      "           [ 3.54980e-01,  5.29785e-01, -2.37671e-01,  ..., -4.64453e+00, -5.35547e+00, -5.06250e+00],\n",
      "           [ 1.95801e-01,  7.10938e-01, -4.69971e-02,  ..., -4.48438e+00, -5.32031e+00, -5.07031e+00],\n",
      "           ...,\n",
      "           [-2.99805e-01,  8.24707e-01,  1.59180e-01,  ..., -4.54688e+00, -5.08984e+00, -5.00391e+00],\n",
      "           [-6.44531e-01,  6.08887e-01,  6.93359e-02,  ..., -4.38672e+00, -5.02344e+00, -4.94531e+00],\n",
      "           [-3.36914e-01,  4.23340e-01,  1.15601e-01,  ..., -4.44922e+00, -4.78516e+00, -4.84375e+00]],\n",
      "\n",
      "          [[ 4.42383e-01,  4.98047e-01, -6.45996e-01,  ..., -4.81250e+00, -5.16797e+00, -4.93359e+00],\n",
      "           [ 2.73438e-01,  5.77637e-01, -3.64746e-01,  ..., -4.69922e+00, -5.32812e+00, -5.10547e+00],\n",
      "           [-1.85181e-01,  3.41797e-01, -1.48804e-01,  ..., -4.87109e+00, -5.19531e+00, -5.41016e+00],\n",
      "           ...,\n",
      "           [-1.15845e-01,  1.17310e-01,  5.16357e-02,  ..., -4.58203e+00, -5.11719e+00, -4.87500e+00],\n",
      "           [-7.38770e-01,  2.13135e-01, -1.50024e-01,  ..., -4.34375e+00, -4.79688e+00, -4.79688e+00],\n",
      "           [-5.79590e-01,  4.74609e-01, -2.68555e-01,  ..., -4.64844e+00, -4.83984e+00, -4.71875e+00]],\n",
      "\n",
      "          [[ 7.41699e-01,  2.01172e-01, -7.11914e-01,  ..., -4.91406e+00, -5.03906e+00, -4.74609e+00],\n",
      "           [ 2.66113e-01,  2.51465e-01, -4.21387e-01,  ..., -5.05859e+00, -5.15234e+00, -4.83203e+00],\n",
      "           [-1.60767e-01,  3.59863e-01, -2.05444e-01,  ..., -5.30078e+00, -5.08594e+00, -5.15625e+00],\n",
      "           ...,\n",
      "           [ 2.61719e-01,  6.56738e-01, -6.38428e-02,  ..., -4.95703e+00, -5.11328e+00, -5.07812e+00],\n",
      "           [-2.24487e-01,  5.23438e-01, -2.91016e-01,  ..., -4.67969e+00, -4.90625e+00, -4.97266e+00],\n",
      "           [-5.41016e-01,  3.30566e-01, -5.73730e-01,  ..., -4.73047e+00, -4.82812e+00, -4.72656e+00]],\n",
      "\n",
      "          ...,\n",
      "\n",
      "          [[ 4.71191e-01,  6.81763e-02, -8.34473e-01,  ..., -4.38281e+00, -4.61719e+00, -4.72656e+00],\n",
      "           [ 3.92578e-01,  2.13623e-04, -3.96973e-01,  ..., -4.10156e+00, -4.91797e+00, -4.92969e+00],\n",
      "           [-2.57812e-01, -8.19092e-02, -2.29370e-01,  ..., -4.13281e+00, -4.82812e+00, -4.88672e+00],\n",
      "           ...,\n",
      "           [ 4.32617e-01,  1.13403e-01, -1.03394e-01,  ..., -3.89062e+00, -4.70312e+00, -4.86328e+00],\n",
      "           [ 3.21533e-01, -4.45557e-02, -5.99121e-01,  ..., -4.44922e+00, -4.96875e+00, -5.21094e+00],\n",
      "           [-8.33008e-01, -1.38916e-01, -8.11035e-01,  ..., -4.81250e+00, -5.11328e+00, -5.28125e+00]],\n",
      "\n",
      "          [[ 5.23438e-01, -5.02930e-01, -8.33496e-01,  ..., -4.28516e+00, -4.61328e+00, -4.58594e+00],\n",
      "           [ 2.81738e-01, -4.13086e-01, -3.89160e-01,  ..., -3.90625e+00, -5.03125e+00, -4.94922e+00],\n",
      "           [-2.43530e-01, -3.76465e-01, -1.98364e-01,  ..., -3.83594e+00, -4.81641e+00, -4.73438e+00],\n",
      "           ...,\n",
      "           [ 4.44824e-01, -1.36719e-01, -1.83228e-01,  ..., -3.82812e+00, -5.11719e+00, -5.18750e+00],\n",
      "           [ 1.52954e-01, -4.60449e-01, -5.76660e-01,  ..., -4.33203e+00, -5.41797e+00, -5.41406e+00],\n",
      "           [-9.04785e-01, -4.09668e-01, -8.06152e-01,  ..., -4.82031e+00, -5.20312e+00, -5.26562e+00]],\n",
      "\n",
      "          [[ 3.21533e-01, -3.10547e-01, -3.71582e-01,  ..., -4.42578e+00, -4.97656e+00, -4.64844e+00],\n",
      "           [ 3.93066e-01, -4.12598e-01, -2.88086e-01,  ..., -4.19141e+00, -5.15625e+00, -4.96875e+00],\n",
      "           [-1.14014e-01, -5.72266e-01, -1.10962e-01,  ..., -4.25781e+00, -5.06250e+00, -4.97656e+00],\n",
      "           ...,\n",
      "           [ 1.96045e-01, -3.66211e-01, -1.89575e-01,  ..., -4.22656e+00, -5.34375e+00, -5.38281e+00],\n",
      "           [-1.25122e-02, -5.72266e-01, -4.71191e-01,  ..., -4.44531e+00, -5.54688e+00, -5.60938e+00],\n",
      "           [-2.91992e-01, -4.20410e-01, -6.21582e-01,  ..., -4.97266e+00, -5.37891e+00, -5.41406e+00]]],\n",
      "\n",
      "\n",
      "         [[[ 1.39771e-01,  6.11572e-02, -3.55713e-01,  ..., -4.55078e+00, -4.73438e+00, -5.05078e+00],\n",
      "           [ 5.10742e-01,  4.22607e-01, -4.45557e-01,  ..., -4.76172e+00, -4.81641e+00, -4.94141e+00],\n",
      "           [ 2.52197e-01,  6.54297e-01, -4.56543e-01,  ..., -4.84766e+00, -4.71484e+00, -5.15625e+00],\n",
      "           ...,\n",
      "           [-4.09180e-01,  7.70996e-01, -3.92090e-01,  ..., -4.74609e+00, -4.79688e+00, -4.87109e+00],\n",
      "           [-7.97852e-01,  5.28320e-01, -3.88672e-01,  ..., -4.29297e+00, -4.66797e+00, -4.84766e+00],\n",
      "           [-2.44995e-01,  3.27148e-01, -1.02783e-01,  ..., -4.24219e+00, -4.78906e+00, -4.86719e+00]],\n",
      "\n",
      "          [[ 3.56934e-01,  4.80469e-01, -4.20654e-01,  ..., -4.41797e+00, -4.68750e+00, -5.03906e+00],\n",
      "           [ 4.52393e-01,  4.87061e-01, -6.85059e-01,  ..., -4.69141e+00, -4.55859e+00, -4.90234e+00],\n",
      "           [-1.15112e-01,  3.55713e-01, -6.26953e-01,  ..., -4.80859e+00, -4.60156e+00, -5.10547e+00],\n",
      "           ...,\n",
      "           [-3.42041e-01,  1.53564e-01, -5.19531e-01,  ..., -4.71484e+00, -4.63281e+00, -4.87109e+00],\n",
      "           [-1.18066e+00,  1.32446e-01, -4.92188e-01,  ..., -4.22266e+00, -4.44531e+00, -4.75000e+00],\n",
      "           [-5.40527e-01,  3.49609e-01, -3.20557e-01,  ..., -4.30078e+00, -4.63672e+00, -4.80469e+00]],\n",
      "\n",
      "          [[ 7.03125e-01,  2.61230e-01, -5.49805e-01,  ..., -4.69922e+00, -4.57812e+00, -4.84766e+00],\n",
      "           [ 4.91455e-01,  2.08130e-01, -8.20312e-01,  ..., -5.00781e+00, -4.68750e+00, -4.73047e+00],\n",
      "           [-8.99658e-02,  3.77441e-01, -6.79688e-01,  ..., -5.37109e+00, -4.85547e+00, -5.01172e+00],\n",
      "           ...,\n",
      "           [ 3.14331e-02,  6.45020e-01, -5.33203e-01,  ..., -4.88281e+00, -4.75000e+00, -4.90625e+00],\n",
      "           [-7.20215e-01,  4.45312e-01, -6.27930e-01,  ..., -4.41797e+00, -4.61328e+00, -4.78125e+00],\n",
      "           [-4.35791e-01,  1.98242e-01, -5.96191e-01,  ..., -4.44922e+00, -4.51172e+00, -4.65625e+00]],\n",
      "\n",
      "          ...,\n",
      "\n",
      "          [[ 4.74854e-01,  2.14844e-01, -6.19629e-01,  ..., -3.92578e+00, -4.35156e+00, -4.66797e+00],\n",
      "           [ 5.58594e-01,  1.34583e-02, -8.55469e-01,  ..., -4.41016e+00, -4.62109e+00, -4.56250e+00],\n",
      "           [-3.19336e-01,  5.90210e-02, -6.70898e-01,  ..., -4.57812e+00, -4.89453e+00, -4.42188e+00],\n",
      "           ...,\n",
      "           [ 2.81494e-01,  2.18384e-01, -6.14258e-01,  ..., -4.01172e+00, -4.64062e+00, -4.45312e+00],\n",
      "           [-2.47681e-01,  1.01196e-01, -9.13086e-01,  ..., -4.09375e+00, -4.75000e+00, -4.67578e+00],\n",
      "           [-5.90820e-01, -1.15234e-01, -7.52930e-01,  ..., -4.38281e+00, -4.81250e+00, -4.82422e+00]],\n",
      "\n",
      "          [[ 4.46045e-01, -2.60498e-01, -6.43555e-01,  ..., -3.93750e+00, -4.42578e+00, -4.60938e+00],\n",
      "           [ 4.54346e-01, -3.60107e-01, -7.96875e-01,  ..., -4.30078e+00, -4.67188e+00, -4.46484e+00],\n",
      "           [-2.98340e-01, -2.30835e-01, -7.08984e-01,  ..., -4.34766e+00, -4.72266e+00, -4.38672e+00],\n",
      "           ...,\n",
      "           [ 1.56494e-01, -4.98352e-02, -6.65039e-01,  ..., -3.96680e+00, -4.97266e+00, -4.68359e+00],\n",
      "           [-3.53027e-01, -3.28125e-01, -9.07227e-01,  ..., -4.08203e+00, -5.13672e+00, -4.76562e+00],\n",
      "           [-6.60156e-01, -3.45947e-01, -8.14453e-01,  ..., -4.43750e+00, -4.94922e+00, -4.67188e+00]],\n",
      "\n",
      "          [[ 3.15430e-01, -1.86768e-01, -2.44751e-01,  ..., -4.24219e+00, -4.69922e+00, -4.90625e+00],\n",
      "           [ 5.26855e-01, -4.56787e-01, -5.14648e-01,  ..., -4.42578e+00, -4.61719e+00, -4.75781e+00],\n",
      "           [-1.59302e-01, -6.57227e-01, -4.36768e-01,  ..., -4.63281e+00, -4.56250e+00, -4.76953e+00],\n",
      "           ...,\n",
      "           [ 5.74341e-02, -4.63135e-01, -5.65918e-01,  ..., -4.40625e+00, -4.72656e+00, -5.02734e+00],\n",
      "           [-2.89795e-01, -7.01660e-01, -6.72363e-01,  ..., -4.41797e+00, -4.98047e+00, -4.87109e+00],\n",
      "           [-1.50024e-01, -4.40430e-01, -6.17188e-01,  ..., -4.50781e+00, -4.88672e+00, -4.97656e+00]]]]], device='cuda:0', dtype=torch.float16), tensor([[[[[ 1.71875e-01,  1.16602e+00, -3.52051e-01,  ..., -5.03906e+00, -4.84766e+00, -4.86719e+00],\n",
      "           [-3.90137e-01,  1.50684e+00, -1.84082e-01,  ..., -4.99219e+00, -5.32812e+00, -5.17188e+00],\n",
      "           [ 3.77441e-01,  1.48145e+00,  1.66138e-01,  ..., -4.64062e+00, -5.17969e+00, -5.06641e+00],\n",
      "           ...,\n",
      "           [-2.01660e-01,  1.47559e+00,  4.05518e-01,  ..., -4.87891e+00, -5.26953e+00, -4.76172e+00],\n",
      "           [-9.84497e-02,  1.49023e+00,  9.11865e-02,  ..., -4.93750e+00, -4.97656e+00, -4.76953e+00],\n",
      "           [-4.21875e-01,  1.29492e+00, -3.17383e-01,  ..., -4.92969e+00, -4.97656e+00, -4.88281e+00]],\n",
      "\n",
      "          [[ 4.07227e-01, -6.87256e-02, -9.02344e-01,  ..., -5.38281e+00, -5.11719e+00, -5.15625e+00],\n",
      "           [-7.03125e-01,  5.83496e-02, -5.68848e-01,  ..., -5.32031e+00, -5.06641e+00, -5.13672e+00],\n",
      "           [-3.84521e-03,  1.26221e-01, -1.46484e-03,  ..., -5.03906e+00, -5.18750e+00, -5.06641e+00],\n",
      "           ...,\n",
      "           [-2.54395e-01,  1.96777e-01,  8.37402e-02,  ..., -5.17578e+00, -5.22266e+00, -5.05859e+00],\n",
      "           [ 7.63184e-01,  4.69727e-01, -5.36133e-01,  ..., -5.48047e+00, -5.17188e+00, -5.44531e+00],\n",
      "           [-8.81348e-01,  3.44727e-01, -8.03711e-01,  ..., -5.69141e+00, -5.31641e+00, -5.72266e+00]],\n",
      "\n",
      "          [[ 5.18066e-01, -9.94263e-02, -8.88672e-01,  ..., -5.44141e+00, -5.03516e+00, -5.35938e+00],\n",
      "           [-5.27832e-01, -3.58398e-01, -5.18066e-01,  ..., -5.75781e+00, -4.93750e+00, -5.09375e+00],\n",
      "           [-3.55835e-02, -8.62427e-02, -5.54199e-02,  ..., -5.69922e+00, -5.06250e+00, -5.15234e+00],\n",
      "           ...,\n",
      "           [-3.21655e-02, -6.01562e-01,  1.34033e-01,  ..., -5.67188e+00, -5.51172e+00, -5.57031e+00],\n",
      "           [ 9.85840e-01, -9.28223e-01, -6.81641e-01,  ..., -6.06250e+00, -5.32422e+00, -5.71484e+00],\n",
      "           [-9.03320e-01, -7.43164e-01, -8.64258e-01,  ..., -6.20312e+00, -5.41797e+00, -5.90625e+00]],\n",
      "\n",
      "          ...,\n",
      "\n",
      "          [[ 8.79395e-01, -2.90283e-01, -7.37305e-01,  ..., -4.21484e+00, -4.90625e+00, -5.22656e+00],\n",
      "           [-4.02344e-01, -1.55640e-01, -5.17578e-01,  ..., -4.47266e+00, -4.98047e+00, -5.63672e+00],\n",
      "           [ 5.79102e-01,  1.38062e-01,  1.22437e-01,  ..., -4.28516e+00, -4.94531e+00, -5.50781e+00],\n",
      "           ...,\n",
      "           [-4.84619e-01,  6.73828e-02,  1.26953e-02,  ..., -4.58594e+00, -4.90234e+00, -4.89062e+00],\n",
      "           [-5.00183e-02,  3.99780e-02, -4.26270e-01,  ..., -4.92969e+00, -5.04688e+00, -5.14453e+00],\n",
      "           [-1.04297e+00, -1.52832e-01, -7.59766e-01,  ..., -5.35938e+00, -5.31250e+00, -5.38281e+00]],\n",
      "\n",
      "          [[ 6.03516e-01, -8.85254e-01, -7.15820e-01,  ..., -4.63281e+00, -5.01562e+00, -5.01562e+00],\n",
      "           [-2.69775e-02, -9.26758e-01, -4.17480e-01,  ..., -4.52734e+00, -5.02734e+00, -5.26172e+00],\n",
      "           [ 3.77930e-01, -9.61914e-01,  6.03027e-02,  ..., -3.68750e+00, -4.80859e+00, -5.14062e+00],\n",
      "           ...,\n",
      "           [-3.72803e-01, -8.24219e-01,  1.30249e-01,  ..., -4.24219e+00, -4.87500e+00, -4.71484e+00],\n",
      "           [-2.36206e-02, -7.54883e-01, -4.35547e-01,  ..., -4.61719e+00, -5.17188e+00, -4.94922e+00],\n",
      "           [-6.90918e-01, -5.54199e-01, -7.51953e-01,  ..., -4.83594e+00, -5.37500e+00, -5.11328e+00]],\n",
      "\n",
      "          [[ 2.76855e-01, -6.61133e-01, -2.66602e-01,  ..., -4.67188e+00, -4.70312e+00, -4.67578e+00],\n",
      "           [-1.27563e-01, -1.11230e+00, -2.51465e-01,  ..., -4.29688e+00, -4.91797e+00, -4.86328e+00],\n",
      "           [ 7.27539e-02, -1.32617e+00,  2.66113e-02,  ..., -3.89453e+00, -4.91797e+00, -4.98828e+00],\n",
      "           ...,\n",
      "           [-5.21484e-01, -8.42285e-01,  5.17578e-02,  ..., -4.05469e+00, -4.82031e+00, -4.98047e+00],\n",
      "           [-1.76514e-01, -8.39844e-01, -1.97266e-01,  ..., -4.35547e+00, -5.07031e+00, -5.08594e+00],\n",
      "           [-5.60547e-01, -6.56250e-01, -4.87305e-01,  ..., -4.52734e+00, -5.10547e+00, -5.08203e+00]]],\n",
      "\n",
      "\n",
      "         [[[ 5.84473e-01,  1.08789e+00, -7.84668e-01,  ..., -4.65234e+00, -5.04297e+00, -4.56250e+00],\n",
      "           [ 2.84668e-01,  1.49023e+00, -7.12891e-01,  ..., -4.80469e+00, -5.16016e+00, -5.16016e+00],\n",
      "           [ 6.20117e-01,  1.44336e+00, -4.81445e-01,  ..., -4.56641e+00, -5.27734e+00, -5.20312e+00],\n",
      "           ...,\n",
      "           [-1.65039e-01,  1.48145e+00, -2.72461e-01,  ..., -4.68750e+00, -5.15625e+00, -5.05078e+00],\n",
      "           [-1.86279e-01,  1.41309e+00, -4.85107e-01,  ..., -4.65625e+00, -4.91797e+00, -4.78906e+00],\n",
      "           [-4.14307e-01,  1.19434e+00, -7.04590e-01,  ..., -4.82422e+00, -4.69922e+00, -4.81250e+00]],\n",
      "\n",
      "          [[ 8.03223e-01, -1.83838e-01, -1.11328e+00,  ..., -4.89844e+00, -4.87109e+00, -4.74609e+00],\n",
      "           [ 1.67236e-01, -2.41699e-02, -9.43359e-01,  ..., -4.71484e+00, -4.76172e+00, -4.78516e+00],\n",
      "           [ 3.89404e-01,  5.44739e-02, -5.90820e-01,  ..., -4.64062e+00, -5.23828e+00, -5.09766e+00],\n",
      "           ...,\n",
      "           [-2.88330e-01,  1.78955e-01, -5.28320e-01,  ..., -4.76953e+00, -5.30078e+00, -5.33594e+00],\n",
      "           [ 3.85986e-01,  3.64990e-01, -9.41895e-01,  ..., -5.22656e+00, -5.20312e+00, -5.35156e+00],\n",
      "           [-9.71680e-01,  1.54175e-01, -1.12891e+00,  ..., -5.32812e+00, -4.95312e+00, -5.35547e+00]],\n",
      "\n",
      "          [[ 9.25781e-01, -9.14307e-02, -1.09668e+00,  ..., -5.12891e+00, -4.72656e+00, -4.65625e+00],\n",
      "           [ 3.02490e-01, -3.09814e-01, -9.38477e-01,  ..., -5.08984e+00, -4.54297e+00, -4.92578e+00],\n",
      "           [ 2.20947e-01, -2.88086e-02, -6.33301e-01,  ..., -5.37500e+00, -4.70703e+00, -4.92188e+00],\n",
      "           ...,\n",
      "           [-4.92554e-02, -5.78613e-01, -5.09277e-01,  ..., -5.88281e+00, -5.43750e+00, -5.53125e+00],\n",
      "           [ 5.06836e-01, -9.34082e-01, -1.01074e+00,  ..., -5.78125e+00, -4.98047e+00, -5.61328e+00],\n",
      "           [-1.08594e+00, -8.63281e-01, -1.12891e+00,  ..., -5.56250e+00, -4.92969e+00, -5.43359e+00]],\n",
      "\n",
      "          ...,\n",
      "\n",
      "          [[ 1.36035e+00, -2.49512e-01, -1.04688e+00,  ..., -4.08203e+00, -5.01172e+00, -4.99609e+00],\n",
      "           [ 2.39258e-01, -7.73926e-02, -9.55566e-01,  ..., -4.02344e+00, -4.97656e+00, -5.29688e+00],\n",
      "           [ 7.74414e-01,  1.86157e-01, -5.39551e-01,  ..., -4.05469e+00, -5.16797e+00, -5.45312e+00],\n",
      "           ...,\n",
      "           [-3.63770e-01,  8.64258e-02, -5.38574e-01,  ..., -4.57422e+00, -4.81250e+00, -4.78125e+00],\n",
      "           [-2.13867e-01,  5.33142e-02, -8.51562e-01,  ..., -4.79688e+00, -4.98438e+00, -4.85156e+00],\n",
      "           [-1.06543e+00, -8.35571e-02, -1.05664e+00,  ..., -5.00000e+00, -5.01172e+00, -5.07422e+00]],\n",
      "\n",
      "          [[ 9.68750e-01, -7.24121e-01, -9.78027e-01,  ..., -4.45703e+00, -5.19531e+00, -4.86719e+00],\n",
      "           [ 3.40820e-01, -7.73926e-01, -9.10645e-01,  ..., -4.15234e+00, -5.13672e+00, -5.19531e+00],\n",
      "           [ 5.83008e-01, -8.37402e-01, -5.83984e-01,  ..., -3.43164e+00, -5.05078e+00, -5.37891e+00],\n",
      "           ...,\n",
      "           [-4.11133e-01, -8.12988e-01, -4.79980e-01,  ..., -3.97070e+00, -4.85547e+00, -4.93750e+00],\n",
      "           [-2.41455e-01, -6.92383e-01, -8.77930e-01,  ..., -4.28516e+00, -5.21094e+00, -5.07422e+00],\n",
      "           [-7.27539e-01, -4.50439e-01, -1.06738e+00,  ..., -4.32812e+00, -5.06250e+00, -4.94531e+00]],\n",
      "\n",
      "          [[ 6.29883e-01, -5.59082e-01, -7.07031e-01,  ..., -4.48438e+00, -4.96484e+00, -4.75391e+00],\n",
      "           [ 1.75537e-01, -1.00781e+00, -7.34375e-01,  ..., -4.03516e+00, -4.84766e+00, -4.89844e+00],\n",
      "           [ 2.65137e-01, -1.20996e+00, -5.89355e-01,  ..., -3.66016e+00, -4.76953e+00, -5.23047e+00],\n",
      "           ...,\n",
      "           [-3.92578e-01, -7.79785e-01, -5.83496e-01,  ..., -3.86523e+00, -4.95312e+00, -5.12109e+00],\n",
      "           [-2.70264e-01, -7.64160e-01, -7.55859e-01,  ..., -4.07031e+00, -5.14062e+00, -5.13672e+00],\n",
      "           [-5.67871e-01, -6.66504e-01, -9.08691e-01,  ..., -4.16016e+00, -4.96094e+00, -5.01562e+00]]],\n",
      "\n",
      "\n",
      "         [[[ 3.45459e-01,  5.25879e-01, -5.89844e-01,  ..., -4.49609e+00, -4.33594e+00, -4.38281e+00],\n",
      "           [-1.45508e-01,  6.27441e-01, -4.93164e-01,  ..., -4.46484e+00, -4.58594e+00, -4.81641e+00],\n",
      "           [ 3.48145e-01,  5.40039e-01, -2.36572e-01,  ..., -4.42188e+00, -4.45312e+00, -4.83594e+00],\n",
      "           ...,\n",
      "           [-2.82471e-01,  6.91895e-01,  1.12305e-02,  ..., -4.29297e+00, -4.55078e+00, -4.80469e+00],\n",
      "           [-1.51489e-01,  6.49414e-01, -2.02881e-01,  ..., -4.25391e+00, -4.39453e+00, -4.69531e+00],\n",
      "           [-4.88037e-01,  4.48242e-01, -4.89746e-01,  ..., -4.48438e+00, -4.26953e+00, -4.47656e+00]],\n",
      "\n",
      "          [[ 6.61133e-01,  5.12207e-01, -9.87305e-01,  ..., -4.76562e+00, -4.23438e+00, -4.11328e+00],\n",
      "           [-3.62305e-01,  5.99121e-01, -7.95898e-01,  ..., -4.76562e+00, -4.50000e+00, -4.39062e+00],\n",
      "           [ 1.38184e-01,  5.49316e-01, -3.47168e-01,  ..., -4.61719e+00, -4.46484e+00, -4.55078e+00],\n",
      "           ...,\n",
      "           [-2.55127e-01,  5.01465e-01, -2.56348e-01,  ..., -4.58984e+00, -4.46875e+00, -4.60547e+00],\n",
      "           [ 5.58594e-01,  6.23047e-01, -7.92480e-01,  ..., -4.85547e+00, -4.46875e+00, -4.67188e+00],\n",
      "           [-1.04102e+00,  3.63281e-01, -1.01367e+00,  ..., -4.87891e+00, -4.43750e+00, -4.54688e+00]],\n",
      "\n",
      "          [[ 7.32910e-01,  4.70703e-01, -1.02832e+00,  ..., -4.87891e+00, -4.36328e+00, -4.42969e+00],\n",
      "           [-1.62231e-01,  1.07544e-01, -8.15918e-01,  ..., -4.98828e+00, -5.11719e+00, -4.82422e+00],\n",
      "           [ 5.18494e-02,  3.15430e-01, -4.25293e-01,  ..., -5.23047e+00, -5.12109e+00, -4.79297e+00],\n",
      "           ...,\n",
      "           [-1.06201e-01, -1.37329e-02, -2.83691e-01,  ..., -5.41797e+00, -5.36328e+00, -5.26172e+00],\n",
      "           [ 7.00684e-01, -3.32031e-01, -9.09180e-01,  ..., -5.22656e+00, -5.00391e+00, -4.98438e+00],\n",
      "           [-1.11914e+00, -2.17773e-01, -1.03223e+00,  ..., -5.05859e+00, -4.96875e+00, -4.74219e+00]],\n",
      "\n",
      "          ...,\n",
      "\n",
      "          [[ 1.15039e+00, -3.79150e-01, -9.46289e-01,  ..., -4.28125e+00, -4.48047e+00, -4.71484e+00],\n",
      "           [-1.63574e-01, -4.39941e-01, -8.58887e-01,  ..., -4.37109e+00, -4.63672e+00, -5.00000e+00],\n",
      "           [ 5.58594e-01, -2.81250e-01, -3.35938e-01,  ..., -3.91797e+00, -4.57422e+00, -5.12891e+00],\n",
      "           ...,\n",
      "           [-3.34229e-01, -9.14917e-02, -3.47168e-01,  ..., -4.32422e+00, -4.75000e+00, -4.68750e+00],\n",
      "           [-8.54492e-02, -7.72705e-02, -7.37305e-01,  ..., -4.75000e+00, -4.82422e+00, -4.73828e+00],\n",
      "           [-1.14355e+00, -1.89209e-01, -9.71680e-01,  ..., -4.94922e+00, -4.85938e+00, -4.75391e+00]],\n",
      "\n",
      "          [[ 8.25684e-01, -9.47754e-01, -8.33496e-01,  ..., -4.66406e+00, -4.62109e+00, -4.55469e+00],\n",
      "           [ 5.45349e-02, -1.23438e+00, -7.75391e-01,  ..., -4.52734e+00, -4.68359e+00, -4.74609e+00],\n",
      "           [ 3.45947e-01, -1.32910e+00, -3.80371e-01,  ..., -3.68359e+00, -4.62891e+00, -4.91016e+00],\n",
      "           ...,\n",
      "           [-3.31055e-01, -1.11816e+00, -2.49146e-01,  ..., -3.91797e+00, -4.66797e+00, -4.74609e+00],\n",
      "           [-8.07495e-02, -9.56543e-01, -7.19727e-01,  ..., -4.27734e+00, -4.61719e+00, -4.88672e+00],\n",
      "           [-8.38379e-01, -8.15430e-01, -9.40430e-01,  ..., -4.46484e+00, -4.79688e+00, -4.69141e+00]],\n",
      "\n",
      "          [[ 4.56787e-01, -2.65137e-01, -4.69727e-01,  ..., -4.64062e+00, -4.66797e+00, -4.34375e+00],\n",
      "           [ 3.62549e-02, -4.40674e-01, -4.98047e-01,  ..., -4.35547e+00, -4.66797e+00, -4.32422e+00],\n",
      "           [ 1.69922e-01, -5.26367e-01, -3.36182e-01,  ..., -3.92773e+00, -4.73828e+00, -4.55469e+00],\n",
      "           ...,\n",
      "           [-3.48389e-01, -1.08093e-01, -2.99072e-01,  ..., -4.05859e+00, -4.64062e+00, -4.53516e+00],\n",
      "           [-1.89819e-01, -2.52686e-01, -4.89746e-01,  ..., -4.20703e+00, -4.86719e+00, -4.70703e+00],\n",
      "           [-6.01074e-01, -3.37158e-01, -7.04102e-01,  ..., -4.39844e+00, -4.73438e+00, -4.42578e+00]]]]], device='cuda:0', dtype=torch.float16), tensor([[[[[ 8.77930e-01,  3.51807e-01, -5.63965e-01,  ..., -5.31250e+00, -4.95703e+00, -5.28125e+00],\n",
      "           [-2.57263e-02,  7.88086e-01, -3.67676e-01,  ..., -5.81641e+00, -5.30859e+00, -5.52344e+00],\n",
      "           [ 8.57422e-01,  7.57324e-01, -1.85791e-01,  ..., -5.67188e+00, -5.37109e+00, -5.68750e+00],\n",
      "           ...,\n",
      "           [-6.25977e-01,  1.02734e+00,  1.22314e-01,  ..., -5.29297e+00, -4.74219e+00, -5.17578e+00],\n",
      "           [-6.18164e-01,  1.25977e+00, -2.14844e-01,  ..., -5.12109e+00, -4.83594e+00, -5.09766e+00],\n",
      "           [-8.59375e-01,  1.07031e+00, -4.79492e-01,  ..., -5.06641e+00, -4.66406e+00, -5.12500e+00]],\n",
      "\n",
      "          [[ 9.73633e-01,  4.97070e-01, -7.70508e-01,  ..., -5.26562e+00, -5.33984e+00, -5.57031e+00],\n",
      "           [ 2.22900e-01,  1.31958e-01, -5.75195e-01,  ..., -5.52344e+00, -5.32812e+00, -5.69141e+00],\n",
      "           [-3.42773e-01, -3.10547e-01, -4.18213e-01,  ..., -5.86328e+00, -5.62891e+00, -5.56250e+00],\n",
      "           ...,\n",
      "           [-2.34680e-02,  2.49390e-01, -1.91040e-01,  ..., -5.81641e+00, -5.33203e+00, -5.65234e+00],\n",
      "           [-3.15918e-01,  2.80029e-01, -4.43848e-01,  ..., -5.48047e+00, -5.27734e+00, -5.60938e+00],\n",
      "           [-1.19043e+00,  3.54736e-01, -6.70898e-01,  ..., -5.55078e+00, -5.25781e+00, -5.57812e+00]],\n",
      "\n",
      "          [[ 7.14844e-01, -5.15137e-01, -8.73047e-01,  ..., -5.92969e+00, -5.69531e+00, -6.04688e+00],\n",
      "           [-3.79028e-02, -7.47070e-01, -6.23047e-01,  ..., -6.30469e+00, -5.73438e+00, -6.21875e+00],\n",
      "           [-9.32617e-01, -9.72656e-01, -6.21094e-01,  ..., -6.23438e+00, -5.55469e+00, -5.69141e+00],\n",
      "           ...,\n",
      "           [ 1.48193e-01, -7.41699e-01, -4.51172e-01,  ..., -6.06641e+00, -5.58984e+00, -5.98047e+00],\n",
      "           [-2.28882e-01, -8.09082e-01, -5.01465e-01,  ..., -6.01953e+00, -5.53906e+00, -5.88281e+00],\n",
      "           [-1.45801e+00, -5.23926e-01, -7.32422e-01,  ..., -5.66406e+00, -5.21875e+00, -5.71484e+00]],\n",
      "\n",
      "          ...,\n",
      "\n",
      "          [[ 1.57324e+00, -3.89893e-01, -7.91992e-01,  ..., -4.63281e+00, -5.68359e+00, -6.04688e+00],\n",
      "           [ 5.04150e-02, -3.65967e-01, -7.05078e-01,  ..., -5.41797e+00, -6.03516e+00, -6.37500e+00],\n",
      "           [-2.06641e+00, -9.06372e-02, -6.82617e-01,  ..., -5.60938e+00, -5.80859e+00, -6.08594e+00],\n",
      "           ...,\n",
      "           [ 6.55273e-01, -1.11145e-01, -4.88770e-01,  ..., -6.62500e+00, -5.63281e+00, -6.11328e+00],\n",
      "           [-5.61035e-01, -5.68237e-02, -6.93848e-01,  ..., -5.93750e+00, -5.58984e+00, -5.92969e+00],\n",
      "           [-1.52832e+00, -1.30493e-01, -7.02148e-01,  ..., -5.20703e+00, -5.07422e+00, -4.99609e+00]],\n",
      "\n",
      "          [[ 1.22168e+00, -5.82031e-01, -7.08008e-01,  ..., -4.22656e+00, -5.45312e+00, -5.75000e+00],\n",
      "           [ 2.35107e-01, -7.09961e-01, -6.31836e-01,  ..., -4.85547e+00, -5.70312e+00, -6.06641e+00],\n",
      "           [-1.07812e+00, -2.91748e-02, -4.44336e-01,  ..., -5.30078e+00, -5.61719e+00, -5.85156e+00],\n",
      "           ...,\n",
      "           [ 3.20557e-01, -6.46484e-01, -3.75000e-01,  ..., -5.43359e+00, -5.12109e+00, -5.64453e+00],\n",
      "           [-1.98242e-01, -5.90820e-01, -6.74316e-01,  ..., -5.19531e+00, -5.07812e+00, -5.50000e+00],\n",
      "           [-8.99414e-01,  8.92334e-02, -7.87109e-01,  ..., -5.07812e+00, -5.05859e+00, -5.21484e+00]],\n",
      "\n",
      "          [[ 1.26172e+00, -7.20703e-01, -6.26953e-01,  ..., -4.41016e+00, -4.96875e+00, -5.18359e+00],\n",
      "           [ 3.93799e-01, -8.07129e-01, -4.43848e-01,  ..., -4.95312e+00, -5.10938e+00, -5.30078e+00],\n",
      "           [-8.87451e-02, -7.04590e-01, -3.13965e-01,  ..., -5.74609e+00, -5.73828e+00, -5.72266e+00],\n",
      "           ...,\n",
      "           [-1.01465e+00, -3.95020e-01, -6.38428e-02,  ..., -5.66406e+00, -5.27734e+00, -5.75000e+00],\n",
      "           [-1.38184e-01, -5.24902e-01, -5.27344e-01,  ..., -5.27734e+00, -5.06250e+00, -5.52344e+00],\n",
      "           [-9.53613e-01, -6.76270e-01, -6.48926e-01,  ..., -5.38672e+00, -5.00391e+00, -5.44922e+00]]],\n",
      "\n",
      "\n",
      "         [[[ 1.03711e+00,  5.95093e-02, -8.28613e-01,  ..., -4.99609e+00, -4.94531e+00, -5.07812e+00],\n",
      "           [ 1.63696e-01,  4.55322e-01, -7.70020e-01,  ..., -5.98047e+00, -5.50781e+00, -5.60938e+00],\n",
      "           [ 1.06934e+00,  4.89014e-01, -6.54297e-01,  ..., -5.78125e+00, -6.01172e+00, -5.98438e+00],\n",
      "           ...,\n",
      "           [-5.63965e-01,  6.75293e-01, -4.25781e-01,  ..., -5.27344e+00, -5.17188e+00, -5.46094e+00],\n",
      "           [-9.06250e-01,  8.40332e-01, -6.67480e-01,  ..., -5.16406e+00, -5.21094e+00, -5.45312e+00],\n",
      "           [-8.65234e-01,  7.66113e-01, -8.03223e-01,  ..., -4.84375e+00, -5.14062e+00, -5.23047e+00]],\n",
      "\n",
      "          [[ 9.81445e-01,  3.74023e-01, -1.00586e+00,  ..., -5.03906e+00, -5.13672e+00, -5.06250e+00],\n",
      "           [ 4.58252e-01,  2.49481e-02, -9.53125e-01,  ..., -5.39844e+00, -5.10156e+00, -5.32422e+00],\n",
      "           [-2.55127e-01, -3.65723e-01, -8.34961e-01,  ..., -5.75781e+00, -5.57812e+00, -5.63672e+00],\n",
      "           ...,\n",
      "           [ 1.11389e-02,  1.84448e-01, -6.40625e-01,  ..., -5.60156e+00, -5.22656e+00, -5.47656e+00],\n",
      "           [-7.08984e-01,  2.39624e-01, -7.99316e-01,  ..., -5.39062e+00, -5.07812e+00, -5.24609e+00],\n",
      "           [-1.32520e+00,  2.59277e-01, -9.41406e-01,  ..., -5.19141e+00, -5.31250e+00, -5.23438e+00]],\n",
      "\n",
      "          [[ 7.99316e-01, -5.76660e-01, -1.09180e+00,  ..., -5.56250e+00, -5.36719e+00, -5.39453e+00],\n",
      "           [ 2.18506e-01, -7.77832e-01, -9.87305e-01,  ..., -5.89062e+00, -5.38281e+00, -5.70312e+00],\n",
      "           [-8.28613e-01, -1.00000e+00, -9.95117e-01,  ..., -5.60938e+00, -5.49219e+00, -5.77344e+00],\n",
      "           ...,\n",
      "           [ 1.30615e-01, -7.57324e-01, -8.33984e-01,  ..., -5.80469e+00, -5.60938e+00, -5.59766e+00],\n",
      "           [-6.23535e-01, -8.21777e-01, -8.74023e-01,  ..., -5.67969e+00, -5.43359e+00, -5.43750e+00],\n",
      "           [-1.40918e+00, -5.38574e-01, -1.01172e+00,  ..., -5.17578e+00, -5.16016e+00, -5.17969e+00]],\n",
      "\n",
      "          ...,\n",
      "\n",
      "          [[ 1.69043e+00, -3.35205e-01, -1.03711e+00,  ..., -4.66406e+00, -5.20703e+00, -5.65625e+00],\n",
      "           [ 7.88574e-02, -3.21045e-01, -1.04297e+00,  ..., -4.90625e+00, -5.55469e+00, -5.76562e+00],\n",
      "           [-1.91309e+00, -7.98950e-02, -1.03516e+00,  ..., -5.23438e+00, -5.89453e+00, -5.71875e+00],\n",
      "           ...,\n",
      "           [ 7.81250e-01, -1.34644e-01, -8.68652e-01,  ..., -6.27734e+00, -5.52344e+00, -5.42969e+00],\n",
      "           [-6.37695e-01, -1.05774e-01, -1.04297e+00,  ..., -5.80859e+00, -5.24219e+00, -4.99219e+00],\n",
      "           [-1.61621e+00, -1.60675e-02, -9.62891e-01,  ..., -4.97656e+00, -5.16797e+00, -4.83594e+00]],\n",
      "\n",
      "          [[ 1.21973e+00, -3.38135e-01, -9.57031e-01,  ..., -4.08203e+00, -5.04688e+00, -5.33594e+00],\n",
      "           [ 2.81494e-01, -4.11133e-01, -9.92676e-01,  ..., -4.57031e+00, -5.32031e+00, -5.66406e+00],\n",
      "           [-1.01465e+00,  1.32690e-01, -8.50586e-01,  ..., -5.00781e+00, -5.62891e+00, -5.70312e+00],\n",
      "           ...,\n",
      "           [ 3.52783e-01, -3.43018e-01, -7.89062e-01,  ..., -5.41406e+00, -5.44531e+00, -5.57812e+00],\n",
      "           [-5.14160e-01, -2.56104e-01, -9.97559e-01,  ..., -5.16797e+00, -5.17188e+00, -5.01953e+00],\n",
      "           [-1.02441e+00,  3.60840e-01, -1.00000e+00,  ..., -5.04297e+00, -5.25781e+00, -5.11719e+00]],\n",
      "\n",
      "          [[ 1.41016e+00, -6.11816e-01, -9.18945e-01,  ..., -4.39453e+00, -4.88281e+00, -4.99609e+00],\n",
      "           [ 6.45508e-01, -6.32812e-01, -8.42773e-01,  ..., -5.28516e+00, -5.25781e+00, -5.18750e+00],\n",
      "           [ 8.86230e-02, -5.86914e-01, -7.36328e-01,  ..., -5.82812e+00, -5.85156e+00, -5.58203e+00],\n",
      "           ...,\n",
      "           [-9.64844e-01, -3.77930e-01, -5.68359e-01,  ..., -6.03906e+00, -5.52734e+00, -5.92969e+00],\n",
      "           [-2.91748e-01, -5.40039e-01, -8.75000e-01,  ..., -5.85938e+00, -5.17188e+00, -5.23828e+00],\n",
      "           [-8.28125e-01, -5.83984e-01, -9.51172e-01,  ..., -5.25000e+00, -5.00000e+00, -5.17969e+00]]],\n",
      "\n",
      "\n",
      "         [[[ 6.92871e-01,  2.85187e-02, -7.30469e-01,  ..., -4.69531e+00, -4.60938e+00, -4.47266e+00],\n",
      "           [ 3.77441e-01,  3.80371e-01, -7.51953e-01,  ..., -5.17188e+00, -4.75000e+00, -4.55469e+00],\n",
      "           [ 1.06152e+00,  2.69775e-01, -6.78223e-01,  ..., -5.10156e+00, -5.10156e+00, -4.78125e+00],\n",
      "           ...,\n",
      "           [-6.31836e-01,  5.68848e-01, -4.68262e-01,  ..., -4.81641e+00, -4.69531e+00, -4.53906e+00],\n",
      "           [-9.63379e-01,  6.26465e-01, -6.51855e-01,  ..., -4.75781e+00, -4.57422e+00, -4.29688e+00],\n",
      "           [-4.09668e-01,  6.26953e-01, -7.13867e-01,  ..., -4.72266e+00, -4.52734e+00, -4.57031e+00]],\n",
      "\n",
      "          [[ 6.60156e-01,  3.82568e-01, -8.91113e-01,  ..., -4.58594e+00, -4.38281e+00, -4.42578e+00],\n",
      "           [ 5.65918e-01,  1.15234e-01, -9.41406e-01,  ..., -4.89453e+00, -4.30859e+00, -4.58203e+00],\n",
      "           [ 1.96838e-02, -4.96674e-03, -8.75977e-01,  ..., -5.03906e+00, -4.36719e+00, -4.69531e+00],\n",
      "           ...,\n",
      "           [-3.23975e-01,  2.37915e-01, -6.78711e-01,  ..., -4.64453e+00, -4.56250e+00, -4.56641e+00],\n",
      "           [-1.00098e+00,  2.94189e-01, -8.04688e-01,  ..., -4.71094e+00, -4.42969e+00, -4.48047e+00],\n",
      "           [-8.25684e-01,  3.88184e-01, -8.56445e-01,  ..., -4.82422e+00, -4.29297e+00, -4.70312e+00]],\n",
      "\n",
      "          [[ 4.57031e-01, -4.12842e-01, -9.54590e-01,  ..., -5.05469e+00, -4.75391e+00, -4.64062e+00],\n",
      "           [ 4.10400e-01, -7.51953e-01, -9.90234e-01,  ..., -5.40234e+00, -4.80859e+00, -4.91797e+00],\n",
      "           [-3.99414e-01, -8.59863e-01, -9.80469e-01,  ..., -5.30078e+00, -4.78906e+00, -4.82422e+00],\n",
      "           ...,\n",
      "           [-1.09741e-01, -6.68945e-01, -8.45703e-01,  ..., -5.09375e+00, -4.66016e+00, -4.75391e+00],\n",
      "           [-8.70605e-01, -7.16797e-01, -8.86230e-01,  ..., -5.35156e+00, -4.67578e+00, -4.82031e+00],\n",
      "           [-8.13965e-01, -3.73535e-01, -9.20898e-01,  ..., -5.01562e+00, -4.64844e+00, -4.67969e+00]],\n",
      "\n",
      "          ...,\n",
      "\n",
      "          [[ 1.03516e+00, -5.54199e-01, -9.69727e-01,  ..., -4.10938e+00, -5.07422e+00, -4.97266e+00],\n",
      "           [ 1.58447e-01, -4.69482e-01, -1.09570e+00,  ..., -4.48047e+00, -4.82422e+00, -4.83984e+00],\n",
      "           [-1.07520e+00, -2.13867e-01, -1.01172e+00,  ..., -4.75391e+00, -4.80859e+00, -5.17969e+00],\n",
      "           ...,\n",
      "           [ 1.74805e-01, -2.54395e-01, -8.27637e-01,  ..., -5.38672e+00, -4.54297e+00, -4.78125e+00],\n",
      "           [-7.48047e-01, -2.86865e-01, -1.02734e+00,  ..., -4.77344e+00, -4.28906e+00, -4.49219e+00],\n",
      "           [-8.87695e-01, -1.52222e-01, -8.84766e-01,  ..., -4.56641e+00, -4.55859e+00, -4.48047e+00]],\n",
      "\n",
      "          [[ 8.43750e-01, -8.71582e-01, -8.80859e-01,  ..., -3.75977e+00, -4.76953e+00, -4.62500e+00],\n",
      "           [ 4.32861e-01, -1.03418e+00, -1.04395e+00,  ..., -4.33984e+00, -4.87109e+00, -4.73828e+00],\n",
      "           [-3.74512e-01, -4.20410e-01, -8.75977e-01,  ..., -4.67578e+00, -4.81641e+00, -4.87891e+00],\n",
      "           ...,\n",
      "           [-5.56641e-02, -1.06152e+00, -7.90527e-01,  ..., -4.93750e+00, -4.64453e+00, -4.67188e+00],\n",
      "           [-5.76660e-01, -1.04883e+00, -9.52637e-01,  ..., -4.88672e+00, -4.33984e+00, -4.15234e+00],\n",
      "           [-3.69141e-01, -3.08350e-01, -8.92578e-01,  ..., -4.72656e+00, -4.43750e+00, -4.29688e+00]],\n",
      "\n",
      "          [[ 9.59961e-01, -4.79980e-01, -7.84180e-01,  ..., -4.06641e+00, -4.54297e+00, -4.14062e+00],\n",
      "           [ 6.67969e-01, -5.76172e-01, -8.57422e-01,  ..., -4.67969e+00, -4.78906e+00, -4.43359e+00],\n",
      "           [ 2.97607e-01, -5.26367e-01, -7.29492e-01,  ..., -5.12891e+00, -5.17188e+00, -4.66406e+00],\n",
      "           ...,\n",
      "           [-1.03809e+00, -2.11548e-01, -6.05469e-01,  ..., -5.19531e+00, -4.92969e+00, -4.57031e+00],\n",
      "           [-3.98926e-01, -4.18213e-01, -8.26172e-01,  ..., -4.80469e+00, -4.73438e+00, -4.27734e+00],\n",
      "           [-4.78516e-01, -3.76709e-01, -8.25684e-01,  ..., -4.91797e+00, -4.68750e+00, -4.37109e+00]]]]], device='cuda:0', dtype=torch.float16)]\n"
     ]
    },
    {
     "name": "stderr",
     "output_type": "stream",
     "text": [
      "  0%|          | 0/14 [00:05<?, ?it/s]\n"
     ]
    }
   ],
   "source": [
    "for epoch in range(start_epoch, epochs):  # epoch ------------------------------------------------------------------\n",
    "    with torch.no_grad():\n",
    "        model.train()\n",
    "        print(epoch)\n",
    "        # Update image weights (optional)\n",
    "        if opt.image_weights:\n",
    "            # Generate indices\n",
    "            if rank in [-1, 0]:\n",
    "                cw = model.class_weights.cpu().numpy() * (1 - maps) ** 2 / nc  # class weights\n",
    "                iw = labels_to_image_weights(dataset.labels, nc=nc, class_weights=cw)  # image weights\n",
    "                dataset.indices = random.choices(range(dataset.n), weights=iw, k=dataset.n)  # rand weighted idx\n",
    "            # Broadcast if DDP\n",
    "            if rank != -1:\n",
    "                indices = (torch.tensor(dataset.indices) if rank == 0 else torch.zeros(dataset.n)).int()\n",
    "                dist.broadcast(indices, 0)\n",
    "                if rank != 0:\n",
    "                    dataset.indices = indices.cpu().numpy()\n",
    "\n",
    "        # Update mosaic border\n",
    "        # b = int(random.uniform(0.25 * imgsz, 0.75 * imgsz + gs) // gs * gs)\n",
    "        # dataset.mosaic_border = [b - imgsz, -b]  # height, width borders\n",
    "\n",
    "        mloss = torch.zeros(4, device=device)  # mean losses\n",
    "        if rank != -1:\n",
    "            dataloader.sampler.set_epoch(epoch)\n",
    "        pbar = enumerate(dataloader)\n",
    "        logger.info(('\\n' + '%10s' * 8) % ('Epoch', 'gpu_mem', 'box', 'obj', 'cls', 'total', 'labels', 'img_size'))\n",
    "        if rank in [-1, 0]:\n",
    "            pbar = tqdm(pbar, total=nb)  # progress bar\n",
    "        optimizer.zero_grad()\n",
    "        for i, (imgs, targets, paths, _) in pbar:  # batch -------------------------------------------------------------\n",
    "            ni = i + nb * epoch  # number integrated batches (since train start)\n",
    "            imgs = imgs.to(device, non_blocking=True).float() / 255.0  # uint8 to float32, 0-255 to 0.0-1.0\n",
    "\n",
    "            # Warmup\n",
    "            if ni <= nw:\n",
    "                xi = [0, nw]  # x interp\n",
    "                # model.gr = np.interp(ni, xi, [0.0, 1.0])  # iou loss ratio (obj_loss = 1.0 or iou)\n",
    "                accumulate = max(1, np.interp(ni, xi, [1, nbs / total_batch_size]).round())\n",
    "                for j, x in enumerate(optimizer.param_groups):\n",
    "                    # bias lr falls from 0.1 to lr0, all other lrs rise from 0.0 to lr0\n",
    "                    x['lr'] = np.interp(ni, xi, [hyp['warmup_bias_lr'] if j == 2 else 0.0, x['initial_lr'] * lf(epoch)])\n",
    "                    if 'momentum' in x:\n",
    "                        x['momentum'] = np.interp(ni, xi, [hyp['warmup_momentum'], hyp['momentum']])\n",
    "\n",
    "            # Multi-scale\n",
    "            if opt.multi_scale:\n",
    "                sz = random.randrange(imgsz * 0.5, imgsz * 1.5 + gs) // gs * gs  # size\n",
    "                sf = sz / max(imgs.shape[2:])  # scale factor\n",
    "                if sf != 1:\n",
    "                    ns = [math.ceil(x * sf / gs) * gs for x in imgs.shape[2:]]  # new shape (stretched to gs-multiple)\n",
    "                    imgs = F.interpolate(imgs, size=ns, mode='bilinear', align_corners=False)\n",
    "            print(imgs)\n",
    "            print(targets)\n",
    "            # Forward\n",
    "            with amp.autocast(enabled=cuda):\n",
    "                pred = model(imgs)  # forward\n",
    "                # loss, loss_items = compute_loss_ota(pred, targets.to(device), imgs)\n",
    "                print(pred)\n",
    "                torch.save(pred,'predict_sample.pt')\n",
    "                torch.save(targets, 'target_sample.pt')\n",
    "                torch.save(imgs, 'imgs_sample.pt')\n",
    "            break\n",
    "        break"
   ]
  },
  {
   "attachments": {},
   "cell_type": "markdown",
   "metadata": {},
   "source": [
    "# Explore loss function"
   ]
  },
  {
   "cell_type": "code",
   "execution_count": 22,
   "metadata": {},
   "outputs": [],
   "source": [
    "pred = torch.load('predict_sample.pt')\n",
    "targets = torch.load('target_sample.pt')\n",
    "imgs = torch.load('imgs_sample.pt')"
   ]
  },
  {
   "cell_type": "code",
   "execution_count": 25,
   "metadata": {},
   "outputs": [
    {
     "data": {
      "text/plain": [
       "tensor([[0.00000e+00, 1.00000e+01, 4.66309e-01, 6.19629e-01, 4.50195e-01, 7.02148e-01],\n",
       "        [0.00000e+00, 3.60000e+01, 4.85840e-01, 3.74023e-01, 1.29883e-01, 3.90620e-02],\n",
       "        [0.00000e+00, 3.30000e+01, 4.84863e-01, 2.81738e-01, 1.25977e-01, 2.63670e-02]])"
      ]
     },
     "execution_count": 25,
     "metadata": {},
     "output_type": "execute_result"
    }
   ],
   "source": [
    "targets"
   ]
  },
  {
   "attachments": {},
   "cell_type": "markdown",
   "metadata": {},
   "source": [
    "## Build_targets function"
   ]
  },
  {
   "attachments": {},
   "cell_type": "markdown",
   "metadata": {},
   "source": [
    "### find_3_positive function"
   ]
  },
  {
   "cell_type": "code",
   "execution_count": 29,
   "metadata": {},
   "outputs": [
    {
     "data": {
      "text/plain": [
       "3"
      ]
     },
     "execution_count": 29,
     "metadata": {},
     "output_type": "execute_result"
    }
   ],
   "source": [
    "na = model.model[-1].na\n",
    "na"
   ]
  },
  {
   "cell_type": "code",
   "execution_count": 30,
   "metadata": {},
   "outputs": [
    {
     "data": {
      "text/plain": [
       "3"
      ]
     },
     "execution_count": 30,
     "metadata": {},
     "output_type": "execute_result"
    }
   ],
   "source": [
    "nt = targets.shape[0]\n",
    "nt"
   ]
  },
  {
   "cell_type": "code",
   "execution_count": 40,
   "metadata": {},
   "outputs": [
    {
     "data": {
      "text/plain": [
       "4"
      ]
     },
     "execution_count": 40,
     "metadata": {},
     "output_type": "execute_result"
    }
   ],
   "source": [
    "nl = model.model[-1].nl\n",
    "nl"
   ]
  },
  {
   "cell_type": "code",
   "execution_count": 42,
   "metadata": {},
   "outputs": [
    {
     "data": {
      "text/plain": [
       "46"
      ]
     },
     "execution_count": 42,
     "metadata": {},
     "output_type": "execute_result"
    }
   ],
   "source": [
    "nc = model.model[-1].nc\n",
    "nc"
   ]
  },
  {
   "cell_type": "code",
   "execution_count": 41,
   "metadata": {},
   "outputs": [
    {
     "data": {
      "text/plain": [
       "tensor([[[ 2.37500,  3.37500],\n",
       "         [ 5.50000,  5.00000],\n",
       "         [ 4.75000, 11.75000]],\n",
       "\n",
       "        [[ 6.00000,  4.25000],\n",
       "         [ 5.37500,  9.50000],\n",
       "         [11.25000,  8.56250]],\n",
       "\n",
       "        [[ 4.37500,  9.40625],\n",
       "         [ 9.46875,  8.25000],\n",
       "         [ 7.43750, 16.93750]],\n",
       "\n",
       "        [[ 6.81250,  9.60938],\n",
       "         [11.54688,  5.93750],\n",
       "         [14.45312, 12.37500]]], device='cuda:0')"
      ]
     },
     "execution_count": 41,
     "metadata": {},
     "output_type": "execute_result"
    }
   ],
   "source": [
    "anchors = model.model[-1].anchors\n",
    "anchors"
   ]
  },
  {
   "cell_type": "code",
   "execution_count": 43,
   "metadata": {},
   "outputs": [
    {
     "data": {
      "text/plain": [
       "tensor([ 8., 16., 32., 64.])"
      ]
     },
     "execution_count": 43,
     "metadata": {},
     "output_type": "execute_result"
    }
   ],
   "source": [
    "stride = model.model[-1].stride\n",
    "stride"
   ]
  },
  {
   "cell_type": "code",
   "execution_count": 58,
   "metadata": {},
   "outputs": [],
   "source": [
    "hyp = model.hyp"
   ]
  },
  {
   "cell_type": "code",
   "execution_count": 31,
   "metadata": {},
   "outputs": [],
   "source": [
    "indices, anch = [], []"
   ]
  },
  {
   "cell_type": "code",
   "execution_count": 33,
   "metadata": {},
   "outputs": [
    {
     "data": {
      "text/plain": [
       "tensor([1, 1, 1, 1, 1, 1, 1])"
      ]
     },
     "execution_count": 33,
     "metadata": {},
     "output_type": "execute_result"
    }
   ],
   "source": [
    "gain = torch.ones(7, device=targets.device).long()  # normalized to gridspace gain\n",
    "gain"
   ]
  },
  {
   "cell_type": "code",
   "execution_count": 34,
   "metadata": {},
   "outputs": [
    {
     "data": {
      "text/plain": [
       "tensor([[0., 0., 0.],\n",
       "        [1., 1., 1.],\n",
       "        [2., 2., 2.]])"
      ]
     },
     "execution_count": 34,
     "metadata": {},
     "output_type": "execute_result"
    }
   ],
   "source": [
    "ai = torch.arange(na, device=targets.device).float().view(na, 1).repeat(1, nt)  # same as .repeat_interleave(nt)\n",
    "ai"
   ]
  },
  {
   "cell_type": "code",
   "execution_count": 35,
   "metadata": {},
   "outputs": [
    {
     "data": {
      "text/plain": [
       "tensor([[[0.00000e+00, 1.00000e+01, 4.66309e-01, 6.19629e-01, 4.50195e-01, 7.02148e-01, 0.00000e+00],\n",
       "         [0.00000e+00, 3.60000e+01, 4.85840e-01, 3.74023e-01, 1.29883e-01, 3.90620e-02, 0.00000e+00],\n",
       "         [0.00000e+00, 3.30000e+01, 4.84863e-01, 2.81738e-01, 1.25977e-01, 2.63670e-02, 0.00000e+00]],\n",
       "\n",
       "        [[0.00000e+00, 1.00000e+01, 4.66309e-01, 6.19629e-01, 4.50195e-01, 7.02148e-01, 1.00000e+00],\n",
       "         [0.00000e+00, 3.60000e+01, 4.85840e-01, 3.74023e-01, 1.29883e-01, 3.90620e-02, 1.00000e+00],\n",
       "         [0.00000e+00, 3.30000e+01, 4.84863e-01, 2.81738e-01, 1.25977e-01, 2.63670e-02, 1.00000e+00]],\n",
       "\n",
       "        [[0.00000e+00, 1.00000e+01, 4.66309e-01, 6.19629e-01, 4.50195e-01, 7.02148e-01, 2.00000e+00],\n",
       "         [0.00000e+00, 3.60000e+01, 4.85840e-01, 3.74023e-01, 1.29883e-01, 3.90620e-02, 2.00000e+00],\n",
       "         [0.00000e+00, 3.30000e+01, 4.84863e-01, 2.81738e-01, 1.25977e-01, 2.63670e-02, 2.00000e+00]]])"
      ]
     },
     "execution_count": 35,
     "metadata": {},
     "output_type": "execute_result"
    }
   ],
   "source": [
    "targets = torch.cat((targets.repeat(na, 1, 1), ai[:, :, None]), 2)  # append anchor indices\n",
    "targets"
   ]
  },
  {
   "cell_type": "code",
   "execution_count": 36,
   "metadata": {},
   "outputs": [],
   "source": [
    "g = 0.5  # bias"
   ]
  },
  {
   "cell_type": "code",
   "execution_count": 38,
   "metadata": {},
   "outputs": [
    {
     "data": {
      "text/plain": [
       "tensor([[ 0.00000,  0.00000],\n",
       "        [ 0.50000,  0.00000],\n",
       "        [ 0.00000,  0.50000],\n",
       "        [-0.50000,  0.00000],\n",
       "        [ 0.00000, -0.50000]])"
      ]
     },
     "execution_count": 38,
     "metadata": {},
     "output_type": "execute_result"
    }
   ],
   "source": [
    "off = torch.tensor([[0, 0],\n",
    "                            [1, 0], [0, 1], [-1, 0], [0, -1],  # j,k,l,m\n",
    "                            # [1, 1], [1, -1], [-1, 1], [-1, -1],  # jk,jm,lk,lm\n",
    "                            ], device=targets.device).float() * g  # offsets\n",
    "off"
   ]
  },
  {
   "cell_type": "code",
   "execution_count": 44,
   "metadata": {},
   "outputs": [],
   "source": [
    "for i in [0]: #range(nl):\n",
    "    anchors_s = anchors[i]\n",
    "    gain[2:6] = torch.tensor(pred[i].shape)[[3, 2, 3, 2]]  # xyxy gain\n"
   ]
  },
  {
   "cell_type": "code",
   "execution_count": 46,
   "metadata": {},
   "outputs": [
    {
     "data": {
      "text/plain": [
       "tensor([[ 2.37500,  3.37500],\n",
       "        [ 5.50000,  5.00000],\n",
       "        [ 4.75000, 11.75000]], device='cuda:0')"
      ]
     },
     "execution_count": 46,
     "metadata": {},
     "output_type": "execute_result"
    }
   ],
   "source": [
    "anchors_s"
   ]
  },
  {
   "cell_type": "code",
   "execution_count": 47,
   "metadata": {},
   "outputs": [
    {
     "data": {
      "text/plain": [
       "tensor([  1,   1, 160, 160, 160, 160,   1])"
      ]
     },
     "execution_count": 47,
     "metadata": {},
     "output_type": "execute_result"
    }
   ],
   "source": [
    "gain"
   ]
  },
  {
   "cell_type": "code",
   "execution_count": 53,
   "metadata": {},
   "outputs": [
    {
     "data": {
      "text/plain": [
       "tensor([[[  0.00000,  10.00000,  74.60941,  99.14064,  72.03123, 112.34368,   0.00000],\n",
       "         [  0.00000,  36.00000,  77.73433,  59.84368,  20.78123,   6.24992,   0.00000],\n",
       "         [  0.00000,  33.00000,  77.57814,  45.07808,  20.15626,   4.21872,   0.00000]],\n",
       "\n",
       "        [[  0.00000,  10.00000,  74.60941,  99.14064,  72.03123, 112.34368,   1.00000],\n",
       "         [  0.00000,  36.00000,  77.73433,  59.84368,  20.78123,   6.24992,   1.00000],\n",
       "         [  0.00000,  33.00000,  77.57814,  45.07808,  20.15626,   4.21872,   1.00000]],\n",
       "\n",
       "        [[  0.00000,  10.00000,  74.60941,  99.14064,  72.03123, 112.34368,   2.00000],\n",
       "         [  0.00000,  36.00000,  77.73433,  59.84368,  20.78123,   6.24992,   2.00000],\n",
       "         [  0.00000,  33.00000,  77.57814,  45.07808,  20.15626,   4.21872,   2.00000]]], device='cuda:0')"
      ]
     },
     "execution_count": 53,
     "metadata": {},
     "output_type": "execute_result"
    }
   ],
   "source": [
    "t = targets * gain\n",
    "t = t.to(device='cuda')\n",
    "t"
   ]
  },
  {
   "cell_type": "code",
   "execution_count": 54,
   "metadata": {},
   "outputs": [
    {
     "data": {
      "text/plain": [
       "tensor([[[30.32894, 33.28702],\n",
       "         [ 8.74999,  1.85183],\n",
       "         [ 8.48685,  1.24999]],\n",
       "\n",
       "        [[13.09659, 22.46874],\n",
       "         [ 3.77840,  1.24998],\n",
       "         [ 3.66477,  0.84374]],\n",
       "\n",
       "        [[15.16447,  9.56116],\n",
       "         [ 4.37500,  0.53191],\n",
       "         [ 4.24342,  0.35904]]], device='cuda:0')"
      ]
     },
     "execution_count": 54,
     "metadata": {},
     "output_type": "execute_result"
    }
   ],
   "source": [
    "r = t[:, :, 4:6] / anchors_s[:, None]  # wh ratio\n",
    "r"
   ]
  },
  {
   "cell_type": "code",
   "execution_count": 60,
   "metadata": {},
   "outputs": [
    {
     "data": {
      "text/plain": [
       "tensor([[False, False, False],\n",
       "        [False,  True,  True],\n",
       "        [False, False, False]], device='cuda:0')"
      ]
     },
     "execution_count": 60,
     "metadata": {},
     "output_type": "execute_result"
    }
   ],
   "source": [
    "j = torch.max(r, 1. / r).max(2)[0] < hyp['anchor_t']\n",
    "j"
   ]
  },
  {
   "cell_type": "code",
   "execution_count": 63,
   "metadata": {},
   "outputs": [
    {
     "data": {
      "text/plain": [
       "tensor([[ 0.00000, 36.00000, 77.73433, 59.84368, 20.78123,  6.24992,  1.00000],\n",
       "        [ 0.00000, 33.00000, 77.57814, 45.07808, 20.15626,  4.21872,  1.00000]], device='cuda:0')"
      ]
     },
     "execution_count": 63,
     "metadata": {},
     "output_type": "execute_result"
    }
   ],
   "source": [
    "t = t[j]\n",
    "t"
   ]
  },
  {
   "cell_type": "code",
   "execution_count": 65,
   "metadata": {},
   "outputs": [
    {
     "data": {
      "text/plain": [
       "tensor([[77.73433, 59.84368],\n",
       "        [77.57814, 45.07808]], device='cuda:0')"
      ]
     },
     "execution_count": 65,
     "metadata": {},
     "output_type": "execute_result"
    }
   ],
   "source": [
    "gxy = t[:, 2:4]\n",
    "gxy"
   ]
  },
  {
   "cell_type": "code",
   "execution_count": 70,
   "metadata": {},
   "outputs": [],
   "source": [
    "gain = gain.to('cuda')\n"
   ]
  },
  {
   "cell_type": "code",
   "execution_count": 71,
   "metadata": {},
   "outputs": [
    {
     "data": {
      "text/plain": [
       "tensor([[ 82.26567, 100.15633],\n",
       "        [ 82.42186, 114.92192]], device='cuda:0')"
      ]
     },
     "execution_count": 71,
     "metadata": {},
     "output_type": "execute_result"
    }
   ],
   "source": [
    "gxi = gain[[2, 3]] - gxy  # inverse\n",
    "gxi"
   ]
  },
  {
   "cell_type": "code",
   "execution_count": 72,
   "metadata": {},
   "outputs": [
    {
     "data": {
      "text/plain": [
       "(tensor([False, False], device='cuda:0'),\n",
       " tensor([False,  True], device='cuda:0'))"
      ]
     },
     "execution_count": 72,
     "metadata": {},
     "output_type": "execute_result"
    }
   ],
   "source": [
    "j, k = ((gxy % 1. < g) & (gxy > 1.)).T\n",
    "j, k"
   ]
  },
  {
   "cell_type": "code",
   "execution_count": 73,
   "metadata": {},
   "outputs": [
    {
     "data": {
      "text/plain": [
       "(tensor([True, True], device='cuda:0'),\n",
       " tensor([ True, False], device='cuda:0'))"
      ]
     },
     "execution_count": 73,
     "metadata": {},
     "output_type": "execute_result"
    }
   ],
   "source": [
    "l, m = ((gxi % 1. < g) & (gxi > 1.)).T\n",
    "l, m"
   ]
  },
  {
   "cell_type": "code",
   "execution_count": 74,
   "metadata": {},
   "outputs": [
    {
     "data": {
      "text/plain": [
       "tensor([[ True,  True],\n",
       "        [False, False],\n",
       "        [False,  True],\n",
       "        [ True,  True],\n",
       "        [ True, False]], device='cuda:0')"
      ]
     },
     "execution_count": 74,
     "metadata": {},
     "output_type": "execute_result"
    }
   ],
   "source": [
    "j = torch.stack((torch.ones_like(j), j, k, l, m))\n",
    "j"
   ]
  },
  {
   "cell_type": "code",
   "execution_count": 75,
   "metadata": {},
   "outputs": [
    {
     "data": {
      "text/plain": [
       "tensor([[ 0.00000, 36.00000, 77.73433, 59.84368, 20.78123,  6.24992,  1.00000],\n",
       "        [ 0.00000, 33.00000, 77.57814, 45.07808, 20.15626,  4.21872,  1.00000],\n",
       "        [ 0.00000, 33.00000, 77.57814, 45.07808, 20.15626,  4.21872,  1.00000],\n",
       "        [ 0.00000, 36.00000, 77.73433, 59.84368, 20.78123,  6.24992,  1.00000],\n",
       "        [ 0.00000, 33.00000, 77.57814, 45.07808, 20.15626,  4.21872,  1.00000],\n",
       "        [ 0.00000, 36.00000, 77.73433, 59.84368, 20.78123,  6.24992,  1.00000]], device='cuda:0')"
      ]
     },
     "execution_count": 75,
     "metadata": {},
     "output_type": "execute_result"
    }
   ],
   "source": [
    "t = t.repeat((5, 1, 1))[j]\n",
    "t"
   ]
  },
  {
   "cell_type": "code",
   "execution_count": 78,
   "metadata": {},
   "outputs": [],
   "source": [
    "off = off.to('cuda')"
   ]
  },
  {
   "cell_type": "code",
   "execution_count": 79,
   "metadata": {},
   "outputs": [
    {
     "data": {
      "text/plain": [
       "tensor([[ 0.00000,  0.00000],\n",
       "        [ 0.00000,  0.00000],\n",
       "        [ 0.00000,  0.50000],\n",
       "        [-0.50000,  0.00000],\n",
       "        [-0.50000,  0.00000],\n",
       "        [ 0.00000, -0.50000]], device='cuda:0')"
      ]
     },
     "execution_count": 79,
     "metadata": {},
     "output_type": "execute_result"
    }
   ],
   "source": [
    "offsets = (torch.zeros_like(gxy)[None] + off[:, None])[j]\n",
    "offsets"
   ]
  },
  {
   "cell_type": "code",
   "execution_count": 80,
   "metadata": {},
   "outputs": [
    {
     "data": {
      "text/plain": [
       "(tensor([0, 0, 0, 0, 0, 0], device='cuda:0'),\n",
       " tensor([36, 33, 33, 36, 33, 36], device='cuda:0'))"
      ]
     },
     "execution_count": 80,
     "metadata": {},
     "output_type": "execute_result"
    }
   ],
   "source": [
    "b, c = t[:, :2].long().T # image, class\n",
    "b, c"
   ]
  },
  {
   "cell_type": "code",
   "execution_count": 81,
   "metadata": {},
   "outputs": [
    {
     "data": {
      "text/plain": [
       "tensor([[ 0.00000, 36.00000, 77.73433, 59.84368, 20.78123,  6.24992,  1.00000],\n",
       "        [ 0.00000, 33.00000, 77.57814, 45.07808, 20.15626,  4.21872,  1.00000],\n",
       "        [ 0.00000, 33.00000, 77.57814, 45.07808, 20.15626,  4.21872,  1.00000],\n",
       "        [ 0.00000, 36.00000, 77.73433, 59.84368, 20.78123,  6.24992,  1.00000],\n",
       "        [ 0.00000, 33.00000, 77.57814, 45.07808, 20.15626,  4.21872,  1.00000],\n",
       "        [ 0.00000, 36.00000, 77.73433, 59.84368, 20.78123,  6.24992,  1.00000]], device='cuda:0')"
      ]
     },
     "execution_count": 81,
     "metadata": {},
     "output_type": "execute_result"
    }
   ],
   "source": [
    "t"
   ]
  },
  {
   "cell_type": "code",
   "execution_count": 82,
   "metadata": {},
   "outputs": [
    {
     "data": {
      "text/plain": [
       "tensor([[77.73433, 59.84368],\n",
       "        [77.57814, 45.07808],\n",
       "        [77.57814, 45.07808],\n",
       "        [77.73433, 59.84368],\n",
       "        [77.57814, 45.07808],\n",
       "        [77.73433, 59.84368]], device='cuda:0')"
      ]
     },
     "execution_count": 82,
     "metadata": {},
     "output_type": "execute_result"
    }
   ],
   "source": [
    "gxy = t[:, 2:4]  # grid xy\n",
    "gxy"
   ]
  },
  {
   "cell_type": "code",
   "execution_count": 84,
   "metadata": {},
   "outputs": [
    {
     "data": {
      "text/plain": [
       "tensor([[20.78123,  6.24992],\n",
       "        [20.15626,  4.21872],\n",
       "        [20.15626,  4.21872],\n",
       "        [20.78123,  6.24992],\n",
       "        [20.15626,  4.21872],\n",
       "        [20.78123,  6.24992]], device='cuda:0')"
      ]
     },
     "execution_count": 84,
     "metadata": {},
     "output_type": "execute_result"
    }
   ],
   "source": [
    "gwh = t[:, 4:6]  # grid wh\n",
    "gwh"
   ]
  },
  {
   "cell_type": "code",
   "execution_count": 85,
   "metadata": {},
   "outputs": [
    {
     "data": {
      "text/plain": [
       "tensor([[77, 59],\n",
       "        [77, 45],\n",
       "        [77, 44],\n",
       "        [78, 59],\n",
       "        [78, 45],\n",
       "        [77, 60]], device='cuda:0')"
      ]
     },
     "execution_count": 85,
     "metadata": {},
     "output_type": "execute_result"
    }
   ],
   "source": [
    "gij = (gxy - offsets).long()\n",
    "gij"
   ]
  },
  {
   "cell_type": "code",
   "execution_count": 86,
   "metadata": {},
   "outputs": [
    {
     "data": {
      "text/plain": [
       "(tensor([77, 77, 77, 78, 78, 77], device='cuda:0'),\n",
       " tensor([59, 45, 44, 59, 45, 60], device='cuda:0'))"
      ]
     },
     "execution_count": 86,
     "metadata": {},
     "output_type": "execute_result"
    }
   ],
   "source": [
    "gi, gj = gij.T  # grid xy indices\n",
    "gi, gj"
   ]
  },
  {
   "cell_type": "code",
   "execution_count": 87,
   "metadata": {},
   "outputs": [
    {
     "data": {
      "text/plain": [
       "tensor([1, 1, 1, 1, 1, 1], device='cuda:0')"
      ]
     },
     "execution_count": 87,
     "metadata": {},
     "output_type": "execute_result"
    }
   ],
   "source": [
    "a = t[:, 6].long()  # anchor indices\n",
    "a"
   ]
  },
  {
   "cell_type": "code",
   "execution_count": 88,
   "metadata": {},
   "outputs": [
    {
     "data": {
      "text/plain": [
       "[(tensor([0, 0, 0, 0, 0, 0], device='cuda:0'),\n",
       "  tensor([1, 1, 1, 1, 1, 1], device='cuda:0'),\n",
       "  tensor([59, 45, 44, 59, 45, 60], device='cuda:0'),\n",
       "  tensor([77, 77, 77, 78, 78, 77], device='cuda:0'))]"
      ]
     },
     "execution_count": 88,
     "metadata": {},
     "output_type": "execute_result"
    }
   ],
   "source": [
    "indices.append((b, a, gj.clamp_(0, gain[3] - 1), gi.clamp_(0, gain[2] - 1)))  # image, anchor, grid indices\n",
    "indices"
   ]
  },
  {
   "cell_type": "code",
   "execution_count": 89,
   "metadata": {},
   "outputs": [
    {
     "data": {
      "text/plain": [
       "tensor(159, device='cuda:0')"
      ]
     },
     "execution_count": 89,
     "metadata": {},
     "output_type": "execute_result"
    }
   ],
   "source": [
    "gain[3] - 1"
   ]
  },
  {
   "cell_type": "code",
   "execution_count": 90,
   "metadata": {},
   "outputs": [
    {
     "data": {
      "text/plain": [
       "[tensor([[[ 6.00000,  4.25000],\n",
       "          [ 5.37500,  9.50000],\n",
       "          [11.25000,  8.56250]],\n",
       " \n",
       "         [[ 6.00000,  4.25000],\n",
       "          [ 5.37500,  9.50000],\n",
       "          [11.25000,  8.56250]],\n",
       " \n",
       "         [[ 6.00000,  4.25000],\n",
       "          [ 5.37500,  9.50000],\n",
       "          [11.25000,  8.56250]],\n",
       " \n",
       "         [[ 6.00000,  4.25000],\n",
       "          [ 5.37500,  9.50000],\n",
       "          [11.25000,  8.56250]],\n",
       " \n",
       "         [[ 6.00000,  4.25000],\n",
       "          [ 5.37500,  9.50000],\n",
       "          [11.25000,  8.56250]],\n",
       " \n",
       "         [[ 6.00000,  4.25000],\n",
       "          [ 5.37500,  9.50000],\n",
       "          [11.25000,  8.56250]]], device='cuda:0')]"
      ]
     },
     "execution_count": 90,
     "metadata": {},
     "output_type": "execute_result"
    }
   ],
   "source": [
    "anch.append(anchors[a])\n",
    "anch"
   ]
  },
  {
   "cell_type": "code",
   "execution_count": 163,
   "metadata": {},
   "outputs": [],
   "source": [
    "pred = torch.load('predict_sample.pt', 'cuda')\n",
    "targets = torch.load('target_sample.pt', 'cuda')\n",
    "imgs = torch.load('imgs_sample.pt', 'cuda')"
   ]
  },
  {
   "cell_type": "code",
   "execution_count": 164,
   "metadata": {},
   "outputs": [],
   "source": [
    "compute_loss_ota = ComputeLossAuxOTA(model)"
   ]
  },
  {
   "cell_type": "code",
   "execution_count": 101,
   "metadata": {},
   "outputs": [],
   "source": [
    "indices, anch = compute_loss_ota.find_3_positive(pred, targets)"
   ]
  },
  {
   "cell_type": "code",
   "execution_count": 104,
   "metadata": {},
   "outputs": [
    {
     "data": {
      "text/plain": [
       "8"
      ]
     },
     "execution_count": 104,
     "metadata": {},
     "output_type": "execute_result"
    }
   ],
   "source": [
    "len(pred)"
   ]
  },
  {
   "cell_type": "code",
   "execution_count": 106,
   "metadata": {},
   "outputs": [
    {
     "data": {
      "text/plain": [
       "torch.Size([1, 3, 160, 160, 51])"
      ]
     },
     "execution_count": 106,
     "metadata": {},
     "output_type": "execute_result"
    }
   ],
   "source": [
    "pred[0].shape"
   ]
  },
  {
   "cell_type": "code",
   "execution_count": 118,
   "metadata": {},
   "outputs": [
    {
     "data": {
      "text/plain": [
       "8"
      ]
     },
     "execution_count": 118,
     "metadata": {},
     "output_type": "execute_result"
    }
   ],
   "source": [
    "nl = len(pred)\n",
    "nl"
   ]
  },
  {
   "cell_type": "code",
   "execution_count": 120,
   "metadata": {},
   "outputs": [
    {
     "data": {
      "text/plain": [
       "1"
      ]
     },
     "execution_count": 120,
     "metadata": {},
     "output_type": "execute_result"
    }
   ],
   "source": [
    "pred[0].shape[0]"
   ]
  },
  {
   "cell_type": "code",
   "execution_count": 125,
   "metadata": {},
   "outputs": [
    {
     "data": {
      "text/plain": [
       "tensor([True, True, True], device='cuda:0')"
      ]
     },
     "execution_count": 125,
     "metadata": {},
     "output_type": "execute_result"
    }
   ],
   "source": [
    "batch_idx = 0\n",
    "b_idx = targets[:, 0]==batch_idx\n",
    "b_idx"
   ]
  },
  {
   "cell_type": "code",
   "execution_count": 127,
   "metadata": {},
   "outputs": [
    {
     "data": {
      "text/plain": [
       "tensor([[0.00000e+00, 1.00000e+01, 4.66309e-01, 6.19629e-01, 4.50195e-01, 7.02148e-01],\n",
       "        [0.00000e+00, 3.60000e+01, 4.85840e-01, 3.74023e-01, 1.29883e-01, 3.90620e-02],\n",
       "        [0.00000e+00, 3.30000e+01, 4.84863e-01, 2.81738e-01, 1.25977e-01, 2.63670e-02]], device='cuda:0')"
      ]
     },
     "execution_count": 127,
     "metadata": {},
     "output_type": "execute_result"
    }
   ],
   "source": [
    "this_target = targets[b_idx]\n",
    "this_target"
   ]
  },
  {
   "cell_type": "code",
   "execution_count": 129,
   "metadata": {},
   "outputs": [
    {
     "data": {
      "text/plain": [
       "tensor([[596.87524, 793.12512, 576.24988, 898.74945],\n",
       "        [621.87463, 478.74942, 166.24982,  49.99939],\n",
       "        [620.62512, 360.62463, 161.25006,  33.74979]], device='cuda:0')"
      ]
     },
     "execution_count": 129,
     "metadata": {},
     "output_type": "execute_result"
    }
   ],
   "source": [
    "txywh = this_target[:, 2:6] * imgs[batch_idx].shape[1]\n",
    "txywh"
   ]
  },
  {
   "cell_type": "code",
   "execution_count": 134,
   "metadata": {},
   "outputs": [],
   "source": [
    "from utils.general import *"
   ]
  },
  {
   "cell_type": "code",
   "execution_count": 136,
   "metadata": {},
   "outputs": [
    {
     "data": {
      "text/plain": [
       "tensor([[ 308.75031,  343.75040,  885.00018, 1242.49988],\n",
       "        [ 538.74976,  453.74973,  704.99951,  503.74911],\n",
       "        [ 540.00012,  343.74976,  701.25012,  377.49951]], device='cuda:0')"
      ]
     },
     "execution_count": 136,
     "metadata": {},
     "output_type": "execute_result"
    }
   ],
   "source": [
    "txyxy = xywh2xyxy(txywh)\n",
    "txyxy"
   ]
  },
  {
   "cell_type": "code",
   "execution_count": 137,
   "metadata": {},
   "outputs": [],
   "source": [
    "pxyxys = []\n",
    "p_cls = []\n",
    "p_obj = []\n",
    "from_which_layer = []\n",
    "all_b = []\n",
    "all_a = []\n",
    "all_gj = []\n",
    "all_gi = []\n",
    "all_anch = []"
   ]
  },
  {
   "cell_type": "code",
   "execution_count": 140,
   "metadata": {},
   "outputs": [
    {
     "name": "stdout",
     "output_type": "stream",
     "text": [
      "torch.Size([1, 3, 160, 160, 51])\n"
     ]
    }
   ],
   "source": [
    "for i, pi in enumerate(pred):\n",
    "    print(pi.shape)\n",
    "    break"
   ]
  },
  {
   "cell_type": "code",
   "execution_count": 142,
   "metadata": {},
   "outputs": [],
   "source": [
    "i = 0\n",
    "pi = pred[i]"
   ]
  },
  {
   "cell_type": "code",
   "execution_count": 144,
   "metadata": {},
   "outputs": [
    {
     "data": {
      "text/plain": [
       "(tensor([0, 0, 0, 0, 0, 0], device='cuda:0'),\n",
       " tensor([1, 1, 1, 1, 1, 1], device='cuda:0'),\n",
       " tensor([59, 45, 44, 59, 45, 60], device='cuda:0'),\n",
       " tensor([77, 77, 77, 78, 78, 77], device='cuda:0'))"
      ]
     },
     "execution_count": 144,
     "metadata": {},
     "output_type": "execute_result"
    }
   ],
   "source": [
    "b, a, gj, gi = indices[i]\n",
    "b, a, gj, gi"
   ]
  },
  {
   "cell_type": "code",
   "execution_count": 145,
   "metadata": {},
   "outputs": [
    {
     "data": {
      "text/plain": [
       "tensor([True, True, True, True, True, True], device='cuda:0')"
      ]
     },
     "execution_count": 145,
     "metadata": {},
     "output_type": "execute_result"
    }
   ],
   "source": [
    "idx = (b == batch_idx)\n",
    "idx"
   ]
  },
  {
   "cell_type": "code",
   "execution_count": 146,
   "metadata": {},
   "outputs": [
    {
     "data": {
      "text/plain": [
       "(tensor([0, 0, 0, 0, 0, 0], device='cuda:0'),\n",
       " tensor([1, 1, 1, 1, 1, 1], device='cuda:0'),\n",
       " tensor([59, 45, 44, 59, 45, 60], device='cuda:0'),\n",
       " tensor([77, 77, 77, 78, 78, 77], device='cuda:0'))"
      ]
     },
     "execution_count": 146,
     "metadata": {},
     "output_type": "execute_result"
    }
   ],
   "source": [
    "b, a, gj, gi = b[idx], a[idx], gj[idx], gi[idx]  \n",
    "b, a, gj, gi"
   ]
  },
  {
   "cell_type": "code",
   "execution_count": 147,
   "metadata": {},
   "outputs": [],
   "source": [
    "all_b.append(b)\n",
    "all_a.append(a)\n",
    "all_gj.append(gj)\n",
    "all_gi.append(gi)\n",
    "all_anch.append(anch[i][idx])\n",
    "from_which_layer.append(torch.ones(size=(len(b),)) * i)"
   ]
  },
  {
   "cell_type": "code",
   "execution_count": 150,
   "metadata": {},
   "outputs": [
    {
     "data": {
      "text/plain": [
       "tensor([[  2.13761,   0.48973,   3.30853,   0.14891,  -0.70374, -13.76682, -10.64700,  -9.48356, -13.73276, -11.71780, -10.81005, -11.87727, -12.77069, -14.79456, -14.29358,  -7.89700, -10.37494, -11.92209, -12.99648, -15.10925, -10.00504, -13.05450, -12.55408, -14.82550,  -5.77114, -12.81433, -13.06496, -12.79646,\n",
       "         -19.86053, -10.71533, -12.70239, -13.43266, -15.22316, -15.48718, -17.07745, -16.00653, -10.76097, -19.62309,  -7.16016,  -7.88379, -14.53186,  -5.66453,   4.06184,  -8.89586,  -6.97873, -10.39764,  -8.66766,  -8.36440, -11.70156,  -4.35818, -10.42244],\n",
       "        [  0.49509,   0.92299,   3.24026,  -0.03214,   1.29311, -12.28018, -10.17651, -12.21355, -12.09506, -12.95349, -10.68085, -11.89508, -11.71753, -12.10306, -12.27209, -11.37167, -10.34070, -12.40659, -11.67981, -12.46490, -13.14636, -11.44711, -13.03693, -14.91957, -12.18048, -11.95442, -13.64162, -12.78745,\n",
       "         -12.01630, -13.83476, -12.82288, -13.81770, -12.65999,  -9.60452, -12.46967, -12.83423,  -9.39584, -14.27989,   9.00613, -13.65976, -12.85034,  -9.95847,  -9.39169, -10.92773, -10.56569, -11.75018, -10.54083, -11.03279,  -9.99244, -11.61630, -11.05123],\n",
       "        [  0.38255,   3.19624,   3.28350,  -0.09493,  -4.00689,  -9.10458,  -7.11833,  -9.98756,  -9.89441,  -9.18675,  -9.53524,  -9.81166,  -9.46075,  -8.88628,  -9.75366,  -7.96529,  -9.19363, -11.29051,  -9.69138,  -9.79385,  -9.49661,  -9.41345, -10.28290, -11.43896,  -9.97414, -10.74043, -10.84842,  -9.48688,\n",
       "          -8.88245,  -9.45522,  -9.81079, -11.77873,  -9.99290,  -7.07330,  -9.69963, -11.21182,  -6.86800, -11.60829,   4.95058, -12.18155,  -9.77051,  -7.66837,  -6.23859,  -9.80081,  -8.21487,  -8.89294,  -9.58722,  -8.41143,  -7.43722,  -8.96494, -10.25017],\n",
       "        [ -0.29528,   0.47824,   3.63392,   0.15244,   1.22274, -14.14508, -11.63155, -10.55875, -14.84161, -12.78305, -11.52498, -13.76482, -14.06281, -16.84357, -15.39697,  -7.81162, -11.70177, -12.81322, -14.68933, -16.48929, -11.33965, -14.22675, -14.95044, -16.08604,  -6.63727, -14.85451, -14.93910, -14.44675,\n",
       "         -22.85980, -11.66702, -13.33923, -14.76279, -16.08910, -16.52789, -18.50281, -16.16968, -11.01517, -22.21944,  -8.12976, -10.63947, -15.36377,  -5.98549,   4.00267,  -9.68129,  -8.84811, -11.65720,  -8.60806,  -8.87755, -12.72534,  -5.30688, -11.42162],\n",
       "        [ -1.88013,   0.76408,   3.14470,  -0.02703,  -0.49261, -11.08383,  -8.70406, -11.37355, -11.17386, -11.58144,  -9.58692, -11.21841, -11.25732, -11.67763, -11.05920,  -9.49347,  -9.98117, -11.74040, -10.24670, -11.32526, -11.91162, -10.55905, -11.80298, -13.54614, -10.57587, -11.06079, -11.91164, -10.67725,\n",
       "         -11.61255, -11.73752, -11.56641, -12.21628, -11.60355,  -8.66083, -10.36301, -11.02148,  -8.33199, -13.22630,   7.24406, -12.44617, -10.86792,  -9.15173,  -8.17441,  -9.86911, -10.07991, -10.76959,  -9.79156,  -9.37360,  -9.45094, -10.19948, -10.42244],\n",
       "        [  1.43947,  -1.51417,   3.35859,   0.15688,  -3.60664, -12.77280,  -9.51434,  -8.36636, -13.03333, -10.39688,  -9.57831, -11.35197, -12.62909, -13.88292, -13.29968,  -7.18413,  -9.39908, -10.90118, -11.75146, -14.20999, -10.10490, -13.05450, -11.66885, -14.75024,  -4.94148, -12.07245, -12.18195, -11.53395,\n",
       "         -18.56277,  -9.78127, -11.91925, -12.49631, -14.02817, -14.83453, -14.71977, -13.96719,  -9.58414, -17.25252,  -7.16016,  -7.71954, -11.59363,  -5.17875,   3.41516,  -8.28971,  -6.78789,  -9.46777,  -7.67148,  -7.61177, -10.28857,  -3.84863,  -9.56108]], device='cuda:0')"
      ]
     },
     "execution_count": 150,
     "metadata": {},
     "output_type": "execute_result"
    }
   ],
   "source": [
    "fg_pred = pi[b, a, gj, gi]\n",
    "fg_pred"
   ]
  },
  {
   "cell_type": "code",
   "execution_count": 151,
   "metadata": {},
   "outputs": [
    {
     "data": {
      "text/plain": [
       "[tensor([[-0.70374],\n",
       "         [ 1.29311],\n",
       "         [-4.00689],\n",
       "         [ 1.22274],\n",
       "         [-0.49261],\n",
       "         [-3.60664]], device='cuda:0')]"
      ]
     },
     "execution_count": 151,
     "metadata": {},
     "output_type": "execute_result"
    }
   ],
   "source": [
    "p_obj.append(fg_pred[:, 4:5])\n",
    "p_obj"
   ]
  },
  {
   "cell_type": "code",
   "execution_count": 153,
   "metadata": {},
   "outputs": [
    {
     "data": {
      "text/plain": [
       "[tensor([[-13.76682, -10.64700,  -9.48356, -13.73276, -11.71780, -10.81005, -11.87727, -12.77069, -14.79456, -14.29358,  -7.89700, -10.37494, -11.92209, -12.99648, -15.10925, -10.00504, -13.05450, -12.55408, -14.82550,  -5.77114, -12.81433, -13.06496, -12.79646, -19.86053, -10.71533, -12.70239, -13.43266, -15.22316,\n",
       "          -15.48718, -17.07745, -16.00653, -10.76097, -19.62309,  -7.16016,  -7.88379, -14.53186,  -5.66453,   4.06184,  -8.89586,  -6.97873, -10.39764,  -8.66766,  -8.36440, -11.70156,  -4.35818, -10.42244],\n",
       "         [-12.28018, -10.17651, -12.21355, -12.09506, -12.95349, -10.68085, -11.89508, -11.71753, -12.10306, -12.27209, -11.37167, -10.34070, -12.40659, -11.67981, -12.46490, -13.14636, -11.44711, -13.03693, -14.91957, -12.18048, -11.95442, -13.64162, -12.78745, -12.01630, -13.83476, -12.82288, -13.81770, -12.65999,\n",
       "           -9.60452, -12.46967, -12.83423,  -9.39584, -14.27989,   9.00613, -13.65976, -12.85034,  -9.95847,  -9.39169, -10.92773, -10.56569, -11.75018, -10.54083, -11.03279,  -9.99244, -11.61630, -11.05123],\n",
       "         [ -9.10458,  -7.11833,  -9.98756,  -9.89441,  -9.18675,  -9.53524,  -9.81166,  -9.46075,  -8.88628,  -9.75366,  -7.96529,  -9.19363, -11.29051,  -9.69138,  -9.79385,  -9.49661,  -9.41345, -10.28290, -11.43896,  -9.97414, -10.74043, -10.84842,  -9.48688,  -8.88245,  -9.45522,  -9.81079, -11.77873,  -9.99290,\n",
       "           -7.07330,  -9.69963, -11.21182,  -6.86800, -11.60829,   4.95058, -12.18155,  -9.77051,  -7.66837,  -6.23859,  -9.80081,  -8.21487,  -8.89294,  -9.58722,  -8.41143,  -7.43722,  -8.96494, -10.25017],\n",
       "         [-14.14508, -11.63155, -10.55875, -14.84161, -12.78305, -11.52498, -13.76482, -14.06281, -16.84357, -15.39697,  -7.81162, -11.70177, -12.81322, -14.68933, -16.48929, -11.33965, -14.22675, -14.95044, -16.08604,  -6.63727, -14.85451, -14.93910, -14.44675, -22.85980, -11.66702, -13.33923, -14.76279, -16.08910,\n",
       "          -16.52789, -18.50281, -16.16968, -11.01517, -22.21944,  -8.12976, -10.63947, -15.36377,  -5.98549,   4.00267,  -9.68129,  -8.84811, -11.65720,  -8.60806,  -8.87755, -12.72534,  -5.30688, -11.42162],\n",
       "         [-11.08383,  -8.70406, -11.37355, -11.17386, -11.58144,  -9.58692, -11.21841, -11.25732, -11.67763, -11.05920,  -9.49347,  -9.98117, -11.74040, -10.24670, -11.32526, -11.91162, -10.55905, -11.80298, -13.54614, -10.57587, -11.06079, -11.91164, -10.67725, -11.61255, -11.73752, -11.56641, -12.21628, -11.60355,\n",
       "           -8.66083, -10.36301, -11.02148,  -8.33199, -13.22630,   7.24406, -12.44617, -10.86792,  -9.15173,  -8.17441,  -9.86911, -10.07991, -10.76959,  -9.79156,  -9.37360,  -9.45094, -10.19948, -10.42244],\n",
       "         [-12.77280,  -9.51434,  -8.36636, -13.03333, -10.39688,  -9.57831, -11.35197, -12.62909, -13.88292, -13.29968,  -7.18413,  -9.39908, -10.90118, -11.75146, -14.20999, -10.10490, -13.05450, -11.66885, -14.75024,  -4.94148, -12.07245, -12.18195, -11.53395, -18.56277,  -9.78127, -11.91925, -12.49631, -14.02817,\n",
       "          -14.83453, -14.71977, -13.96719,  -9.58414, -17.25252,  -7.16016,  -7.71954, -11.59363,  -5.17875,   3.41516,  -8.28971,  -6.78789,  -9.46777,  -7.67148,  -7.61177, -10.28857,  -3.84863,  -9.56108]], device='cuda:0'),\n",
       " tensor([[-13.76682, -10.64700,  -9.48356, -13.73276, -11.71780, -10.81005, -11.87727, -12.77069, -14.79456, -14.29358,  -7.89700, -10.37494, -11.92209, -12.99648, -15.10925, -10.00504, -13.05450, -12.55408, -14.82550,  -5.77114, -12.81433, -13.06496, -12.79646, -19.86053, -10.71533, -12.70239, -13.43266, -15.22316,\n",
       "          -15.48718, -17.07745, -16.00653, -10.76097, -19.62309,  -7.16016,  -7.88379, -14.53186,  -5.66453,   4.06184,  -8.89586,  -6.97873, -10.39764,  -8.66766,  -8.36440, -11.70156,  -4.35818, -10.42244],\n",
       "         [-12.28018, -10.17651, -12.21355, -12.09506, -12.95349, -10.68085, -11.89508, -11.71753, -12.10306, -12.27209, -11.37167, -10.34070, -12.40659, -11.67981, -12.46490, -13.14636, -11.44711, -13.03693, -14.91957, -12.18048, -11.95442, -13.64162, -12.78745, -12.01630, -13.83476, -12.82288, -13.81770, -12.65999,\n",
       "           -9.60452, -12.46967, -12.83423,  -9.39584, -14.27989,   9.00613, -13.65976, -12.85034,  -9.95847,  -9.39169, -10.92773, -10.56569, -11.75018, -10.54083, -11.03279,  -9.99244, -11.61630, -11.05123],\n",
       "         [ -9.10458,  -7.11833,  -9.98756,  -9.89441,  -9.18675,  -9.53524,  -9.81166,  -9.46075,  -8.88628,  -9.75366,  -7.96529,  -9.19363, -11.29051,  -9.69138,  -9.79385,  -9.49661,  -9.41345, -10.28290, -11.43896,  -9.97414, -10.74043, -10.84842,  -9.48688,  -8.88245,  -9.45522,  -9.81079, -11.77873,  -9.99290,\n",
       "           -7.07330,  -9.69963, -11.21182,  -6.86800, -11.60829,   4.95058, -12.18155,  -9.77051,  -7.66837,  -6.23859,  -9.80081,  -8.21487,  -8.89294,  -9.58722,  -8.41143,  -7.43722,  -8.96494, -10.25017],\n",
       "         [-14.14508, -11.63155, -10.55875, -14.84161, -12.78305, -11.52498, -13.76482, -14.06281, -16.84357, -15.39697,  -7.81162, -11.70177, -12.81322, -14.68933, -16.48929, -11.33965, -14.22675, -14.95044, -16.08604,  -6.63727, -14.85451, -14.93910, -14.44675, -22.85980, -11.66702, -13.33923, -14.76279, -16.08910,\n",
       "          -16.52789, -18.50281, -16.16968, -11.01517, -22.21944,  -8.12976, -10.63947, -15.36377,  -5.98549,   4.00267,  -9.68129,  -8.84811, -11.65720,  -8.60806,  -8.87755, -12.72534,  -5.30688, -11.42162],\n",
       "         [-11.08383,  -8.70406, -11.37355, -11.17386, -11.58144,  -9.58692, -11.21841, -11.25732, -11.67763, -11.05920,  -9.49347,  -9.98117, -11.74040, -10.24670, -11.32526, -11.91162, -10.55905, -11.80298, -13.54614, -10.57587, -11.06079, -11.91164, -10.67725, -11.61255, -11.73752, -11.56641, -12.21628, -11.60355,\n",
       "           -8.66083, -10.36301, -11.02148,  -8.33199, -13.22630,   7.24406, -12.44617, -10.86792,  -9.15173,  -8.17441,  -9.86911, -10.07991, -10.76959,  -9.79156,  -9.37360,  -9.45094, -10.19948, -10.42244],\n",
       "         [-12.77280,  -9.51434,  -8.36636, -13.03333, -10.39688,  -9.57831, -11.35197, -12.62909, -13.88292, -13.29968,  -7.18413,  -9.39908, -10.90118, -11.75146, -14.20999, -10.10490, -13.05450, -11.66885, -14.75024,  -4.94148, -12.07245, -12.18195, -11.53395, -18.56277,  -9.78127, -11.91925, -12.49631, -14.02817,\n",
       "          -14.83453, -14.71977, -13.96719,  -9.58414, -17.25252,  -7.16016,  -7.71954, -11.59363,  -5.17875,   3.41516,  -8.28971,  -6.78789,  -9.46777,  -7.67148,  -7.61177, -10.28857,  -3.84863,  -9.56108]], device='cuda:0')]"
      ]
     },
     "execution_count": 153,
     "metadata": {},
     "output_type": "execute_result"
    }
   ],
   "source": [
    "p_cls.append(fg_pred[:, 5:])\n",
    "p_cls"
   ]
  },
  {
   "cell_type": "code",
   "execution_count": 155,
   "metadata": {},
   "outputs": [
    {
     "data": {
      "text/plain": [
       "torch.Size([6, 46])"
      ]
     },
     "execution_count": 155,
     "metadata": {},
     "output_type": "execute_result"
    }
   ],
   "source": [
    "p_cls[0].shape"
   ]
  },
  {
   "cell_type": "code",
   "execution_count": 156,
   "metadata": {},
   "outputs": [
    {
     "data": {
      "text/plain": [
       "tensor([[77, 59],\n",
       "        [77, 45],\n",
       "        [77, 44],\n",
       "        [78, 59],\n",
       "        [78, 45],\n",
       "        [77, 60]], device='cuda:0')"
      ]
     },
     "execution_count": 156,
     "metadata": {},
     "output_type": "execute_result"
    }
   ],
   "source": [
    "grid = torch.stack([gi, gj], dim=1)\n",
    "grid"
   ]
  },
  {
   "cell_type": "code",
   "execution_count": 158,
   "metadata": {},
   "outputs": [
    {
     "data": {
      "text/plain": [
       "tensor([[626.31207, 477.92068],\n",
       "        [621.94086, 367.45044],\n",
       "        [621.51178, 363.37109],\n",
       "        [626.82739, 477.87732],\n",
       "        [622.11798, 366.91583],\n",
       "        [624.93396, 478.88516]], device='cuda:0')"
      ]
     },
     "execution_count": 158,
     "metadata": {},
     "output_type": "execute_result"
    }
   ],
   "source": [
    "pxy = (fg_pred[:, :2].sigmoid() * 2. - 0.5 + grid) * stride[i] #/ 8.\n",
    "pxy"
   ]
  },
  {
   "cell_type": "code",
   "execution_count": 160,
   "metadata": {},
   "outputs": [
    {
     "data": {
      "text/plain": [
       "tensor([[163.80058,  46.16613],\n",
       "        [162.98708,  38.72464],\n",
       "        [163.50804,  36.29567],\n",
       "        [167.05859,  46.31744],\n",
       "        [161.76233,  38.92634],\n",
       "        [164.36638,  46.50768]], device='cuda:0')"
      ]
     },
     "execution_count": 160,
     "metadata": {},
     "output_type": "execute_result"
    }
   ],
   "source": [
    "pwh = (fg_pred[:, 2:4].sigmoid() * 2) ** 2 * anch[i][idx] * stride[i] #/ 8.\n",
    "pwh"
   ]
  },
  {
   "cell_type": "code",
   "execution_count": 161,
   "metadata": {},
   "outputs": [
    {
     "data": {
      "text/plain": [
       "[tensor([[544.41180, 454.83762, 708.21234, 501.00375],\n",
       "         [540.44733, 348.08810, 703.43439, 386.81277],\n",
       "         [539.75775, 345.22327, 703.26581, 381.51892],\n",
       "         [543.29810, 454.71860, 710.35669, 501.03604],\n",
       "         [541.23682, 347.45267, 702.99915, 386.37900],\n",
       "         [542.75079, 455.63132, 707.11713, 502.13901]], device='cuda:0')]"
      ]
     },
     "execution_count": 161,
     "metadata": {},
     "output_type": "execute_result"
    }
   ],
   "source": [
    "pxywh = torch.cat([pxy, pwh], dim=-1)\n",
    "pxyxy = xywh2xyxy(pxywh)\n",
    "pxyxys.append(pxyxy)\n",
    "\n",
    "pxyxys"
   ]
  },
  {
   "cell_type": "code",
   "execution_count": 166,
   "metadata": {},
   "outputs": [
    {
     "data": {
      "text/plain": [
       "([tensor([0, 0, 0, 0], device='cuda:0'),\n",
       "  tensor([0, 0, 0, 0, 0, 0, 0, 0, 0, 0], device='cuda:0'),\n",
       "  tensor([0, 0, 0, 0, 0, 0], device='cuda:0'),\n",
       "  tensor([0, 0, 0, 0, 0, 0, 0, 0], device='cuda:0')],\n",
       " [tensor([1, 1, 1, 1], device='cuda:0'),\n",
       "  tensor([0, 0, 1, 2, 0, 1, 0, 0, 1, 2], device='cuda:0'),\n",
       "  tensor([1, 2, 1, 2, 1, 2], device='cuda:0'),\n",
       "  tensor([0, 1, 2, 0, 1, 2, 0, 1], device='cuda:0')],\n",
       " [tensor([59, 45, 59, 60], device='cuda:0'),\n",
       "  tensor([29, 22, 29, 29, 22, 29, 30, 23, 30, 30], device='cuda:0'),\n",
       "  tensor([24, 24, 24, 24, 25, 25], device='cuda:0'),\n",
       "  tensor([12, 12, 12, 12, 12, 12, 11, 11], device='cuda:0')],\n",
       " [tensor([77, 77, 78, 77], device='cuda:0'),\n",
       "  tensor([38, 38, 38, 38, 39, 39, 38, 38, 38, 38], device='cuda:0'),\n",
       "  tensor([18, 18, 19, 19, 18, 18], device='cuda:0'),\n",
       "  tensor([9, 9, 9, 8, 8, 8, 9, 9], device='cuda:0')],\n",
       " [tensor([[0.00000e+00, 3.60000e+01, 4.85840e-01, 3.74023e-01, 1.29883e-01, 3.90620e-02],\n",
       "          [0.00000e+00, 3.30000e+01, 4.84863e-01, 2.81738e-01, 1.25977e-01, 2.63670e-02],\n",
       "          [0.00000e+00, 3.60000e+01, 4.85840e-01, 3.74023e-01, 1.29883e-01, 3.90620e-02],\n",
       "          [0.00000e+00, 3.60000e+01, 4.85840e-01, 3.74023e-01, 1.29883e-01, 3.90620e-02]], device='cuda:0'),\n",
       "  tensor([[0.00000e+00, 3.60000e+01, 4.85840e-01, 3.74023e-01, 1.29883e-01, 3.90620e-02],\n",
       "          [0.00000e+00, 3.30000e+01, 4.84863e-01, 2.81738e-01, 1.25977e-01, 2.63670e-02],\n",
       "          [0.00000e+00, 3.60000e+01, 4.85840e-01, 3.74023e-01, 1.29883e-01, 3.90620e-02],\n",
       "          [0.00000e+00, 3.60000e+01, 4.85840e-01, 3.74023e-01, 1.29883e-01, 3.90620e-02],\n",
       "          [0.00000e+00, 3.30000e+01, 4.84863e-01, 2.81738e-01, 1.25977e-01, 2.63670e-02],\n",
       "          [0.00000e+00, 3.60000e+01, 4.85840e-01, 3.74023e-01, 1.29883e-01, 3.90620e-02],\n",
       "          [0.00000e+00, 3.60000e+01, 4.85840e-01, 3.74023e-01, 1.29883e-01, 3.90620e-02],\n",
       "          [0.00000e+00, 3.30000e+01, 4.84863e-01, 2.81738e-01, 1.25977e-01, 2.63670e-02],\n",
       "          [0.00000e+00, 3.60000e+01, 4.85840e-01, 3.74023e-01, 1.29883e-01, 3.90620e-02],\n",
       "          [0.00000e+00, 3.60000e+01, 4.85840e-01, 3.74023e-01, 1.29883e-01, 3.90620e-02]], device='cuda:0'),\n",
       "  tensor([[ 0.00000, 10.00000,  0.46631,  0.61963,  0.45020,  0.70215],\n",
       "          [ 0.00000, 10.00000,  0.46631,  0.61963,  0.45020,  0.70215],\n",
       "          [ 0.00000, 10.00000,  0.46631,  0.61963,  0.45020,  0.70215],\n",
       "          [ 0.00000, 10.00000,  0.46631,  0.61963,  0.45020,  0.70215],\n",
       "          [ 0.00000, 10.00000,  0.46631,  0.61963,  0.45020,  0.70215],\n",
       "          [ 0.00000, 10.00000,  0.46631,  0.61963,  0.45020,  0.70215]], device='cuda:0'),\n",
       "  tensor([[ 0.00000, 10.00000,  0.46631,  0.61963,  0.45020,  0.70215],\n",
       "          [ 0.00000, 10.00000,  0.46631,  0.61963,  0.45020,  0.70215],\n",
       "          [ 0.00000, 10.00000,  0.46631,  0.61963,  0.45020,  0.70215],\n",
       "          [ 0.00000, 10.00000,  0.46631,  0.61963,  0.45020,  0.70215],\n",
       "          [ 0.00000, 10.00000,  0.46631,  0.61963,  0.45020,  0.70215],\n",
       "          [ 0.00000, 10.00000,  0.46631,  0.61963,  0.45020,  0.70215],\n",
       "          [ 0.00000, 10.00000,  0.46631,  0.61963,  0.45020,  0.70215],\n",
       "          [ 0.00000, 10.00000,  0.46631,  0.61963,  0.45020,  0.70215]], device='cuda:0')],\n",
       " [tensor([[5.50000, 5.00000],\n",
       "          [5.50000, 5.00000],\n",
       "          [5.50000, 5.00000],\n",
       "          [5.50000, 5.00000]], device='cuda:0'),\n",
       "  tensor([[ 6.00000,  4.25000],\n",
       "          [ 6.00000,  4.25000],\n",
       "          [ 5.37500,  9.50000],\n",
       "          [11.25000,  8.56250],\n",
       "          [ 6.00000,  4.25000],\n",
       "          [ 5.37500,  9.50000],\n",
       "          [ 6.00000,  4.25000],\n",
       "          [ 6.00000,  4.25000],\n",
       "          [ 5.37500,  9.50000],\n",
       "          [11.25000,  8.56250]], device='cuda:0'),\n",
       "  tensor([[ 9.46875,  8.25000],\n",
       "          [ 7.43750, 16.93750],\n",
       "          [ 9.46875,  8.25000],\n",
       "          [ 7.43750, 16.93750],\n",
       "          [ 9.46875,  8.25000],\n",
       "          [ 7.43750, 16.93750]], device='cuda:0'),\n",
       "  tensor([[ 6.81250,  9.60938],\n",
       "          [11.54688,  5.93750],\n",
       "          [14.45312, 12.37500],\n",
       "          [ 6.81250,  9.60938],\n",
       "          [11.54688,  5.93750],\n",
       "          [14.45312, 12.37500],\n",
       "          [ 6.81250,  9.60938],\n",
       "          [11.54688,  5.93750]], device='cuda:0')])"
      ]
     },
     "execution_count": 166,
     "metadata": {},
     "output_type": "execute_result"
    }
   ],
   "source": [
    "compute_loss_ota.build_targets(pred[:4], targets, imgs)"
   ]
  },
  {
   "cell_type": "code",
   "execution_count": 167,
   "metadata": {},
   "outputs": [
    {
     "data": {
      "text/plain": [
       "1.0"
      ]
     },
     "execution_count": 167,
     "metadata": {},
     "output_type": "execute_result"
    }
   ],
   "source": [
    "model.gr"
   ]
  },
  {
   "cell_type": "code",
   "execution_count": null,
   "metadata": {},
   "outputs": [],
   "source": []
  }
 ],
 "metadata": {
  "kernelspec": {
   "display_name": "layoutlmv3",
   "language": "python",
   "name": "python3"
  },
  "language_info": {
   "codemirror_mode": {
    "name": "ipython",
    "version": 3
   },
   "file_extension": ".py",
   "mimetype": "text/x-python",
   "name": "python",
   "nbconvert_exporter": "python",
   "pygments_lexer": "ipython3",
   "version": "3.9.16"
  },
  "orig_nbformat": 4
 },
 "nbformat": 4,
 "nbformat_minor": 2
}
