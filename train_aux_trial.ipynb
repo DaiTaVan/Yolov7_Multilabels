{
 "cells": [
  {
   "cell_type": "code",
   "execution_count": 1,
   "metadata": {},
   "outputs": [],
   "source": [
    "import argparse\n",
    "import logging\n",
    "import math\n",
    "import os\n",
    "import random\n",
    "import time\n",
    "from copy import deepcopy\n",
    "from pathlib import Path\n",
    "from threading import Thread\n",
    "\n",
    "import numpy as np\n",
    "import torch\n",
    "import torch.distributed as dist\n",
    "import torch.nn as nn\n",
    "import torch.nn.functional as F\n",
    "import torch.optim as optim\n",
    "import torch.optim.lr_scheduler as lr_scheduler\n",
    "import torch.utils.data\n",
    "import yaml\n",
    "from torch.cuda import amp\n",
    "from torch.nn.parallel import DistributedDataParallel as DDP\n",
    "from torch.utils.tensorboard import SummaryWriter\n",
    "from tqdm import tqdm\n",
    "\n",
    "import test  # import test.py to get mAP after each epoch\n",
    "from models.experimental import attempt_load\n",
    "from models.yolo import Model\n",
    "from utils.autoanchor import check_anchors\n",
    "from utils.datasets import create_dataloader\n",
    "from utils.general import labels_to_class_weights, increment_path, labels_to_image_weights, init_seeds, \\\n",
    "    fitness, strip_optimizer, get_latest_run, check_dataset, check_file, check_git_status, check_img_size, \\\n",
    "    check_requirements, print_mutation, set_logging, one_cycle, colorstr\n",
    "from utils.google_utils import attempt_download\n",
    "from utils.loss import ComputeLoss, ComputeLossAuxOTA\n",
    "from utils.plots import plot_images, plot_labels, plot_results, plot_evolution\n",
    "from utils.torch_utils import ModelEMA, select_device, intersect_dicts, torch_distributed_zero_first, is_parallel\n",
    "from utils.wandb_logging.wandb_utils import WandbLogger, check_wandb_resume\n",
    "\n",
    "logger = logging.getLogger(__name__)\n",
    "\n",
    "from huggingface_hub import HfApi"
   ]
  },
  {
   "cell_type": "code",
   "execution_count": 2,
   "metadata": {},
   "outputs": [],
   "source": [
    "parser = argparse.ArgumentParser()\n",
    "parser.add_argument('--weights', type=str, default='', help='initial weights path')\n",
    "parser.add_argument('--cfg', type=str, default='cfg/training/image_tagging_training.yaml', help='model.yaml path')\n",
    "parser.add_argument('--data', type=str, default='data/image_tagging_data.yaml', help='data.yaml path')\n",
    "parser.add_argument('--hyp', type=str, default='data/hyp.scratch.custom.yaml', help='hyperparameters path')\n",
    "parser.add_argument('--epochs', type=int, default=10)\n",
    "parser.add_argument('--batch-size', type=int, default=1, help='total batch size for all GPUs')\n",
    "parser.add_argument('--img-size', nargs='+', type=int, default=[1280, 1280], help='[train, test] image sizes')\n",
    "parser.add_argument('--rect', action='store_true', help='rectangular training')\n",
    "parser.add_argument('--resume', nargs='?', const=True, default=False, help='resume most recent training')\n",
    "parser.add_argument('--nosave', action='store_true', help='only save final checkpoint')\n",
    "parser.add_argument('--notest', action='store_true', help='only test final epoch')\n",
    "parser.add_argument('--noautoanchor', action='store_true', help='disable autoanchor check')\n",
    "parser.add_argument('--evolve', action='store_true', help='evolve hyperparameters')\n",
    "parser.add_argument('--bucket', type=str, default='', help='gsutil bucket')\n",
    "parser.add_argument('--cache-images', action='store_true', help='cache images for faster training')\n",
    "parser.add_argument('--image-weights', action='store_true', help='use weighted image selection for training')\n",
    "parser.add_argument('--device', default='0', help='cuda device, i.e. 0 or 0,1,2,3 or cpu')\n",
    "parser.add_argument('--multi-scale', action='store_true', help='vary img-size +/- 50%%')\n",
    "parser.add_argument('--single-cls', action='store_true', help='train multi-class data as single-class')\n",
    "parser.add_argument('--adam', action='store_true', help='use torch.optim.Adam() optimizer')\n",
    "parser.add_argument('--sync-bn', action='store_true', help='use SyncBatchNorm, only available in DDP mode')\n",
    "parser.add_argument('--local_rank', type=int, default=-1, help='DDP parameter, do not modify')\n",
    "parser.add_argument('--workers', type=int, default=8, help='maximum number of dataloader workers')\n",
    "parser.add_argument('--project', default='runs/train', help='save to project/name')\n",
    "parser.add_argument('--entity', default=None, help='W&B entity')\n",
    "parser.add_argument('--name', default='exp', help='save to project/name')\n",
    "parser.add_argument('--exist-ok', action='store_true', help='existing project/name ok, do not increment')\n",
    "parser.add_argument('--quad', action='store_true', help='quad dataloader')\n",
    "parser.add_argument('--linear-lr', action='store_true', help='linear LR')\n",
    "parser.add_argument('--label-smoothing', type=float, default=0.0, help='Label smoothing epsilon')\n",
    "parser.add_argument('--upload_dataset', action='store_true', help='Upload dataset as W&B artifact table')\n",
    "parser.add_argument('--bbox_interval', type=int, default=-1, help='Set bounding-box image logging interval for W&B')\n",
    "parser.add_argument('--save_period', type=int, default=-1, help='Log model after every \"save_period\" epoch')\n",
    "parser.add_argument('--artifact_alias', type=str, default=\"latest\", help='version of dataset artifact to be used')\n",
    "parser.add_argument('--v5-metric', action='store_true', help='assume maximum recall as 1.0 in AP calculation')\n",
    "\n",
    "# to fix bug\n",
    "parser.add_argument(\n",
    "            \"-i\", \"--ip\", help=\"a dummy argument to fool ipython\", default=\"1\")\n",
    "parser.add_argument(\n",
    "    \"-s\", \"--stdin\", help=\"a dummy argument to fool ipython\", default=\"1\")\n",
    "parser.add_argument(\n",
    "    \"-c\", \"--control\", help=\"a dummy argument to fool ipython\", default=\"1\")\n",
    "parser.add_argument(\n",
    "    \"-b\", \"--hb\", help=\"a dummy argument to fool ipython\", default=\"1\")\n",
    "parser.add_argument(\n",
    "    \"-K\", \"--Session.key\", help=\"a dummy argument to fool ipython\", default=\"1\")\n",
    "parser.add_argument(\n",
    "    \"-S\", \"--Session.signature_scheme\", help=\"a dummy argument to fool ipython\", default=\"1\")\n",
    "parser.add_argument(\n",
    "    \"-l\", \"--shell\", help=\"a dummy argument to fool ipython\", default=\"1\")\n",
    "parser.add_argument(\n",
    "    \"-t\", \"--transport\", help=\"a dummy argument to fool ipython\", default=\"1\")\n",
    "parser.add_argument(\n",
    "    \"-o\", \"--iopub\", help=\"a dummy argument to fool ipython\", default=\"1\")\n",
    "parser.add_argument('--f', default = 'runtime_ipynb.json')\n",
    "\n",
    "opt = parser.parse_args()\n",
    "\n",
    "# Set DDP variables\n",
    "opt.world_size = int(os.environ['WORLD_SIZE']) if 'WORLD_SIZE' in os.environ else 1\n",
    "opt.global_rank = int(os.environ['RANK']) if 'RANK' in os.environ else -1\n",
    "set_logging(opt.global_rank)\n",
    "#if opt.global_rank in [-1, 0]:\n",
    "#    check_git_status()\n",
    "#    check_requirements()\n",
    "\n",
    "opt.exist_ok = True"
   ]
  },
  {
   "cell_type": "code",
   "execution_count": 3,
   "metadata": {},
   "outputs": [],
   "source": [
    "wandb_run = check_wandb_resume(opt)\n",
    "if opt.resume and not wandb_run:  # resume an interrupted run\n",
    "    ckpt = opt.resume if isinstance(opt.resume, str) else get_latest_run()  # specified or most recent path\n",
    "    assert os.path.isfile(ckpt), 'ERROR: --resume checkpoint does not exist'\n",
    "    apriori = opt.global_rank, opt.local_rank\n",
    "    with open(Path(ckpt).parent.parent / 'opt.yaml') as f:\n",
    "        opt = argparse.Namespace(**yaml.load(f, Loader=yaml.SafeLoader))  # replace\n",
    "    opt.cfg, opt.weights, opt.resume, opt.batch_size, opt.global_rank, opt.local_rank = '', ckpt, True, opt.total_batch_size, *apriori  # reinstate\n",
    "    logger.info('Resuming training from %s' % ckpt)\n",
    "else:\n",
    "    # opt.hyp = opt.hyp or ('hyp.finetune.yaml' if opt.weights else 'hyp.scratch.yaml')\n",
    "    opt.data, opt.cfg, opt.hyp = check_file(opt.data), check_file(opt.cfg), check_file(opt.hyp)  # check files\n",
    "    assert len(opt.cfg) or len(opt.weights), 'either --cfg or --weights must be specified'\n",
    "    opt.img_size.extend([opt.img_size[-1]] * (2 - len(opt.img_size)))  # extend to 2 sizes (train, test)\n",
    "    opt.name = 'evolve' if opt.evolve else opt.name\n",
    "    opt.save_dir = increment_path(Path(opt.project) / opt.name, exist_ok=opt.exist_ok | opt.evolve)  # increment run"
   ]
  },
  {
   "cell_type": "code",
   "execution_count": 4,
   "metadata": {},
   "outputs": [
    {
     "name": "stderr",
     "output_type": "stream",
     "text": [
      "YOLOR 🚀 2023-5-8 torch 1.10.0+cu111 CUDA:0 (NVIDIA GeForce GTX 1650, 3912.0MB)\n",
      "\n"
     ]
    }
   ],
   "source": [
    "# DDP mode\n",
    "opt.total_batch_size = opt.batch_size\n",
    "device = select_device(opt.device, batch_size=opt.batch_size)\n",
    "if opt.local_rank != -1:\n",
    "    assert torch.cuda.device_count() > opt.local_rank\n",
    "    torch.cuda.set_device(opt.local_rank)\n",
    "    device = torch.device('cuda', opt.local_rank)\n",
    "    dist.init_process_group(backend='nccl', init_method='env://')  # distributed backend\n",
    "    assert opt.batch_size % opt.world_size == 0, '--batch-size must be multiple of CUDA device count'\n",
    "    opt.batch_size = opt.total_batch_size // opt.world_size\n"
   ]
  },
  {
   "cell_type": "code",
   "execution_count": 5,
   "metadata": {},
   "outputs": [],
   "source": [
    "# Hyperparameters\n",
    "with open(opt.hyp) as f:\n",
    "    hyp = yaml.load(f, Loader=yaml.SafeLoader)  # load hyps"
   ]
  },
  {
   "cell_type": "code",
   "execution_count": 6,
   "metadata": {},
   "outputs": [
    {
     "name": "stderr",
     "output_type": "stream",
     "text": [
      "Namespace(weights='', cfg='cfg/training/image_tagging_training.yaml', data='data/image_tagging_data.yaml', hyp='data/hyp.scratch.custom.yaml', epochs=10, batch_size=1, img_size=[1280, 1280], rect=False, resume=False, nosave=False, notest=False, noautoanchor=False, evolve=False, bucket='', cache_images=False, image_weights=False, device='0', multi_scale=False, single_cls=False, adam=False, sync_bn=False, local_rank=-1, workers=8, project='runs/train', entity=None, name='exp', exist_ok=True, quad=False, linear_lr=False, label_smoothing=0.0, upload_dataset=False, bbox_interval=-1, save_period=-1, artifact_alias='latest', v5_metric=False, ip='127.0.0.1', stdin='9013', control='9011', hb='9010', shell='9012', transport='\"tcp\"', iopub='9014', f='/home/tavandai/.local/share/jupyter/runtime/kernel-v2-4526wWn1YE5jbFNi.json', world_size=1, global_rank=-1, save_dir='runs/train/exp', total_batch_size=1, **{'Session.key': 'b\"1de07427-23ef-44c6-8ba0-5669f4d5cf17\"', 'Session.signature_scheme': '\"hmac-sha256\"'})\n",
      "\u001b[34m\u001b[1mtensorboard: \u001b[0mStart with 'tensorboard --logdir runs/train', view at http://localhost:6006/\n"
     ]
    }
   ],
   "source": [
    "# Train\n",
    "logger.info(opt)\n",
    "if not opt.evolve:\n",
    "    tb_writer = None  # init loggers\n",
    "    if opt.global_rank in [-1, 0]:\n",
    "        prefix = colorstr('tensorboard: ')\n",
    "        logger.info(f\"{prefix}Start with 'tensorboard --logdir {opt.project}', view at http://localhost:6006/\")\n",
    "        tb_writer = SummaryWriter(opt.save_dir)  # Tensorboard\n",
    "    # train(hyp, opt, device, tb_writer)"
   ]
  },
  {
   "cell_type": "code",
   "execution_count": 7,
   "metadata": {},
   "outputs": [
    {
     "name": "stderr",
     "output_type": "stream",
     "text": [
      "\u001b[34m\u001b[1mhyperparameters: \u001b[0mlr0=0.01, lrf=0.1, momentum=0.937, weight_decay=0.0005, warmup_epochs=3.0, warmup_momentum=0.8, warmup_bias_lr=0.1, box=0.05, cls=0.3, cls_pw=1.0, obj=0.7, obj_pw=1.0, iou_t=0.2, anchor_t=4.0, fl_gamma=0.0, hsv_h=0.015, hsv_s=0.7, hsv_v=0.4, degrees=0.0, translate=0.2, scale=0.5, shear=0.0, perspective=0.0, flipud=0.0, fliplr=0.5, mosaic=1.0, mixup=0.0, copy_paste=0.0, paste_in=0.0, loss_ota=1\n"
     ]
    }
   ],
   "source": [
    "api = HfApi()\n",
    "\n",
    "logger.info(colorstr('hyperparameters: ') + ', '.join(f'{k}={v}' for k, v in hyp.items()))\n",
    "save_dir, epochs, batch_size, total_batch_size, weights, rank = \\\n",
    "    Path(opt.save_dir), opt.epochs, opt.batch_size, opt.total_batch_size, opt.weights, opt.global_rank\n"
   ]
  },
  {
   "cell_type": "code",
   "execution_count": 8,
   "metadata": {},
   "outputs": [],
   "source": [
    "# Directories\n",
    "wdir = save_dir / 'weights'\n",
    "wdir.mkdir(parents=True, exist_ok=True)  # make dir\n",
    "last = wdir / 'last.pt'\n",
    "best = wdir / 'best.pt'\n",
    "results_file = save_dir / 'results.txt'"
   ]
  },
  {
   "cell_type": "code",
   "execution_count": 9,
   "metadata": {},
   "outputs": [],
   "source": [
    "with open(save_dir / 'hyp.yaml', 'w') as f:\n",
    "    yaml.dump(hyp, f, sort_keys=False)\n",
    "with open(save_dir / 'opt.yaml', 'w') as f:\n",
    "    yaml.dump(vars(opt), f, sort_keys=False)\n"
   ]
  },
  {
   "cell_type": "code",
   "execution_count": 10,
   "metadata": {},
   "outputs": [
    {
     "name": "stdout",
     "output_type": "stream",
     "text": [
      "\u001b[34m\u001b[1mwandb: \u001b[0mInstall Weights & Biases for YOLOR logging with 'pip install wandb' (recommended)\n"
     ]
    }
   ],
   "source": [
    "# Configure\n",
    "plots = not opt.evolve  # create plots\n",
    "cuda = device.type != 'cpu'\n",
    "init_seeds(2 + rank)\n",
    "with open(opt.data) as f:\n",
    "    data_dict = yaml.load(f, Loader=yaml.SafeLoader)  # data dict\n",
    "is_coco = opt.data.endswith('coco.yaml')\n",
    "\n",
    "# Logging- Doing this before checking the dataset. Might update data_dict\n",
    "loggers = {'wandb': None}  # loggers dict\n",
    "if rank in [-1, 0]:\n",
    "    opt.hyp = hyp  # add hyperparameters\n",
    "    run_id = torch.load(weights).get('wandb_id') if weights.endswith('.pt') and os.path.isfile(weights) else None\n",
    "    wandb_logger = WandbLogger(opt, Path(opt.save_dir).stem, run_id, data_dict)\n",
    "    loggers['wandb'] = wandb_logger.wandb\n",
    "    data_dict = wandb_logger.data_dict\n",
    "    if wandb_logger.wandb:\n",
    "        weights, epochs, hyp = opt.weights, opt.epochs, opt.hyp  # WandbLogger might update weights, epochs if resuming\n",
    "\n",
    "nc = 1 if opt.single_cls else int(data_dict['nc'])  # number of classes\n",
    "names = ['item'] if opt.single_cls and len(data_dict['names']) != 1 else data_dict['names']  # class names\n",
    "assert len(names) == nc, '%g names found for nc=%g dataset in %s' % (len(names), nc, opt.data)  # check\n"
   ]
  },
  {
   "cell_type": "code",
   "execution_count": 11,
   "metadata": {},
   "outputs": [
    {
     "name": "stderr",
     "output_type": "stream",
     "text": [
      "\n",
      "                 from  n    params  module                                  arguments                     \n",
      "  0                -1  1         0  models.common.ReOrg                     []                            \n",
      "  1                -1  1      7040  models.common.Conv                      [12, 64, 3, 1]                \n",
      "  2                -1  1     73984  models.common.Conv                      [64, 128, 3, 2]               \n",
      "  3                -1  1      8320  models.common.Conv                      [128, 64, 1, 1]               \n",
      "  4                -2  1      8320  models.common.Conv                      [128, 64, 1, 1]               \n",
      "  5                -1  1     36992  models.common.Conv                      [64, 64, 3, 1]                \n",
      "  6                -1  1     36992  models.common.Conv                      [64, 64, 3, 1]                \n",
      "  7                -1  1     36992  models.common.Conv                      [64, 64, 3, 1]                \n",
      "  8                -1  1     36992  models.common.Conv                      [64, 64, 3, 1]                \n",
      "  9  [-1, -3, -5, -6]  1         0  models.common.Concat                    [1]                           \n",
      " 10                -1  1     33024  models.common.Conv                      [256, 128, 1, 1]              \n",
      " 11                -1  1    295424  models.common.Conv                      [128, 256, 3, 2]              \n",
      " 12                -1  1     33024  models.common.Conv                      [256, 128, 1, 1]              \n",
      " 13                -2  1     33024  models.common.Conv                      [256, 128, 1, 1]              \n",
      " 14                -1  1    147712  models.common.Conv                      [128, 128, 3, 1]              \n",
      " 15                -1  1    147712  models.common.Conv                      [128, 128, 3, 1]              \n",
      " 16                -1  1    147712  models.common.Conv                      [128, 128, 3, 1]              \n",
      " 17                -1  1    147712  models.common.Conv                      [128, 128, 3, 1]              \n",
      " 18  [-1, -3, -5, -6]  1         0  models.common.Concat                    [1]                           \n",
      " 19                -1  1    131584  models.common.Conv                      [512, 256, 1, 1]              \n",
      " 20                -1  1   1180672  models.common.Conv                      [256, 512, 3, 2]              \n",
      " 21                -1  1    131584  models.common.Conv                      [512, 256, 1, 1]              \n",
      " 22                -2  1    131584  models.common.Conv                      [512, 256, 1, 1]              \n",
      " 23                -1  1    590336  models.common.Conv                      [256, 256, 3, 1]              \n",
      " 24                -1  1    590336  models.common.Conv                      [256, 256, 3, 1]              \n",
      " 25                -1  1    590336  models.common.Conv                      [256, 256, 3, 1]              \n",
      " 26                -1  1    590336  models.common.Conv                      [256, 256, 3, 1]              \n",
      " 27  [-1, -3, -5, -6]  1         0  models.common.Concat                    [1]                           \n",
      " 28                -1  1    525312  models.common.Conv                      [1024, 512, 1, 1]             \n",
      " 29                -1  1   3540480  models.common.Conv                      [512, 768, 3, 2]              \n",
      " 30                -1  1    295680  models.common.Conv                      [768, 384, 1, 1]              \n",
      " 31                -2  1    295680  models.common.Conv                      [768, 384, 1, 1]              \n",
      " 32                -1  1   1327872  models.common.Conv                      [384, 384, 3, 1]              \n",
      " 33                -1  1   1327872  models.common.Conv                      [384, 384, 3, 1]              \n",
      " 34                -1  1   1327872  models.common.Conv                      [384, 384, 3, 1]              \n",
      " 35                -1  1   1327872  models.common.Conv                      [384, 384, 3, 1]              \n",
      " 36  [-1, -3, -5, -6]  1         0  models.common.Concat                    [1]                           \n",
      " 37                -1  1   1181184  models.common.Conv                      [1536, 768, 1, 1]             \n",
      " 38                -1  1   7079936  models.common.Conv                      [768, 1024, 3, 2]             \n",
      " 39                -1  1    525312  models.common.Conv                      [1024, 512, 1, 1]             \n",
      " 40                -2  1    525312  models.common.Conv                      [1024, 512, 1, 1]             \n",
      " 41                -1  1   2360320  models.common.Conv                      [512, 512, 3, 1]              \n",
      " 42                -1  1   2360320  models.common.Conv                      [512, 512, 3, 1]              \n",
      " 43                -1  1   2360320  models.common.Conv                      [512, 512, 3, 1]              \n",
      " 44                -1  1   2360320  models.common.Conv                      [512, 512, 3, 1]              \n",
      " 45  [-1, -3, -5, -6]  1         0  models.common.Concat                    [1]                           \n",
      " 46                -1  1   2099200  models.common.Conv                      [2048, 1024, 1, 1]            \n",
      " 47                -1  1   7609344  models.common.SPPCSPC                   [1024, 512, 1]                \n",
      " 48                -1  1    197376  models.common.Conv                      [512, 384, 1, 1]              \n",
      " 49                -1  1         0  torch.nn.modules.upsampling.Upsample    [None, 2, 'nearest']          \n",
      " 50                37  1    295680  models.common.Conv                      [768, 384, 1, 1]              \n",
      " 51          [-1, -2]  1         0  models.common.Concat                    [1]                           \n",
      " 52                -1  1    295680  models.common.Conv                      [768, 384, 1, 1]              \n",
      " 53                -2  1    295680  models.common.Conv                      [768, 384, 1, 1]              \n",
      " 54                -1  1    663936  models.common.Conv                      [384, 192, 3, 1]              \n",
      " 55                -1  1    332160  models.common.Conv                      [192, 192, 3, 1]              \n",
      " 56                -1  1    332160  models.common.Conv                      [192, 192, 3, 1]              \n",
      " 57                -1  1    332160  models.common.Conv                      [192, 192, 3, 1]              \n",
      " 58[-1, -2, -3, -4, -5, -6]  1         0  models.common.Concat                    [1]                           \n",
      " 59                -1  1    590592  models.common.Conv                      [1536, 384, 1, 1]             \n",
      " 60                -1  1     98816  models.common.Conv                      [384, 256, 1, 1]              \n",
      " 61                -1  1         0  torch.nn.modules.upsampling.Upsample    [None, 2, 'nearest']          \n",
      " 62                28  1    131584  models.common.Conv                      [512, 256, 1, 1]              \n",
      " 63          [-1, -2]  1         0  models.common.Concat                    [1]                           \n",
      " 64                -1  1    131584  models.common.Conv                      [512, 256, 1, 1]              \n",
      " 65                -2  1    131584  models.common.Conv                      [512, 256, 1, 1]              \n",
      " 66                -1  1    295168  models.common.Conv                      [256, 128, 3, 1]              \n",
      " 67                -1  1    147712  models.common.Conv                      [128, 128, 3, 1]              \n",
      " 68                -1  1    147712  models.common.Conv                      [128, 128, 3, 1]              \n",
      " 69                -1  1    147712  models.common.Conv                      [128, 128, 3, 1]              \n",
      " 70[-1, -2, -3, -4, -5, -6]  1         0  models.common.Concat                    [1]                           \n",
      " 71                -1  1    262656  models.common.Conv                      [1024, 256, 1, 1]             \n",
      " 72                -1  1     33024  models.common.Conv                      [256, 128, 1, 1]              \n",
      " 73                -1  1         0  torch.nn.modules.upsampling.Upsample    [None, 2, 'nearest']          \n",
      " 74                19  1     33024  models.common.Conv                      [256, 128, 1, 1]              \n",
      " 75          [-1, -2]  1         0  models.common.Concat                    [1]                           \n",
      " 76                -1  1     33024  models.common.Conv                      [256, 128, 1, 1]              \n",
      " 77                -2  1     33024  models.common.Conv                      [256, 128, 1, 1]              \n",
      " 78                -1  1     73856  models.common.Conv                      [128, 64, 3, 1]               \n",
      " 79                -1  1     36992  models.common.Conv                      [64, 64, 3, 1]                \n",
      " 80                -1  1     36992  models.common.Conv                      [64, 64, 3, 1]                \n",
      " 81                -1  1     36992  models.common.Conv                      [64, 64, 3, 1]                \n",
      " 82[-1, -2, -3, -4, -5, -6]  1         0  models.common.Concat                    [1]                           \n",
      " 83                -1  1     65792  models.common.Conv                      [512, 128, 1, 1]              \n",
      " 84                -1  1    295424  models.common.Conv                      [128, 256, 3, 2]              \n",
      " 85          [-1, 71]  1         0  models.common.Concat                    [1]                           \n",
      " 86                -1  1    131584  models.common.Conv                      [512, 256, 1, 1]              \n",
      " 87                -2  1    131584  models.common.Conv                      [512, 256, 1, 1]              \n",
      " 88                -1  1    295168  models.common.Conv                      [256, 128, 3, 1]              \n",
      " 89                -1  1    147712  models.common.Conv                      [128, 128, 3, 1]              \n",
      " 90                -1  1    147712  models.common.Conv                      [128, 128, 3, 1]              \n",
      " 91                -1  1    147712  models.common.Conv                      [128, 128, 3, 1]              \n",
      " 92[-1, -2, -3, -4, -5, -6]  1         0  models.common.Concat                    [1]                           \n",
      " 93                -1  1    262656  models.common.Conv                      [1024, 256, 1, 1]             \n",
      " 94                -1  1    885504  models.common.Conv                      [256, 384, 3, 2]              \n",
      " 95          [-1, 59]  1         0  models.common.Concat                    [1]                           \n",
      " 96                -1  1    295680  models.common.Conv                      [768, 384, 1, 1]              \n",
      " 97                -2  1    295680  models.common.Conv                      [768, 384, 1, 1]              \n",
      " 98                -1  1    663936  models.common.Conv                      [384, 192, 3, 1]              \n",
      " 99                -1  1    332160  models.common.Conv                      [192, 192, 3, 1]              \n",
      "100                -1  1    332160  models.common.Conv                      [192, 192, 3, 1]              \n",
      "101                -1  1    332160  models.common.Conv                      [192, 192, 3, 1]              \n",
      "102[-1, -2, -3, -4, -5, -6]  1         0  models.common.Concat                    [1]                           \n",
      "103                -1  1    590592  models.common.Conv                      [1536, 384, 1, 1]             \n",
      "104                -1  1   1770496  models.common.Conv                      [384, 512, 3, 2]              \n",
      "105          [-1, 47]  1         0  models.common.Concat                    [1]                           \n",
      "106                -1  1    525312  models.common.Conv                      [1024, 512, 1, 1]             \n",
      "107                -2  1    525312  models.common.Conv                      [1024, 512, 1, 1]             \n",
      "108                -1  1   1180160  models.common.Conv                      [512, 256, 3, 1]              \n",
      "109                -1  1    590336  models.common.Conv                      [256, 256, 3, 1]              \n",
      "110                -1  1    590336  models.common.Conv                      [256, 256, 3, 1]              \n",
      "111                -1  1    590336  models.common.Conv                      [256, 256, 3, 1]              \n",
      "112[-1, -2, -3, -4, -5, -6]  1         0  models.common.Concat                    [1]                           \n",
      "113                -1  1   1049600  models.common.Conv                      [2048, 512, 1, 1]             \n",
      "114                83  1    295424  models.common.Conv                      [128, 256, 3, 1]              \n",
      "115                93  1   1180672  models.common.Conv                      [256, 512, 3, 1]              \n",
      "116               103  1   2655744  models.common.Conv                      [384, 768, 3, 1]              \n",
      "117               113  1   4720640  models.common.Conv                      [512, 1024, 3, 1]             \n",
      "118                83  1    369280  models.common.Conv                      [128, 320, 3, 1]              \n",
      "119                71  1   1475840  models.common.Conv                      [256, 640, 3, 1]              \n",
      "120                59  1   3319680  models.common.Conv                      [384, 960, 3, 1]              \n",
      "121                47  1   5900800  models.common.Conv                      [512, 1280, 3, 1]             \n",
      "122[114, 115, 116, 117, 118, 119, 120, 121]  1   4037188  models.yolo.IAuxDetect                  [228, [[19, 27, 44, 40, 38, 94], [96, 68, 86, 152, 180, 137], [140, 301, 303, 264, 238, 542], [436, 615, 739, 380, 925, 792]], [256, 512, 768, 1024, 320, 640, 960, 1280]]\n",
      "/home/tavandai/anaconda3/envs/layoutlmv3/lib/python3.9/site-packages/torch/functional.py:445: UserWarning: torch.meshgrid: in an upcoming release, it will be required to pass the indexing argument. (Triggered internally at  ../aten/src/ATen/native/TensorShape.cpp:2157.)\n",
      "  return _VF.meshgrid(tensors, **kwargs)  # type: ignore[attr-defined]\n",
      "Model Summary: 477 layers, 84875204 parameters, 84875204 gradients, 111.2 GFLOPS\n",
      "\n"
     ]
    }
   ],
   "source": [
    "pretrained = weights.endswith('.pt')\n",
    "if pretrained:\n",
    "    with torch_distributed_zero_first(rank):\n",
    "        attempt_download(weights)  # download if not found locally\n",
    "    ckpt = torch.load(weights, map_location=device)  # load checkpoint\n",
    "    model = Model(opt.cfg or ckpt['model'].yaml, ch=3, nc=nc, anchors=hyp.get('anchors')).to(device)  # create\n",
    "    exclude = ['anchor'] if (opt.cfg or hyp.get('anchors')) and not opt.resume else []  # exclude keys\n",
    "    state_dict = ckpt['model'].float().state_dict()  # to FP32\n",
    "    state_dict = intersect_dicts(state_dict, model.state_dict(), exclude=exclude)  # intersect\n",
    "    model.load_state_dict(state_dict, strict=False)  # load\n",
    "    logger.info('Transferred %g/%g items from %s' % (len(state_dict), len(model.state_dict()), weights))  # report\n",
    "else:\n",
    "    model = Model(opt.cfg, ch=3, nc=nc, anchors=hyp.get('anchors')).to(device)  # create"
   ]
  },
  {
   "cell_type": "code",
   "execution_count": 12,
   "metadata": {},
   "outputs": [],
   "source": [
    "with torch_distributed_zero_first(rank):\n",
    "    check_dataset(data_dict)  # check\n",
    "train_path = data_dict['train']\n",
    "test_path = data_dict['val']"
   ]
  },
  {
   "cell_type": "code",
   "execution_count": 13,
   "metadata": {},
   "outputs": [],
   "source": [
    "# Freeze\n",
    "freeze = []  # parameter names to freeze (full or partial)\n",
    "for k, v in model.named_parameters():\n",
    "    v.requires_grad = True  # train all layers\n",
    "    if any(x in k for x in freeze):\n",
    "        print('freezing %s' % k)\n",
    "        v.requires_grad = False\n"
   ]
  },
  {
   "cell_type": "code",
   "execution_count": 14,
   "metadata": {},
   "outputs": [
    {
     "name": "stderr",
     "output_type": "stream",
     "text": [
      "Scaled weight_decay = 0.0005\n",
      "Optimizer groups: 115 .bias, 115 conv.weight, 115 other\n"
     ]
    }
   ],
   "source": [
    "# Optimizer\n",
    "nbs = 64  # nominal batch size\n",
    "accumulate = max(round(nbs / total_batch_size), 1)  # accumulate loss before optimizing\n",
    "hyp['weight_decay'] *= total_batch_size * accumulate / nbs  # scale weight_decay\n",
    "logger.info(f\"Scaled weight_decay = {hyp['weight_decay']}\")\n",
    "\n",
    "pg0, pg1, pg2 = [], [], []  # optimizer parameter groups\n",
    "for k, v in model.named_modules():\n",
    "    if hasattr(v, 'bias') and isinstance(v.bias, nn.Parameter):\n",
    "        pg2.append(v.bias)  # biases\n",
    "    if isinstance(v, nn.BatchNorm2d):\n",
    "        pg0.append(v.weight)  # no decay\n",
    "    elif hasattr(v, 'weight') and isinstance(v.weight, nn.Parameter):\n",
    "        pg1.append(v.weight)  # apply decay\n",
    "    if hasattr(v, 'im'):\n",
    "        if hasattr(v.im, 'implicit'):           \n",
    "            pg0.append(v.im.implicit)\n",
    "        else:\n",
    "            for iv in v.im:\n",
    "                pg0.append(iv.implicit)\n",
    "    if hasattr(v, 'imc'):\n",
    "        if hasattr(v.imc, 'implicit'):           \n",
    "            pg0.append(v.imc.implicit)\n",
    "        else:\n",
    "            for iv in v.imc:\n",
    "                pg0.append(iv.implicit)\n",
    "    if hasattr(v, 'imb'):\n",
    "        if hasattr(v.imb, 'implicit'):           \n",
    "            pg0.append(v.imb.implicit)\n",
    "        else:\n",
    "            for iv in v.imb:\n",
    "                pg0.append(iv.implicit)\n",
    "    if hasattr(v, 'imo'):\n",
    "        if hasattr(v.imo, 'implicit'):           \n",
    "            pg0.append(v.imo.implicit)\n",
    "        else:\n",
    "            for iv in v.imo:\n",
    "                pg0.append(iv.implicit)\n",
    "    if hasattr(v, 'ia'):\n",
    "        if hasattr(v.ia, 'implicit'):           \n",
    "            pg0.append(v.ia.implicit)\n",
    "        else:\n",
    "            for iv in v.ia:\n",
    "                pg0.append(iv.implicit)\n",
    "    if hasattr(v, 'attn'):\n",
    "        if hasattr(v.attn, 'logit_scale'):   \n",
    "            pg0.append(v.attn.logit_scale)\n",
    "        if hasattr(v.attn, 'q_bias'):   \n",
    "            pg0.append(v.attn.q_bias)\n",
    "        if hasattr(v.attn, 'v_bias'):  \n",
    "            pg0.append(v.attn.v_bias)\n",
    "        if hasattr(v.attn, 'relative_position_bias_table'):  \n",
    "            pg0.append(v.attn.relative_position_bias_table)\n",
    "    if hasattr(v, 'rbr_dense'):\n",
    "        if hasattr(v.rbr_dense, 'weight_rbr_origin'):  \n",
    "            pg0.append(v.rbr_dense.weight_rbr_origin)\n",
    "        if hasattr(v.rbr_dense, 'weight_rbr_avg_conv'): \n",
    "            pg0.append(v.rbr_dense.weight_rbr_avg_conv)\n",
    "        if hasattr(v.rbr_dense, 'weight_rbr_pfir_conv'):  \n",
    "            pg0.append(v.rbr_dense.weight_rbr_pfir_conv)\n",
    "        if hasattr(v.rbr_dense, 'weight_rbr_1x1_kxk_idconv1'): \n",
    "            pg0.append(v.rbr_dense.weight_rbr_1x1_kxk_idconv1)\n",
    "        if hasattr(v.rbr_dense, 'weight_rbr_1x1_kxk_conv2'):   \n",
    "            pg0.append(v.rbr_dense.weight_rbr_1x1_kxk_conv2)\n",
    "        if hasattr(v.rbr_dense, 'weight_rbr_gconv_dw'):   \n",
    "            pg0.append(v.rbr_dense.weight_rbr_gconv_dw)\n",
    "        if hasattr(v.rbr_dense, 'weight_rbr_gconv_pw'):   \n",
    "            pg0.append(v.rbr_dense.weight_rbr_gconv_pw)\n",
    "        if hasattr(v.rbr_dense, 'vector'):   \n",
    "            pg0.append(v.rbr_dense.vector)\n",
    "\n",
    "if opt.adam:\n",
    "    optimizer = optim.Adam(pg0, lr=hyp['lr0'], betas=(hyp['momentum'], 0.999))  # adjust beta1 to momentum\n",
    "else:\n",
    "    optimizer = optim.SGD(pg0, lr=hyp['lr0'], momentum=hyp['momentum'], nesterov=True)\n",
    "\n",
    "optimizer.add_param_group({'params': pg1, 'weight_decay': hyp['weight_decay']})  # add pg1 with weight_decay\n",
    "optimizer.add_param_group({'params': pg2})  # add pg2 (biases)\n",
    "logger.info('Optimizer groups: %g .bias, %g conv.weight, %g other' % (len(pg2), len(pg1), len(pg0)))\n",
    "del pg0, pg1, pg2\n",
    "\n",
    "# Scheduler https://arxiv.org/pdf/1812.01187.pdf\n",
    "# https://pytorch.org/docs/stable/_modules/torch/optim/lr_scheduler.html#OneCycleLR\n",
    "if opt.linear_lr:\n",
    "    lf = lambda x: (1 - x / (epochs - 1)) * (1.0 - hyp['lrf']) + hyp['lrf']  # linear\n",
    "else:\n",
    "    lf = one_cycle(1, hyp['lrf'], epochs)  # cosine 1->hyp['lrf']\n",
    "scheduler = lr_scheduler.LambdaLR(optimizer, lr_lambda=lf)\n",
    "# plot_lr_scheduler(optimizer, scheduler, epochs)"
   ]
  },
  {
   "cell_type": "code",
   "execution_count": 15,
   "metadata": {},
   "outputs": [],
   "source": [
    "# EMA\n",
    "ema = ModelEMA(model) if rank in [-1, 0] else None\n",
    "\n",
    "# Resume\n",
    "start_epoch, best_fitness = 0, 0.0\n",
    "if pretrained:\n",
    "    # Optimizer\n",
    "    if ckpt['optimizer'] is not None:\n",
    "        optimizer.load_state_dict(ckpt['optimizer'])\n",
    "        best_fitness = ckpt['best_fitness']\n",
    "\n",
    "    # EMA\n",
    "    if ema and ckpt.get('ema'):\n",
    "        ema.ema.load_state_dict(ckpt['ema'].float().state_dict())\n",
    "        ema.updates = ckpt['updates']\n",
    "\n",
    "    # Results\n",
    "    if ckpt.get('training_results') is not None:\n",
    "        results_file.write_text(ckpt['training_results'])  # write results.txt\n",
    "\n",
    "    # Epochs\n",
    "    start_epoch = ckpt['epoch'] + 1\n",
    "    if opt.resume:\n",
    "        assert start_epoch > 0, '%s training to %g epochs is finished, nothing to resume.' % (weights, epochs)\n",
    "    if epochs < start_epoch:\n",
    "        logger.info('%s has been trained for %g epochs. Fine-tuning for %g additional epochs.' %\n",
    "                    (weights, ckpt['epoch'], epochs))\n",
    "        epochs += ckpt['epoch']  # finetune additional epochs\n",
    "\n",
    "    del ckpt, state_dict"
   ]
  },
  {
   "cell_type": "code",
   "execution_count": 16,
   "metadata": {},
   "outputs": [],
   "source": [
    "# Image sizes\n",
    "gs = max(int(model.stride.max()), 32)  # grid size (max stride)\n",
    "nl = model.model[-1].nl  # number of detection layers (used for scaling hyp['obj'])\n",
    "imgsz, imgsz_test = [check_img_size(x, gs) for x in opt.img_size]  # verify imgsz are gs-multiples"
   ]
  },
  {
   "cell_type": "code",
   "execution_count": 17,
   "metadata": {},
   "outputs": [],
   "source": [
    "# DP mode\n",
    "if cuda and rank == -1 and torch.cuda.device_count() > 1:\n",
    "    model = torch.nn.DataParallel(model)\n",
    "\n",
    "# SyncBatchNorm\n",
    "if opt.sync_bn and cuda and rank != -1:\n",
    "    model = torch.nn.SyncBatchNorm.convert_sync_batchnorm(model).to(device)\n",
    "    logger.info('Using SyncBatchNorm()')\n"
   ]
  },
  {
   "cell_type": "code",
   "execution_count": 18,
   "metadata": {},
   "outputs": [
    {
     "name": "stderr",
     "output_type": "stream",
     "text": [
      "\u001b[34m\u001b[1mtrain: \u001b[0mScanning 'custom_data_multilabels/labels/train.cache' images and labels... 36498 found, 0 missing, 0 empty, 0 corrupted: 100%|██████████| 36498/36498 [00:00<?, ?it/s]\n"
     ]
    }
   ],
   "source": [
    "# Trainloader\n",
    "dataloader, dataset = create_dataloader(train_path, imgsz, batch_size, gs, opt,\n",
    "                                        hyp=hyp, augment=False, cache=opt.cache_images, rect=opt.rect, rank=rank,\n",
    "                                        world_size=opt.world_size, workers=opt.workers,\n",
    "                                        image_weights=opt.image_weights, quad=opt.quad, prefix=colorstr('train: '))\n",
    "mlc = np.concatenate(dataset.labels, 0).shape[1] -5  # max label class\n",
    "nb = len(dataloader)  # number of batches\n",
    "assert mlc < nc + 1, 'Label class %g exceeds nc=%g in %s. Possible class labels are 0-%g' % (mlc, nc, opt.data, nc - 1)"
   ]
  },
  {
   "cell_type": "code",
   "execution_count": 19,
   "metadata": {},
   "outputs": [
    {
     "name": "stderr",
     "output_type": "stream",
     "text": [
      "\u001b[34m\u001b[1mval: \u001b[0mScanning 'custom_data_multilabels/labels/val.cache' images and labels... 4562 found, 0 missing, 0 empty, 0 corrupted: 100%|██████████| 4562/4562 [00:00<?, ?it/s]\n"
     ]
    },
    {
     "name": "stdout",
     "output_type": "stream",
     "text": [
      "\n",
      "\u001b[34m\u001b[1mautoanchor: \u001b[0mAnalyzing anchors... anchors/target = 5.65, Best Possible Recall (BPR) = 0.9820\n"
     ]
    }
   ],
   "source": [
    "if rank in [-1, 0]:\n",
    "    testloader = create_dataloader(test_path, imgsz_test, batch_size * 2, gs, opt,  # testloader\n",
    "                                    hyp=hyp, cache=opt.cache_images and not opt.notest, rect=True, rank=-1,\n",
    "                                    world_size=opt.world_size, workers=opt.workers,\n",
    "                                    pad=0.5, prefix=colorstr('val: '), \n",
    "                                    nc = nc)[0]\n",
    "\n",
    "    if not opt.resume:\n",
    "        labels = np.concatenate(dataset.labels, 0)\n",
    "        c = np.where(labels[:,5:] == 1)[1]  # classes\n",
    "        # cf = torch.bincount(c.long(), minlength=nc) + 1.  # frequency\n",
    "        # model._initialize_biases(cf.to(device))\n",
    "        if plots:\n",
    "            #plot_labels(labels, names, save_dir, loggers)\n",
    "            if tb_writer:\n",
    "                tb_writer.add_histogram('classes', c, 0)\n",
    "\n",
    "        # Anchors\n",
    "        if not opt.noautoanchor:\n",
    "            check_anchors(dataset, model=model, thr=hyp['anchor_t'], imgsz=imgsz)\n",
    "        model.half().float()  # pre-reduce anchor precision\n"
   ]
  },
  {
   "cell_type": "code",
   "execution_count": 20,
   "metadata": {},
   "outputs": [],
   "source": [
    "if cuda and rank != -1:\n",
    "    model = DDP(model, device_ids=[opt.local_rank], output_device=opt.local_rank,\n",
    "                # nn.MultiheadAttention incompatibility with DDP https://github.com/pytorch/pytorch/issues/26698\n",
    "                find_unused_parameters=any(isinstance(layer, nn.MultiheadAttention) for layer in model.modules()))\n"
   ]
  },
  {
   "cell_type": "code",
   "execution_count": 21,
   "metadata": {},
   "outputs": [],
   "source": [
    "# Model parameters\n",
    "hyp['box'] *= 3. / nl  # scale to layers\n",
    "hyp['cls'] *= nc / 80. * 3. / nl  # scale to classes and layers\n",
    "hyp['obj'] *= (imgsz / 640) ** 2 * 3. / nl  # scale to image size and layers\n",
    "hyp['label_smoothing'] = opt.label_smoothing\n",
    "model.nc = nc  # attach number of classes to model\n",
    "model.hyp = hyp  # attach hyperparameters to model\n",
    "model.gr = 1.0  # iou loss ratio (obj_loss = 1.0 or iou)\n",
    "model.class_weights = labels_to_class_weights(dataset.labels, nc).to(device) * nc  # attach class weights\n",
    "model.names = names"
   ]
  },
  {
   "cell_type": "code",
   "execution_count": 22,
   "metadata": {},
   "outputs": [
    {
     "name": "stderr",
     "output_type": "stream",
     "text": [
      "Image sizes 1280 train, 1280 test\n",
      "Using 0 dataloader workers\n",
      "Logging results to runs/train/exp\n",
      "Starting training for 10 epochs...\n"
     ]
    }
   ],
   "source": [
    "# Start training\n",
    "t0 = time.time()\n",
    "nw = max(round(hyp['warmup_epochs'] * nb), 1000)  # number of warmup iterations, max(3 epochs, 1k iterations)\n",
    "# nw = min(nw, (epochs - start_epoch) / 2 * nb)  # limit warmup to < 1/2 of training\n",
    "maps = np.zeros(nc)  # mAP per class\n",
    "results = (0, 0, 0, 0, 0, 0, 0)  # P, R, mAP@.5, mAP@.5-.95, val_loss(box, obj, cls)\n",
    "scheduler.last_epoch = start_epoch - 1  # do not move\n",
    "scaler = amp.GradScaler(enabled=cuda)\n",
    "compute_loss_ota = ComputeLossAuxOTA(model)  # init loss class\n",
    "compute_loss = ComputeLoss(model)  # init loss class\n",
    "logger.info(f'Image sizes {imgsz} train, {imgsz_test} test\\n'\n",
    "            f'Using {dataloader.num_workers} dataloader workers\\n'\n",
    "            f'Logging results to {save_dir}\\n'\n",
    "            f'Starting training for {epochs} epochs...')\n",
    "# torch.save(model, wdir / 'init.pt')"
   ]
  },
  {
   "cell_type": "code",
   "execution_count": 25,
   "metadata": {},
   "outputs": [
    {
     "name": "stderr",
     "output_type": "stream",
     "text": [
      "\n",
      "     Epoch   gpu_mem       box       obj       cls     total    labels  img_size\n"
     ]
    },
    {
     "name": "stdout",
     "output_type": "stream",
     "text": [
      "0\n"
     ]
    },
    {
     "name": "stderr",
     "output_type": "stream",
     "text": [
      "  0%|          | 0/36498 [00:00<?, ?it/s]"
     ]
    },
    {
     "name": "stdout",
     "output_type": "stream",
     "text": [
      "torch.Size([4, 234])\n"
     ]
    },
    {
     "name": "stderr",
     "output_type": "stream",
     "text": [
      "  0%|          | 0/36498 [00:00<?, ?it/s]"
     ]
    },
    {
     "name": "stdout",
     "output_type": "stream",
     "text": [
      "tensor([0.59060], device='cuda:0')\n"
     ]
    },
    {
     "name": "stderr",
     "output_type": "stream",
     "text": [
      "\n"
     ]
    }
   ],
   "source": [
    "for epoch in range(start_epoch, epochs):  # epoch ------------------------------------------------------------------\n",
    "    with torch.no_grad():\n",
    "        model.train()\n",
    "        print(epoch)\n",
    "        # Update image weights (optional)\n",
    "        if opt.image_weights:\n",
    "            # Generate indices\n",
    "            if rank in [-1, 0]:\n",
    "                cw = model.class_weights.cpu().numpy() * (1 - maps) ** 2 / nc  # class weights\n",
    "                iw = labels_to_image_weights(dataset.labels, nc=nc, class_weights=cw)  # image weights\n",
    "                dataset.indices = random.choices(range(dataset.n), weights=iw, k=dataset.n)  # rand weighted idx\n",
    "            # Broadcast if DDP\n",
    "            if rank != -1:\n",
    "                indices = (torch.tensor(dataset.indices) if rank == 0 else torch.zeros(dataset.n)).int()\n",
    "                dist.broadcast(indices, 0)\n",
    "                if rank != 0:\n",
    "                    dataset.indices = indices.cpu().numpy()\n",
    "\n",
    "        # Update mosaic border\n",
    "        # b = int(random.uniform(0.25 * imgsz, 0.75 * imgsz + gs) // gs * gs)\n",
    "        # dataset.mosaic_border = [b - imgsz, -b]  # height, width borders\n",
    "\n",
    "        mloss = torch.zeros(4, device=device)  # mean losses\n",
    "        if rank != -1:\n",
    "            dataloader.sampler.set_epoch(epoch)\n",
    "        pbar = enumerate(dataloader)\n",
    "        logger.info(('\\n' + '%10s' * 8) % ('Epoch', 'gpu_mem', 'box', 'obj', 'cls', 'total', 'labels', 'img_size'))\n",
    "        if rank in [-1, 0]:\n",
    "            pbar = tqdm(pbar, total=nb)  # progress bar\n",
    "        optimizer.zero_grad()\n",
    "        for i, (imgs, targets, paths, _) in pbar:  # batch -------------------------------------------------------------\n",
    "            ni = i + nb * epoch  # number integrated batches (since train start)\n",
    "            imgs = imgs.to(device, non_blocking=True).float() / 255.0  # uint8 to float32, 0-255 to 0.0-1.0\n",
    "\n",
    "            # Warmup\n",
    "            if ni <= nw:\n",
    "                xi = [0, nw]  # x interp\n",
    "                # model.gr = np.interp(ni, xi, [0.0, 1.0])  # iou loss ratio (obj_loss = 1.0 or iou)\n",
    "                accumulate = max(1, np.interp(ni, xi, [1, nbs / total_batch_size]).round())\n",
    "                for j, x in enumerate(optimizer.param_groups):\n",
    "                    # bias lr falls from 0.1 to lr0, all other lrs rise from 0.0 to lr0\n",
    "                    x['lr'] = np.interp(ni, xi, [hyp['warmup_bias_lr'] if j == 2 else 0.0, x['initial_lr'] * lf(epoch)])\n",
    "                    if 'momentum' in x:\n",
    "                        x['momentum'] = np.interp(ni, xi, [hyp['warmup_momentum'], hyp['momentum']])\n",
    "\n",
    "            # Multi-scale\n",
    "            if opt.multi_scale:\n",
    "                sz = random.randrange(imgsz * 0.5, imgsz * 1.5 + gs) // gs * gs  # size\n",
    "                sf = sz / max(imgs.shape[2:])  # scale factor\n",
    "                if sf != 1:\n",
    "                    ns = [math.ceil(x * sf / gs) * gs for x in imgs.shape[2:]]  # new shape (stretched to gs-multiple)\n",
    "                    imgs = F.interpolate(imgs, size=ns, mode='bilinear', align_corners=False)\n",
    "            # print(imgs)\n",
    "            print(targets.shape)\n",
    "            # Forward\n",
    "            with amp.autocast(enabled=cuda):\n",
    "                pred = model(imgs)  # forward\n",
    "                loss, loss_items = compute_loss_ota(pred, targets.to(device), imgs)\n",
    "                # print(pred)\n",
    "                # torch.save(pred,'predict_sample.pt')\n",
    "                # torch.save(targets, 'target_sample.pt')\n",
    "                # torch.save(imgs, 'imgs_sample.pt')\n",
    "                # loss, loss_items = compute_loss(pred, targets.to(device))\n",
    "                print(loss)\n",
    "            break\n",
    "        \n",
    "        # if rank in [-1, 0]:\n",
    "        #         # mAP\n",
    "        #         ema.update_attr(model, include=['yaml', 'nc', 'hyp', 'gr', 'names', 'stride', 'class_weights'])\n",
    "        #         final_epoch = epoch + 1 == epochs\n",
    "        #         if not opt.notest or final_epoch:  # Calculate mAP\n",
    "        #             wandb_logger.current_epoch = epoch + 1\n",
    "        #             results, maps, times = test.test(data_dict,\n",
    "        #                                             batch_size=batch_size * 2,\n",
    "        #                                             imgsz=imgsz_test,\n",
    "        #                                             model=ema.ema,\n",
    "        #                                             single_cls=opt.single_cls,\n",
    "        #                                             dataloader=testloader,\n",
    "        #                                             save_dir=save_dir,\n",
    "        #                                             verbose=nc < 50 and final_epoch,\n",
    "        #                                             plots=plots and final_epoch,\n",
    "        #                                             wandb_logger=wandb_logger,\n",
    "        #                                             compute_loss=compute_loss,\n",
    "        #                                             is_coco=is_coco,\n",
    "        #                                             v5_metric=opt.v5_metric)\n",
    "        \n",
    "        break\n"
   ]
  },
  {
   "cell_type": "code",
   "execution_count": 26,
   "metadata": {},
   "outputs": [],
   "source": [
    "import torch\n",
    "\n",
    "a = torch.tensor([[0,1],\n",
    "                  [0,2],\n",
    "                  [0,3]])"
   ]
  },
  {
   "cell_type": "code",
   "execution_count": 27,
   "metadata": {},
   "outputs": [
    {
     "data": {
      "text/plain": [
       "tensor([[0, 1],\n",
       "        [0, 2],\n",
       "        [0, 3]])"
      ]
     },
     "execution_count": 27,
     "metadata": {},
     "output_type": "execute_result"
    }
   ],
   "source": [
    "a"
   ]
  },
  {
   "cell_type": "code",
   "execution_count": 28,
   "metadata": {},
   "outputs": [
    {
     "data": {
      "text/plain": [
       "tensor([0, 1])"
      ]
     },
     "execution_count": 28,
     "metadata": {},
     "output_type": "execute_result"
    }
   ],
   "source": [
    "a[0]"
   ]
  },
  {
   "cell_type": "code",
   "execution_count": 30,
   "metadata": {},
   "outputs": [
    {
     "data": {
      "text/plain": [
       "tensor([1])"
      ]
     },
     "execution_count": 30,
     "metadata": {},
     "output_type": "execute_result"
    }
   ],
   "source": [
    "torch.where(a[0] == 1)[0]"
   ]
  },
  {
   "cell_type": "code",
   "execution_count": null,
   "metadata": {},
   "outputs": [],
   "source": []
  }
 ],
 "metadata": {
  "kernelspec": {
   "display_name": "layoutlmv3",
   "language": "python",
   "name": "python3"
  },
  "language_info": {
   "codemirror_mode": {
    "name": "ipython",
    "version": 3
   },
   "file_extension": ".py",
   "mimetype": "text/x-python",
   "name": "python",
   "nbconvert_exporter": "python",
   "pygments_lexer": "ipython3",
   "version": "3.9.16"
  },
  "orig_nbformat": 4
 },
 "nbformat": 4,
 "nbformat_minor": 2
}
